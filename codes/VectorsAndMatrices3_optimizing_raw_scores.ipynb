{
  "cells": [
    {
      "cell_type": "markdown",
      "metadata": {
        "id": "M7g7bxFCHxGP"
      },
      "source": [
        "$${\\color{yellow}{\\text{Applied Linear Algebra: Vectors and Matrices}}}$$\n",
        "\n"
      ]
    },
    {
      "cell_type": "markdown",
      "metadata": {
        "id": "H6RvcDldxHPO"
      },
      "source": [
        "---\n",
        "\n",
        "Restart the session after executing the following cell\n",
        "\n",
        "---"
      ]
    },
    {
      "cell_type": "code",
      "execution_count": 1,
      "metadata": {
        "colab": {
          "base_uri": "https://localhost:8080/"
        },
        "id": "LapV0XR-wxSI",
        "outputId": "91be9d2d-4937-44bd-ddd2-2c27deea374f"
      },
      "outputs": [
        {
          "name": "stdout",
          "output_type": "stream",
          "text": [
            "Requirement already satisfied: gensim in /home/user/miniconda3/envs/ALA/lib/python3.9/site-packages (4.3.3)\n",
            "Requirement already satisfied: numpy<2.0,>=1.18.5 in /home/user/miniconda3/envs/ALA/lib/python3.9/site-packages (from gensim) (1.26.4)\n",
            "Requirement already satisfied: scipy<1.14.0,>=1.7.0 in /home/user/miniconda3/envs/ALA/lib/python3.9/site-packages (from gensim) (1.13.1)\n",
            "Requirement already satisfied: smart-open>=1.8.1 in /home/user/miniconda3/envs/ALA/lib/python3.9/site-packages (from gensim) (7.3.1)\n",
            "Requirement already satisfied: wrapt in /home/user/miniconda3/envs/ALA/lib/python3.9/site-packages (from smart-open>=1.8.1->gensim) (1.17.3)\n"
          ]
        }
      ],
      "source": [
        "!pip install gensim"
      ]
    },
    {
      "cell_type": "code",
      "execution_count": 2,
      "metadata": {
        "id": "2Gc9U_HRv-OQ"
      },
      "outputs": [],
      "source": [
        "!pip install yfinance --quiet"
      ]
    },
    {
      "cell_type": "markdown",
      "metadata": {
        "id": "jDK9fC6uiBGE"
      },
      "source": [
        "---\n",
        "\n",
        "Load essential libraries\n",
        "\n",
        "---"
      ]
    },
    {
      "cell_type": "code",
      "execution_count": 3,
      "metadata": {
        "id": "20W0d4ruQjE4"
      },
      "outputs": [],
      "source": [
        "import numpy as np\n",
        "import pandas as pd\n",
        "import torch\n",
        "import matplotlib.pyplot as plt\n",
        "plt.style.use('dark_background')\n",
        "%matplotlib inline\n",
        "import sys\n",
        "from sklearn.preprocessing import StandardScaler, OneHotEncoder, MinMaxScaler\n",
        "import nltk\n",
        "#import gensim.downloader\n",
        "from nltk.tokenize import word_tokenize\n",
        "import yfinance as yf\n",
        "import seaborn as sns"
      ]
    },
    {
      "cell_type": "markdown",
      "metadata": {
        "id": "sfYXkqmLiVLM"
      },
      "source": [
        "---\n",
        "\n",
        "Mount Google Drive folder if running Google Colab\n",
        "\n",
        "---"
      ]
    },
    {
      "cell_type": "code",
      "execution_count": null,
      "metadata": {
        "colab": {
          "base_uri": "https://localhost:8080/"
        },
        "id": "VYzBBBxqiaGa",
        "outputId": "63f4067a-d766-4bef-8c5e-dfcb9c95e05c"
      },
      "outputs": [],
      "source": [
        "## Mount Google drive folder if running in Colab\n",
        "if('google.colab' in sys.modules):\n",
        "    from google.colab import drive\n",
        "    drive.mount('/content/drive', force_remount = True)\n",
        "    DIR = '/content/drive/MyDrive/Colab Notebooks/ALA'\n",
        "    DATA_DIR = DIR+'/Data/'\n",
        "else:\n",
        "    DATA_DIR = '../Data/'"
      ]
    },
    {
      "cell_type": "markdown",
      "metadata": {
        "id": "avVZ6D1ZgEUT"
      },
      "source": [
        "---\n",
        "\n",
        "**We will now use Pytorch to create tensors**\n",
        "\n",
        "The patient data matrix:\n",
        "\n",
        "![patient data matrix](https://1drv.ms/i/s!AjTcbXuSD3I3hsxIkL4V93-CGq8RkQ?embed=1&width=1000)\n",
        "\n",
        "**Notation**:\n",
        "\n",
        "Zeroth patient vector $\\mathbf{x}^{(0)}= \\begin{bmatrix}72\\\\120\\\\37.3\\\\104\\\\32.5\\end{bmatrix}$ and zeroth feature (heart rate vector) $\\mathbf{x}_0 = \\begin{bmatrix}72\\\\85\\\\68\\\\90\\\\84\\\\78\\end{bmatrix}.$\n",
        "\n",
        "---\n",
        "\n"
      ]
    },
    {
      "cell_type": "code",
      "execution_count": null,
      "metadata": {
        "colab": {
          "base_uri": "https://localhost:8080/"
        },
        "id": "zrPnepAEvr0O",
        "outputId": "0a3bd648-a87a-4aee-e321-eeade3124734"
      },
      "outputs": [
        {
          "name": "stdout",
          "output_type": "stream",
          "text": [
            "tensor([[ 72.0000, 120.0000,  37.3000, 104.0000,  32.5000],\n",
            "        [ 85.0000, 130.0000,  37.0000, 110.0000,  14.0000],\n",
            "        [ 68.0000, 110.0000,  38.5000, 125.0000,  34.0000],\n",
            "        [ 90.0000, 140.0000,  38.0000, 130.0000,  26.0000],\n",
            "        [ 84.0000, 132.0000,  38.3000, 146.0000,  30.0000],\n",
            "        [ 78.0000, 128.0000,  37.2000, 102.0000,  12.0000]])\n",
            "torch.Size([6, 5])\n",
            "<class 'torch.Tensor'>\n",
            "tensor([ 72.0000, 120.0000,  37.3000, 104.0000,  32.5000])\n",
            "tensor([ 72.0000, 120.0000,  37.3000, 104.0000,  32.5000])\n",
            "------------\n",
            "tensor(37.3000)\n",
            "tensor([37.3000, 37.0000, 38.5000, 38.0000, 38.3000, 37.2000])\n"
          ]
        }
      ],
      "source": [
        "## Create a patient data matrix as a constant tensor\n",
        "X = torch.tensor([[72, 120, 37.3, 104, 32.5],\n",
        "                  [85, 130, 37.0, 110, 14],\n",
        "                  [68, 110, 38.5, 125, 34],\n",
        "                  [90, 140, 38.0, 130, 26],\n",
        "                  [84, 132, 38.3, 146, 30],\n",
        "                  [78, 128, 37.2, 102, 12]])\n",
        "print(X)\n",
        "print(X.shape)\n",
        "print(type(X))\n",
        "print(X[0]) # this is patient-0 information which is a rank-1 tensor\n",
        "print(X[0, :]) # patient-0 all features\n",
        "print('------------')\n",
        "print(X[0, 2]) # feature-2 of patient-0, temperature of patient-0\n",
        "print(X[:, 2]) # feature-2 of all patients, temperature of all patients"
      ]
    },
    {
      "cell_type": "markdown",
      "metadata": {
        "id": "cevtn_b4gek5"
      },
      "source": [
        "---\n",
        "\n",
        "**Convert a PyTorch object into a numpy array**\n",
        "\n",
        "---"
      ]
    },
    {
      "cell_type": "code",
      "execution_count": null,
      "metadata": {
        "id": "JrYQ2moygfPu"
      },
      "outputs": [],
      "source": [
        "print(X.numpy())\n",
        "print(type(X.numpy()))"
      ]
    },
    {
      "cell_type": "markdown",
      "metadata": {
        "id": "QS3MmzwsgkWU"
      },
      "source": [
        "---\n",
        "\n",
        "**Addition and subtraction of vectors, scalar multiplication (apply operation componentwise)**\n",
        "\n",
        "![vector addition](https://1drv.ms/i/c/37720f927b6ddc34/IQQ03G17kg9yIIA3NokBAAAAAZLAaAoWwhtn8Vk26NotALo?width=256)\n",
        "\n",
        "![vector subtracton](https://1drv.ms/i/c/37720f927b6ddc34/IQQ03G17kg9yIIA3M4kBAAAAAU_n_mAEv006QFZm_sUj2Dc?width=256)\n",
        "\n",
        "![vector multiplication](https://1drv.ms/i/c/37720f927b6ddc34/IQQ03G17kg9yIIA3NIkBAAAAAa_qL04bLT4kWoNeHcrR9LQ?width=256)\n",
        "\n",
        "![vector geometry1](https://1drv.ms/i/c/37720f927b6ddc34/IQSGNMr5z3SSRry7LSKL7LybAcGYuzgw5smabV8-6DudXIs?width=230)\n",
        "\n",
        "![vector geometry2](https://1drv.ms/i/c/37720f927b6ddc34/IQQ03G17kg9yIIA3WokBAAAAAQi8FPV9YCebl5WnyEKJ3vg?width=213&height=192)\n",
        "\n",
        "\n",
        "---"
      ]
    },
    {
      "cell_type": "code",
      "execution_count": null,
      "metadata": {
        "id": "TgPtJP0sglQP"
      },
      "outputs": [],
      "source": [
        "# Vector addition\n",
        "print(X[1, :] + X[2, :])\n",
        "\n",
        "# Vector subtraction\n",
        "print(X[1, :] - X[2, :])\n",
        "\n",
        "# Scalar-vector multiplication\n",
        "print(X[:, 2])\n",
        "print((9/5)*X[:, 2]+32) # 0peration not defined in pen & paper but in computation is referred to as\n",
        "# broadcasting\n",
        "\n",
        "# Average patient\n",
        "x_avg = (1/6)*(X[0, :] + X[1, :] + X[2, :] + X[3, :] + X[4, :] + X[5, :])\n",
        "x_avg = torch.mean(X, dim = 0) # dim = 0 means top-to-bottom or along dim-0\n",
        "\n",
        "# Another broadcasting example\n",
        "print(X)\n",
        "print(x_avg)\n",
        "print(X - x_avg)"
      ]
    },
    {
      "cell_type": "markdown",
      "metadata": {
        "id": "1t_qXrlCROKA"
      },
      "source": [
        "---\n",
        "\n",
        "Application of vector subtraction in natural language processing (NLP): download the word embedding model trained on Wikipedia articles.\n",
        "\n",
        "---"
      ]
    },
    {
      "cell_type": "code",
      "execution_count": null,
      "metadata": {
        "colab": {
          "base_uri": "https://localhost:8080/"
        },
        "id": "_e13FnW0RUwy",
        "outputId": "48d2b766-be90-49a9-e61a-00a1d76d7150"
      },
      "outputs": [
        {
          "name": "stdout",
          "output_type": "stream",
          "text": [
            "[==================================================] 100.0% 66.0/66.0MB downloaded\n"
          ]
        }
      ],
      "source": [
        "model = gensim.downloader.load('glove-wiki-gigaword-50')"
      ]
    },
    {
      "cell_type": "markdown",
      "metadata": {
        "id": "7YRVJferRlK5"
      },
      "source": [
        "---\n",
        "\n",
        "Now we will see what embedding vector comes as a result of applying the model for the words *cricket* and *football*.\n",
        "\n",
        "Next, we will do an *intuitive* subtraction of word embeddings as in\n",
        "\n",
        "1. Cricket without Tendulkar\n",
        "2. Football without Messi\n",
        "\n",
        "Note that the embedding vectors have 50 components corresponding to the 50-dimensional embedding of model suggested by the name '**glove-wiki-gigaword-50**'\n",
        "\n",
        "---"
      ]
    },
    {
      "cell_type": "code",
      "execution_count": null,
      "metadata": {
        "colab": {
          "base_uri": "https://localhost:8080/"
        },
        "id": "HVVFzeQyR3Wb",
        "outputId": "9873de83-93cf-46bf-9fbf-f5d6e55a0ed0"
      },
      "outputs": [
        {
          "name": "stdout",
          "output_type": "stream",
          "text": [
            "[-0.7716      0.41267997 -1.725968   -0.10445005 -1.1475699  -0.854661\n",
            " -1.089      -0.08342999  0.62349    -1.67822    -0.2488078  -0.49199998\n",
            "  0.18756002 -1.67098     0.6117872   0.42784432  1.05656     0.91583097\n",
            " -0.03299999 -0.04422501  0.200326   -0.33737004  0.31068     1.37842\n",
            " -1.13689    -0.57445    -0.70685995  0.41552    -0.28937     0.54485\n",
            "  1.0492998   0.62732    -0.8105     -1.27723    -0.02612001  0.53963\n",
            " -0.14065999 -0.738244   -0.30487    -1.18129     0.05651999 -0.993618\n",
            " -0.911399   -0.09289992  0.535432    0.26259995 -0.63031     0.64473\n",
            "  0.77843     0.15099996]\n",
            "[-2.06898     0.66804904 -1.077512    0.79964995 -0.27109998 -0.26289004\n",
            " -0.881       0.377503   -0.10869002 -2.47329    -0.23453003 -0.58438\n",
            "  0.10404003 -0.52671003 -0.03030002  0.237764    0.19168997  1.60344\n",
            " -0.42980003  0.59058     0.59800005 -0.67075     0.45888     1.4538\n",
            " -1.15642    -1.63534    -1.1248189  -0.20879    -0.00812     0.25545004\n",
            "  1.92044     0.30049008  0.19949001 -0.675167   -0.15230002  0.13278002\n",
            " -0.29492003 -0.55414    -0.30988902 -0.34549004 -0.72603    -1.20504\n",
            " -0.45038998  0.51834     0.12448996  0.787596   -1.13398     0.91365004\n",
            " -0.280479    0.76741004]\n",
            "[ 1.29738    -0.25536907 -0.648456   -0.9041     -0.8764699  -0.59177095\n",
            " -0.208      -0.460933    0.73218     0.79506993 -0.01427777  0.09237999\n",
            "  0.08352    -1.14427     0.6420872   0.19008031  0.8648701  -0.6876091\n",
            "  0.39680004 -0.63480496 -0.39767405  0.33337998 -0.1482     -0.07537997\n",
            "  0.01952994  1.06089     0.41795897  0.62431    -0.28125     0.28939995\n",
            " -0.8711401   0.3268299  -1.00999    -0.602063    0.12618001  0.40684998\n",
            "  0.15426004 -0.18410403  0.00501901 -0.8358      0.78255     0.21142197\n",
            " -0.46100903 -0.6112399   0.41094202 -0.52499604  0.50367004 -0.26892006\n",
            "  1.0589089  -0.6164101 ]\n"
          ]
        }
      ],
      "source": [
        "# Cricket without Tendulkar\n",
        "a = model['cricket'] - model['tendulkar']\n",
        "\n",
        "# Football without Messi\n",
        "b = model['football'] - model['messi']\n",
        "print(a)\n",
        "print(b)\n",
        "\n",
        "# How different is cricket-without-tendulkar from\n",
        "# football-without-messi?\n",
        "print(a-b)"
      ]
    },
    {
      "cell_type": "markdown",
      "metadata": {
        "id": "O6nbdX9IAYu6"
      },
      "source": [
        "---\n",
        "\n",
        "Understanding pen & paper versions of tensors w.r.t. their representations in the code\n",
        "\n",
        "---"
      ]
    },
    {
      "cell_type": "code",
      "execution_count": null,
      "metadata": {
        "colab": {
          "base_uri": "https://localhost:8080/"
        },
        "id": "WhYNdr8DAj2V",
        "outputId": "2f67dea3-50c7-46b6-94e2-5363a81708fd"
      },
      "outputs": [
        {
          "name": "stdout",
          "output_type": "stream",
          "text": [
            "tensor([1., 2., 3.], dtype=torch.float64)\n",
            "torch.Size([3])\n",
            "-------\n",
            "tensor([[1., 2., 3.]], dtype=torch.float64)\n",
            "torch.Size([1, 3])\n",
            "tensor([[1.],\n",
            "        [2.],\n",
            "        [3.]], dtype=torch.float64)\n",
            "torch.Size([3, 1])\n"
          ]
        }
      ],
      "source": [
        "# Pen & paper: 3-vector, Code: rank-1 tensor\n",
        "a_vector = torch.tensor([1.0, 2.0, 3.0], dtype = torch.float64)\n",
        "print(a_vector)\n",
        "print(a_vector.shape)\n",
        "print('-------')\n",
        "# Pen & paper: 1x3-matrix, Code: rank-2 tensor\n",
        "a_matrix_version1 = torch.tensor([[1.0, 2.0, 3.0]], dtype = torch.float64)\n",
        "print(a_matrix_version1)\n",
        "print(a_matrix_version1.shape)\n",
        "# Pen & paper: 3x1-matrix, Code: rank-2 tensor\n",
        "a_matrix_version2 = torch.tensor([[1.0], [2.0], [3.0]], dtype = torch.float64)\n",
        "print(a_matrix_version2)\n",
        "print(a_matrix_version2.shape)"
      ]
    },
    {
      "cell_type": "markdown",
      "metadata": {
        "id": "8VPICS8ggvvg"
      },
      "source": [
        "---\n",
        "\n",
        "A tensor of rank 3 corresponding to 4 time stamps (hourly), 3 samples (patients), 2 features (HR and BP). Assume that admission time is 9AM.\n",
        "\n",
        "---"
      ]
    },
    {
      "cell_type": "code",
      "execution_count": null,
      "metadata": {
        "colab": {
          "base_uri": "https://localhost:8080/"
        },
        "id": "yQAvgkRkWAM8",
        "outputId": "88d07b21-877a-4c50-c991-67866dd916ef"
      },
      "outputs": [
        {
          "name": "stdout",
          "output_type": "stream",
          "text": [
            "tensor([[[ 74., 128.],\n",
            "         [ 79., 116.],\n",
            "         [ 71., 116.]],\n",
            "\n",
            "        [[ 78., 118.],\n",
            "         [ 82., 124.],\n",
            "         [ 72., 128.]],\n",
            "\n",
            "        [[ 84., 138.],\n",
            "         [ 84., 130.],\n",
            "         [ 74., 120.]],\n",
            "\n",
            "        [[ 82., 126.],\n",
            "         [ 76., 156.],\n",
            "         [ 82., 132.]]])\n"
          ]
        }
      ],
      "source": [
        "# A rank-3 patient tensor with shape (4, 3, 2)\n",
        "# with meaning for\n",
        "# dim-0 as 4 hourly timestamps,\n",
        "# dim-1 as 3 patients, and\n",
        "# dim-2 as 2 features (HR and BP)\n",
        "# T = torch.tensor([[[HR, BP], [HR, BP], [HR, BP]],\n",
        "#                   [[HR, BP], [HR, BP], [HR, BP]],\n",
        "#                   [[HR, BP], [HR, BP], [HR, BP]],\n",
        "#                   [[HR, BP], [HR, BP], [HR, BP]]])\n",
        "T = torch.tensor([[[74., 128], [79, 116], [71, 116]],\n",
        "                 [[78, 118], [82, 124], [72, 128]],\n",
        "                 [[84, 138], [84, 130], [74, 120]],\n",
        "                 [[82, 126], [76, 156], [82, 132]]])\n",
        "print(T)"
      ]
    },
    {
      "cell_type": "markdown",
      "metadata": {
        "id": "JV0fpSojg2EZ"
      },
      "source": [
        "---\n",
        "\n",
        "**Accessing elements of a tensor**\n",
        "\n",
        "---"
      ]
    },
    {
      "cell_type": "code",
      "execution_count": null,
      "metadata": {
        "colab": {
          "base_uri": "https://localhost:8080/"
        },
        "id": "1GbZuDYqg22n",
        "outputId": "aba0e494-b6a7-40e2-e69a-4efc32571b32"
      },
      "outputs": [
        {
          "name": "stdout",
          "output_type": "stream",
          "text": [
            "tensor(132.)\n",
            "tensor([[ 74., 128.],\n",
            "        [ 79., 116.],\n",
            "        [ 71., 116.]])\n",
            "tensor([[ 82., 126.],\n",
            "        [ 76., 156.],\n",
            "        [ 82., 132.]])\n"
          ]
        },
        {
          "data": {
            "text/plain": [
              "tensor([ 82., 132.])"
            ]
          },
          "execution_count": 8,
          "metadata": {},
          "output_type": "execute_result"
        }
      ],
      "source": [
        "## Accessing elements of a tensor\n",
        "# Rank-3 tensor T has axes order (timestamps, patients, features)\n",
        "\n",
        "# Element of T at postion 3 w.r.t. dim-0, position 2 w.r.t. dim-1,\n",
        "# position-1 w.r.t dim-2\n",
        "print(T[3, 2, 1]) # BP of patient-2 at noon\n",
        "\n",
        "\n",
        "# Element-0 of object T which is also the info for all patients at\n",
        "# admission time 9AM\n",
        "print(T[0]) # patients' info at admission time\n",
        "print(T[-1]) # first element of T from the tail, patients' info at noon\n",
        "\n",
        "\n",
        "# Patient-2 info at noon\n",
        "T[-1, 2]\n"
      ]
    },
    {
      "cell_type": "markdown",
      "metadata": {
        "id": "ekY1yrw62N7T"
      },
      "source": [
        "---\n",
        "\n",
        "Understanding shapes\n",
        "\n",
        "---"
      ]
    },
    {
      "cell_type": "code",
      "execution_count": null,
      "metadata": {
        "colab": {
          "base_uri": "https://localhost:8080/"
        },
        "id": "SrvQxSe22SUE",
        "outputId": "80097ada-6745-46c1-c9f0-d0d965ff3367"
      },
      "outputs": [
        {
          "name": "stdout",
          "output_type": "stream",
          "text": [
            "tensor([[[1., 2., 3.]]])\n",
            "torch.Size([1, 1, 3])\n"
          ]
        }
      ],
      "source": [
        "#a = torch.tensor([1.0, 2.0, 3.0])\n",
        "#a = torch.tensor([[1.0, 2.0, 3.0]])\n",
        "a = torch.tensor([[[1.0, 2.0, 3.0]]])\n",
        "print(a)\n",
        "print(a.shape)"
      ]
    },
    {
      "cell_type": "markdown",
      "metadata": {
        "id": "SW2_NDTCjIL5"
      },
      "source": [
        "---\n",
        "\n",
        "**Broadcasting**\n",
        "\n",
        "---"
      ]
    },
    {
      "cell_type": "code",
      "execution_count": null,
      "metadata": {
        "colab": {
          "base_uri": "https://localhost:8080/"
        },
        "id": "1PjnkDnr_qSn",
        "outputId": "d3f877da-3296-4928-9b3a-70322989b9fa"
      },
      "outputs": [
        {
          "name": "stdout",
          "output_type": "stream",
          "text": [
            "torch.Size([3])\n",
            "torch.Size([1])\n",
            "tensor([-3., -2., -1.])\n"
          ]
        }
      ],
      "source": [
        "# A simple broadcasting example\n",
        "a = torch.tensor([1.0, 2.0, 3.0])\n",
        "b = torch.tensor([4.0])\n",
        "print(a.shape)\n",
        "print(b.shape)\n",
        "print(a-b)"
      ]
    },
    {
      "cell_type": "code",
      "execution_count": null,
      "metadata": {
        "colab": {
          "base_uri": "https://localhost:8080/"
        },
        "id": "zhtxw34i_RNt",
        "outputId": "efa003e2-310c-4bf3-c434-b7fe6f362fb6"
      },
      "outputs": [
        {
          "name": "stdout",
          "output_type": "stream",
          "text": [
            "tensor([[ 74., 128.],\n",
            "        [ 78., 118.],\n",
            "        [ 84., 138.],\n",
            "        [ 82., 126.]])\n",
            "torch.Size([4, 2])\n",
            "---------\n",
            "tensor([[[ 74., 128.]],\n",
            "\n",
            "        [[ 78., 118.]],\n",
            "\n",
            "        [[ 84., 138.]],\n",
            "\n",
            "        [[ 82., 126.]]])\n",
            "torch.Size([4, 1, 2])\n",
            "---------\n",
            "tensor([[[ 74., 128.],\n",
            "         [ 79., 116.],\n",
            "         [ 71., 116.]],\n",
            "\n",
            "        [[ 78., 118.],\n",
            "         [ 82., 124.],\n",
            "         [ 72., 128.]],\n",
            "\n",
            "        [[ 84., 138.],\n",
            "         [ 84., 130.],\n",
            "         [ 74., 120.]],\n",
            "\n",
            "        [[ 82., 126.],\n",
            "         [ 76., 156.],\n",
            "         [ 82., 132.]]])\n",
            "torch.Size([4, 3, 2])\n"
          ]
        }
      ],
      "source": [
        "# How to add a new axis to a tensor using the unsqueeze() function\n",
        "#print(T)\n",
        "#print(T.shape)\n",
        "T_patient0 = T[:, 0, :]\n",
        "print(T_patient0)\n",
        "print(T_patient0.shape)\n",
        "print('---------')\n",
        "T_patient0_new = torch.unsqueeze(T_patient0, 1)\n",
        "print(T_patient0_new)\n",
        "print(T_patient0_new.shape)\n",
        "print('---------')\n",
        "print(T)\n",
        "print(T.shape)"
      ]
    },
    {
      "cell_type": "code",
      "execution_count": null,
      "metadata": {
        "colab": {
          "base_uri": "https://localhost:8080/"
        },
        "id": "DEPPWVsWjI4X",
        "outputId": "2d60b118-9ec6-420a-ec30-c13a687d5984"
      },
      "outputs": [
        {
          "data": {
            "text/plain": [
              "tensor([[[  0.,   0.],\n",
              "         [  5., -12.],\n",
              "         [ -3., -12.]],\n",
              "\n",
              "        [[  0.,   0.],\n",
              "         [  4.,   6.],\n",
              "         [ -6.,  10.]],\n",
              "\n",
              "        [[  0.,   0.],\n",
              "         [  0.,  -8.],\n",
              "         [-10., -18.]],\n",
              "\n",
              "        [[  0.,   0.],\n",
              "         [ -6.,  30.],\n",
              "         [  0.,   6.]]])"
            ]
          },
          "execution_count": 29,
          "metadata": {},
          "output_type": "execute_result"
        }
      ],
      "source": [
        "# How different are the patients from patient-0?\n",
        "#T - T_patient0 # does not work for broadcasting\n",
        "#T - T_patient0\n",
        "\n",
        "# How different are the patients compared to their time at admission\n",
        "T-T_patient0_new"
      ]
    },
    {
      "cell_type": "markdown",
      "metadata": {
        "id": "0o6kEXfCpDzo"
      },
      "source": [
        "---\n",
        "\n",
        "**Exercise**: interpret $\\texttt{T[:, -1, :]}$\n",
        "\n",
        "---"
      ]
    },
    {
      "cell_type": "code",
      "execution_count": null,
      "metadata": {
        "colab": {
          "base_uri": "https://localhost:8080/"
        },
        "id": "X6lEPZEWo6wo",
        "outputId": "64ce882f-7e39-4d2d-d147-d6567b403ff4"
      },
      "outputs": [
        {
          "data": {
            "text/plain": [
              "tensor([[ 71., 116.],\n",
              "        [ 72., 128.],\n",
              "        [ 74., 120.],\n",
              "        [ 82., 132.]])"
            ]
          },
          "execution_count": 30,
          "metadata": {},
          "output_type": "execute_result"
        }
      ],
      "source": [
        "# Last patient's info at all timestamps\n",
        "T[:, -1, :]"
      ]
    },
    {
      "cell_type": "markdown",
      "metadata": {
        "id": "9Zq396h0_5yB"
      },
      "source": [
        "---\n",
        "\n",
        "Broadcasting exercise\n",
        "\n",
        "---"
      ]
    },
    {
      "cell_type": "code",
      "execution_count": null,
      "metadata": {
        "colab": {
          "base_uri": "https://localhost:8080/"
        },
        "id": "-PqnqW9Z_-Sb",
        "outputId": "60bc3de5-0404-42e1-a69f-1c8e20415b8d"
      },
      "outputs": [
        {
          "name": "stdout",
          "output_type": "stream",
          "text": [
            "tensor([[[-5,  3,  5],\n",
            "         [ 0,  1,  5],\n",
            "         [-2, -1,  1],\n",
            "         [ 1, -5,  3],\n",
            "         [ 3, -1,  1]],\n",
            "\n",
            "        [[ 2, -1,  3],\n",
            "         [-4, -5, -3],\n",
            "         [ 3, -1, -5],\n",
            "         [ 5,  4, -3],\n",
            "         [-1, -3, -2]],\n",
            "\n",
            "        [[-5, -5,  1],\n",
            "         [ 4, -3, -5],\n",
            "         [ 3, -4,  5],\n",
            "         [-2,  2,  0],\n",
            "         [ 2,  1,  5]],\n",
            "\n",
            "        [[ 5, -3, -3],\n",
            "         [ 2,  5,  1],\n",
            "         [-4, -1, -3],\n",
            "         [ 3,  3, -3],\n",
            "         [-3,  4,  3]]])\n",
            "tensor([1., 2., 3.])\n"
          ]
        }
      ],
      "source": [
        "T = torch.randint(-5, 6, (4, 5, 3))\n",
        "print(T)\n",
        "v = torch.tensor([1.0, 2.0, 3.0])\n",
        "print(v)"
      ]
    },
    {
      "cell_type": "markdown",
      "metadata": {
        "id": "gc9EJuZQhD9i"
      },
      "source": [
        "---\n",
        "\n",
        "$l_2$ norm or the geometric length of a vector denoted as $\\lVert \\mathbf{a}\\rVert$ tells us how long a vector is. In 2-dimensions, $$\\mathbf{a}=\\begin{bmatrix}a_1\\\\a_2\\end{bmatrix}\\Rightarrow \\lVert\\mathbf{a}\\rVert_2 = \\sqrt{a_1^2+a_2^2}$$ and in $n$-dimensions, $$\\mathbf{a}=\\begin{bmatrix}a_1\\\\a_2\\\\\\vdots\\\\a_n\\end{bmatrix}\\Rightarrow\\lVert \\mathbf{a}\\rVert_2 = \\sqrt{a_1^2+a_2^2+\\cdots+a_n^2}.$$\n",
        "\n",
        "![vector norm](https://1drv.ms/i/c/37720f927b6ddc34/IQT817WmpQjlRqZ1R0d5Cfv6AUW6c4robL-gk06i9wmCaFU?width=500)\n",
        "\n",
        "---"
      ]
    },
    {
      "cell_type": "code",
      "execution_count": null,
      "metadata": {
        "colab": {
          "base_uri": "https://localhost:8080/"
        },
        "id": "OM65UP4_hEso",
        "outputId": "81c32520-403d-458c-aabf-2cf04441dfb2"
      },
      "outputs": [
        {
          "name": "stdout",
          "output_type": "stream",
          "text": [
            "tensor([ 76., 124.], dtype=torch.float64)\n"
          ]
        },
        {
          "data": {
            "text/plain": [
              "tensor(145.4373, dtype=torch.float64)"
            ]
          },
          "execution_count": 47,
          "metadata": {},
          "output_type": "execute_result"
        }
      ],
      "source": [
        "## l2 norm of a vector\n",
        "x = torch.tensor([76.0, 124.0], dtype = torch.float64)\n",
        "print(x)\n",
        "torch.norm(x)"
      ]
    },
    {
      "cell_type": "markdown",
      "metadata": {
        "id": "SRbanrUmwLX7"
      },
      "source": [
        "\n",
        "---\n",
        "\n",
        "**Dot Product of Vectors**\n",
        "\n",
        "A scalar resulting from an elementwise multiplication and addition: $$\\mathbf{a}{\\color{cyan}\\cdot}\\mathbf{b} = {\\color{red}{a_1b_1}}+{\\color{green}{a_2b_2}}+\\cdots+{\\color{magenta}{a_nb_n}}$$\n",
        "\n",
        "The <font color=\"cyan\">dot</font> ${\\color{cyan}\\cdot}$ represents the computation of the dot product.\n",
        "\n",
        "\n",
        "---"
      ]
    },
    {
      "cell_type": "code",
      "execution_count": null,
      "metadata": {
        "colab": {
          "base_uri": "https://localhost:8080/"
        },
        "id": "s91XY1JZwU2w",
        "outputId": "84fe2c45-5b61-4ec8-f9e3-c231cefd2549"
      },
      "outputs": [
        {
          "data": {
            "text/plain": [
              "tensor(32., dtype=torch.float64)"
            ]
          },
          "execution_count": 50,
          "metadata": {},
          "output_type": "execute_result"
        }
      ],
      "source": [
        "## Dot product of vectors\n",
        "a = torch.tensor([1.0, 2.0, 3.0], dtype = torch.float64)\n",
        "b = torch.tensor([4.0, 5.0, 6.0], dtype = torch.float64)\n",
        "torch.dot(a, b)"
      ]
    },
    {
      "cell_type": "markdown",
      "metadata": {
        "id": "2-b90m-QXyFp"
      },
      "source": [
        "---\n",
        "\n",
        "The dot product is a measure of similarity between vectors (or, how aligned they are geometrically).\n",
        "\n",
        "![dot product](https://1drv.ms/i/c/37720f927b6ddc34/IQTbcGSjdbhSTJ7J39d5BCWAAWS6-y5U6J87vHuDWeAqGwM?width=6000)\n",
        "---"
      ]
    },
    {
      "cell_type": "code",
      "execution_count": null,
      "metadata": {
        "colab": {
          "base_uri": "https://localhost:8080/"
        },
        "id": "3GxZ95uXXz3P",
        "outputId": "005e11ed-7fc2-4b31-8ecf-b7f16dbf8b80"
      },
      "outputs": [
        {
          "name": "stdout",
          "output_type": "stream",
          "text": [
            "tensor(10.)\n",
            "tensor(0.)\n",
            "tensor(-5.)\n"
          ]
        }
      ],
      "source": [
        "a = torch.tensor([1.0, 2.0])\n",
        "b = torch.tensor([2.0, 4.0])\n",
        "c = torch.tensor([-2.0, 1.0])\n",
        "d = torch.tensor([-1.0, -2.0])\n",
        "print(torch.dot(a, b))\n",
        "print(torch.dot(a, c))\n",
        "print(torch.dot(a, d))"
      ]
    },
    {
      "cell_type": "markdown",
      "metadata": {
        "id": "U6CS4_8byCs8"
      },
      "source": [
        "---\n",
        "\n",
        "Cauchy-Schwarz inequality $-1\\leq\\frac{\\mathbf{x}\\cdot{\\mathbf{y}}}{\\lVert\\mathbf{x}\\rVert_2\\lVert\\mathbf{y}\\rVert_2}\\leq1.$\n",
        "\n",
        "This is a normalized measure of similarity (or extent of alignment) between vectors.\n",
        "\n",
        "Angle between vectors $\\mathbf{x}$ and $\\mathbf{y} = \\cos^{-1}\\left(\\frac{\\mathbf{x}\\cdot{\\mathbf{y}}}{\\lVert\\mathbf{x}\\rVert_2\\lVert\\mathbf{y}\\rVert_2}\\right).$\n",
        "\n",
        "![angle](https://1drv.ms/i/c/37720f927b6ddc34/IQQ03G17kg9yIIA3WokBAAAAAQi8FPV9YCebl5WnyEKJ3vg?width=213&height=400)\n",
        "\n",
        "\n",
        "---"
      ]
    },
    {
      "cell_type": "code",
      "execution_count": null,
      "metadata": {
        "colab": {
          "base_uri": "https://localhost:8080/"
        },
        "id": "q4UhBnPUx7TV",
        "outputId": "fbd32d16-12c7-4966-c53f-841b65622294"
      },
      "outputs": [
        {
          "name": "stdout",
          "output_type": "stream",
          "text": [
            "tensor(1.4142)\n",
            "tensor(0.6435)\n",
            "tensor(36.8699)\n"
          ]
        }
      ],
      "source": [
        "x = torch.tensor([1.0, 2.0])\n",
        "y = torch.tensor([2.0, 1.0])\n",
        "\n",
        "# Linear difference between x and y\n",
        "print(torch.norm(x - y))\n",
        "\n",
        "# Angle difference between x and y in radians\n",
        "print(torch.acos(torch.dot(x,y) / (torch.norm(x) * torch.norm(y))))\n",
        "\n",
        "# Angle difference between x and y in degrees\n",
        "print((180.0/torch.pi)*(torch.acos(torch.dot(x,y) / (torch.norm(x) * torch.norm(y)))))"
      ]
    },
    {
      "cell_type": "markdown",
      "metadata": {
        "id": "1bnmEkg3Tctx"
      },
      "source": [
        "---\n",
        "\n",
        "Application of the Cauchy-Schwarz inequality: is \"Cricket without Tendulkar\" same as \"Football without Messi\"?\n",
        "\n",
        "---"
      ]
    },
    {
      "cell_type": "code",
      "execution_count": null,
      "metadata": {
        "colab": {
          "base_uri": "https://localhost:8080/"
        },
        "id": "KrmCknO5TkNZ",
        "outputId": "4f81daf0-a158-4f38-ce56-3643e0e7fc64"
      },
      "outputs": [
        {
          "name": "stdout",
          "output_type": "stream",
          "text": [
            "tensor(4.2349, dtype=torch.float64)\n",
            "tensor(0.7420, dtype=torch.float64)\n",
            "tensor(42.5126, dtype=torch.float64)\n"
          ]
        }
      ],
      "source": [
        "a = torch.tensor(model['cricket'] - model['tendulkar'], dtype = torch.float64)\n",
        "b = torch.tensor(model['football'] - model['messi'], dtype = torch.float64)\n",
        "\n",
        "# Linear difference between and a and b\n",
        "print(torch.norm(a-b))\n",
        "\n",
        "# Angle difference between a and b in radians\n",
        "print(torch.acos(torch.dot(a, b) / (torch.norm(a) * torch.norm(b))))\n",
        "\n",
        "# Angle difference between a and b in degrees\n",
        "print((180.0/torch.pi)*(torch.acos(torch.dot(a, b) / (torch.norm(a) * torch.norm(b)))))"
      ]
    },
    {
      "cell_type": "code",
      "execution_count": null,
      "metadata": {
        "colab": {
          "base_uri": "https://localhost:8080/"
        },
        "id": "oDD91UnCHmbO",
        "outputId": "099c79f9-7915-440c-e187-2b8ada28de55"
      },
      "outputs": [
        {
          "name": "stdout",
          "output_type": "stream",
          "text": [
            "tensor(42.5126, dtype=torch.float64)\n",
            "tensor(103.5210, dtype=torch.float64)\n"
          ]
        }
      ],
      "source": [
        "c = torch.tensor(model['soup'] - model['salt'], dtype = torch.float64)\n",
        "\n",
        "# Angle difference between a and b in degrees\n",
        "print((180.0/torch.pi)*(torch.acos(torch.dot(a, b) / (torch.norm(a) * torch.norm(b)))))\n",
        "\n",
        "# Angle difference between a and c in degrees\n",
        "print((180.0/torch.pi)*(torch.acos(torch.dot(a, c) / (torch.norm(a) * torch.norm(c)))))\n",
        "\n",
        "# cricket-without-tendulkar has approximately the same similarity w.r.t.\n",
        "# football-without-messi and tennis-without-federer"
      ]
    },
    {
      "cell_type": "markdown",
      "metadata": {
        "id": "ayzM_0_synRF"
      },
      "source": [
        "\n",
        "---\n",
        "\n",
        "**Hadamard Product of Vectors**\n",
        "\n",
        "A vector resulting from an elementwise multiplication: $$\\mathbf{a}{\\color{cyan}\\otimes}\\mathbf{b} = \\begin{bmatrix}{\\color{red}{a_1\\times b_1}}\\\\{\\color{green}{a_2\\times b_2}}\\\\\\vdots\\\\{\\color{magenta}{a_n\\times b_n}}\\end{bmatrix}.$$\n",
        "\n",
        "The <font color=\"cyan\">$\\otimes$</font> represents the computation of the Hadamard product.\n",
        "\n",
        "---"
      ]
    },
    {
      "cell_type": "code",
      "execution_count": null,
      "metadata": {
        "colab": {
          "base_uri": "https://localhost:8080/"
        },
        "id": "UPojS0rIzR8p",
        "outputId": "51642e30-9740-45f3-a97e-36c6151d170c"
      },
      "outputs": [
        {
          "name": "stdout",
          "output_type": "stream",
          "text": [
            "tensor([ 4., 10., 18.], dtype=torch.float64)\n",
            "tensor([ 4., 10., 18.], dtype=torch.float64)\n"
          ]
        }
      ],
      "source": [
        "## Hadamard product\n",
        "a = torch.tensor([1.0, 2.0, 3.0], dtype = torch.float64)\n",
        "b = torch.tensor([4.0, 5.0, 6.0], dtype = torch.float64)\n",
        "\n",
        "# Element-wise multiplication (Hadamard product)\n",
        "print(a*b)\n",
        "print(torch.mul(a, b))"
      ]
    },
    {
      "cell_type": "markdown",
      "metadata": {
        "id": "oruyV_EjhqCR"
      },
      "source": [
        "---\n",
        "\n",
        "A matrix-vector product is simply a sequence of dot products of the rows of the matrix (seen as vectors) with the vector\n",
        "\n",
        "![matvec product](https://1drv.ms/i/c/37720f927b6ddc34/IQQ1cQ8fZdFmS4cnGkBlsZbAAaL2zMtzWdjHe-HCMt4UTA0?width=700)\n",
        "\n",
        "---"
      ]
    },
    {
      "cell_type": "code",
      "execution_count": null,
      "metadata": {
        "colab": {
          "base_uri": "https://localhost:8080/"
        },
        "id": "A_IScSWzhpi7",
        "outputId": "7fc59b18-54bf-49ae-8fa2-6eb400e63f0d"
      },
      "outputs": [
        {
          "name": "stdout",
          "output_type": "stream",
          "text": [
            "tensor([0., 0.])\n"
          ]
        }
      ],
      "source": [
        "## Matrix-vector product\n",
        "A = torch.tensor([[1.0, 2.0, 4.0],\n",
        "                  [2.0, -1.0, 3.0]])\n",
        "x = torch.tensor([4.0, 2.0, -2.0])\n",
        "\n",
        "# Matrix-vector multiplication\n",
        "print(torch.matmul(A, x))"
      ]
    },
    {
      "cell_type": "markdown",
      "metadata": {
        "id": "uTnGSJ3vT4EN"
      },
      "source": [
        "---\n",
        "\n",
        "Here we create a simple sentence in English and tokenize it\n",
        "\n",
        "---"
      ]
    },
    {
      "cell_type": "code",
      "execution_count": null,
      "metadata": {
        "id": "pQ73kkevT5L3"
      },
      "outputs": [],
      "source": [
        "sentence = 'i swam quickly across the river to get to the other bank'\n",
        "nltk.download('punkt_tab')\n"
      ]
    },
    {
      "cell_type": "markdown",
      "metadata": {
        "id": "M40pqI8UUbX4"
      },
      "source": [
        "---\n",
        "\n",
        "Generate the word embeddings for the tokens and store them in a matrix $\\mathbf{X}$ such that each row of the matrix corresponds to a token.\n",
        "\n",
        "---"
      ]
    },
    {
      "cell_type": "code",
      "execution_count": null,
      "metadata": {
        "id": "1mKKVRyxUh5V"
      },
      "outputs": [],
      "source": []
    },
    {
      "cell_type": "markdown",
      "metadata": {
        "id": "0Z0pZQisxtY-"
      },
      "source": [
        "---\n",
        "\n",
        "A matrix-matrix product is simply a sequence of matrix-vector products.\n",
        "\n",
        "![matmatprod](https://1drv.ms/i/c/37720f927b6ddc34/IQQ-B3z7tbWHQqBrW9k2ElDVAUc5fWzM24txLkgBK7f8Yac?width=550)\n",
        "\n",
        "\n",
        "---"
      ]
    },
    {
      "cell_type": "markdown",
      "metadata": {
        "id": "h5cHHVQOuT0z"
      },
      "source": [
        "---\n",
        "\n",
        "Matrix-matrix product using patient data matrix and a weights matrix:\n",
        "\n",
        "![patient dataset](https://1drv.ms/i/s!AjTcbXuSD3I3hspfrgklysOtJMOjaA?embed=1&width=800)\n",
        "\n",
        "$$\\mathbf{Z} = \\mathbf{XW}.$$\n",
        "\n",
        "---"
      ]
    },
    {
      "cell_type": "code",
      "execution_count": null,
      "metadata": {
        "colab": {
          "base_uri": "https://localhost:8080/"
        },
        "id": "njrrw_MnuUpo",
        "outputId": "a9ec7dc8-1dbd-468f-cf52-7feca07ece2f"
      },
      "outputs": [
        {
          "name": "stdout",
          "output_type": "stream",
          "text": [
            "Patient data matrix X:\n",
            " tensor([[ 72.0000, 120.0000,  37.3000, 104.0000,  32.5000],\n",
            "        [ 85.0000, 130.0000,  37.0000, 110.0000,  14.0000],\n",
            "        [ 68.0000, 110.0000,  38.5000, 125.0000,  34.0000],\n",
            "        [ 90.0000, 140.0000,  38.0000, 130.0000,  26.0000],\n",
            "        [ 84.0000, 132.0000,  38.3000, 146.0000,  30.0000],\n",
            "        [ 78.0000, 128.0000,  37.2000, 102.0000,  12.0000]],\n",
            "       dtype=torch.float64)\n",
            "Weights matrix:\n",
            " tensor([[-0.1000,  0.5000,  0.3000],\n",
            "        [ 0.9000,  0.3000,  0.5000],\n",
            "        [-1.5000,  0.4000,  0.1000],\n",
            "        [ 0.1000,  0.1000, -1.0000],\n",
            "        [-1.2000,  0.5000, -0.8000]], dtype=torch.float64)\n",
            "Raw zcores matrix:\n",
            " tensor([[ 16.2500, 113.5700, -44.6700],\n",
            "        [ 47.2000, 114.3000, -27.0000],\n",
            "        [  6.1500, 111.9000, -72.9500],\n",
            "        [ 41.8000, 128.2000, -50.0000],\n",
            "        [ 31.5500, 126.5200, -74.9700],\n",
            "        [ 47.4000, 108.4800, -20.4800]], dtype=torch.float64)\n"
          ]
        }
      ],
      "source": [
        "# Patients data matrix\n",
        "X = torch.tensor([[72, 120, 37.3, 104, 32.5],\n",
        "                 [85, 130, 37.0, 110, 14],\n",
        "                 [68, 110, 38.5, 125, 34],\n",
        "                 [90, 140, 38.0, 130, 26],\n",
        "                 [84, 132, 38.3, 146, 30],\n",
        "                 [78, 128, 37.2, 102, 12]], dtype = torch.float64)\n",
        "print(f'Patient data matrix X:\\n {X}') #f-string in Python\n",
        "\n",
        "# Weights matrix\n",
        "W = torch.tensor([[-0.1, 0.5, 0.3],\n",
        "                  [0.9, 0.3, 0.5],\n",
        "                  [-1.5, 0.4, 0.1],\n",
        "                  [0.1, 0.1, -1.0],\n",
        "                  [-1.2, 0.5, -0.8]], dtype = torch.float64)\n",
        "print(f'Weights matrix:\\n {W}')\n",
        "\n",
        "# Raw scores matrix (matrix-matrix multiplication)\n",
        "Z = torch.matmul(X, W)\n",
        "print(f'Raw zcores matrix:\\n {Z}')\n",
        "# The raw scores are also referred to as the logits"
      ]
    },
    {
      "cell_type": "markdown",
      "metadata": {
        "id": "qWigLvBRucwi"
      },
      "source": [
        "---\n",
        "\n",
        "**Version-1** view of the matrix-matrix product $\\mathbf{Z} = \\mathbf{XW}$:\n",
        "\n",
        "*What a particular neuron understands about a particular patient.*\n",
        "\n",
        "![matrix-matrix product version-1](https://1drv.ms/i/c/37720f927b6ddc34/IQQdAOCwtndURKA-h4yvpTqlAYjBjlcweRSeMYkPvf7dwmQ?width=660)\n",
        "\n",
        "$$\\begin{align*}[\\mathbf{Z}]_{i,j} &= (i,j)\\text{-th element of }\\mathbf{Z}\\\\&=\\text{what the }j\\text{th neuron learns about the } i\\text{th patient}\\\\&=\\mathbf{x}^{(i)}\\cdot\\mathbf{w}_j\\\\& = {\\mathbf{x}^{(i)}}^\\mathrm{T}\\mathbf{w}_j\\\\\\Rightarrow \\underbrace{[\\mathbf{Z}]_{{\\color{yellow}0},{\\color{cyan}2}}}_{{\\color{yellow}0}\\text{th patient},\\,{\\color{cyan}2}\\text{nd neuron}} &= \\mathbf{x}^{({\\color{yellow}0})}\\cdot\\mathbf{w}_{{\\color{cyan}2}}\\\\ &= \\begin{bmatrix}72\\\\120\\\\37.3\\\\104\\\\32.5\\end{bmatrix}\\cdot\\begin{bmatrix}0.3\\\\0.5\\\\0.1\\\\-1.0\\\\-0.8\\end{bmatrix}\\\\ &= -44.67.\\end{align*}$$\n",
        "\n",
        "---"
      ]
    },
    {
      "cell_type": "code",
      "execution_count": null,
      "metadata": {
        "colab": {
          "base_uri": "https://localhost:8080/"
        },
        "id": "q-rGT4NaueRk",
        "outputId": "83ea6c8b-36be-4537-ffc2-5a90c36b0b23"
      },
      "outputs": [
        {
          "data": {
            "text/plain": [
              "tensor(-44.6700, dtype=torch.float64)"
            ]
          },
          "execution_count": 8,
          "metadata": {},
          "output_type": "execute_result"
        }
      ],
      "source": [
        "## The (0, 2)-th element of the matrix-matrix product XW\n",
        "torch.dot(X[0, :], W[:, 2])\n",
        "#torch.matmul(X[0, :], W[:, 2]) (not recommended)"
      ]
    },
    {
      "cell_type": "markdown",
      "metadata": {
        "id": "RzqALUS-ugoU"
      },
      "source": [
        "---\n",
        "\n",
        "**Version-2** view of the matrix-matrix product $\\mathbf{Z} = \\mathbf{XW}$:\n",
        "\n",
        "*What a particular neuron understands about all the patients.*\n",
        "\n",
        "![matrix-matrix product version-2](https://1drv.ms/i/c/37720f927b6ddc34/IQRm1-w-6TG0R4C4J4BizyzyAWIbcHzbEjgmx-0JFREdHsE?width=660)\n",
        "\n",
        "$$\\begin{align*}\\mathbf{z}_j &= \\mathbf{X}\\mathbf{w}_j\\\\&=\\text{what the } j\\text{th neuron learns about the all the patients}\\\\&=w_{j,0}\\times\\textbf{HR}+w_{j,1}\\times\\textbf{BP}+w_{j,2}\\times\\textbf{Temp}+w_{j,3}\\times\\textbf{Sugar}+w_{j,4}\\times\\textbf{Vitamin D}\\\\&= w_{j,0}\\mathbf{x}_0+w_{j,1}\\mathbf{x}_1+w_{j,2}\\mathbf{x}_2+w_{j,3}\\mathbf{x}_3+w_{j,4}\\mathbf{x}_4\\\\\\Rightarrow\\underbrace{\\mathbf{z}_{{\\color{cyan}0}}}_{{\\color{cyan}0}\\text{th neuron understanding}} &= \\underbrace{\\mathbf{X}}_{\\color{yellow}{\\text{all patients}}}\\ \\underbrace{\\mathbf{w}_{{\\color{cyan}0}}}_{{\\color{cyan}0}\\text{th neuron weights}}\\\\&= {\\color{cyan}{-0.1}}\\times\\begin{bmatrix}{\\color{yellow}{72}}\\\\{\\color{yellow}{85}}\\\\{\\color{yellow}{68}}\\\\{\\color{yellow}{90}}\\\\{\\color{yellow}{84}}\\\\{\\color{yellow}{78}}\\end{bmatrix}+{\\color{cyan}{0.9}}\\times\\begin{bmatrix}{\\color{yellow}{120}}\\\\{\\color{yellow}{130}}\\\\{\\color{yellow}{110}}\\\\{\\color{yellow}{140}}\\\\{\\color{yellow}{132}}\\\\{\\color{yellow}{128}}\\end{bmatrix}+({\\color{cyan}{-1.5}})\\times\\begin{bmatrix}{\\color{yellow}{37.3}}\\\\{\\color{yellow}{37.0}}\\\\{\\color{yellow}{38.5}}\\\\{\\color{yellow}{38.0}}\\\\{\\color{yellow}{38.3}}\\\\{\\color{yellow}{37.2}}\\end{bmatrix}+{\\color{cyan}{0.1}}\\times\\begin{bmatrix}{\\color{yellow}{104}}\\\\{\\color{yellow}{110}}\\\\{\\color{yellow}{125}}\\\\{\\color{yellow}{130}}\\\\{\\color{yellow}{146}}\\\\{\\color{yellow}{102}}\\end{bmatrix}+({\\color{cyan}{-1.2}})\\times\\begin{bmatrix}{\\color{yellow}{32.5}}\\\\{\\color{yellow}{14}}\\\\{\\color{yellow}{34}}\\\\{\\color{yellow}{26}}\\\\{\\color{yellow}{30}}\\\\{\\color{yellow}{12}}\\end{bmatrix}\\\\&=\\begin{bmatrix}16.25\\\\47.20\\\\6.15\\\\41.80\\\\31.55\\\\47.40\\end{bmatrix}.\\end{align*}$$\n",
        "\n",
        "\n",
        "\n",
        "---"
      ]
    },
    {
      "cell_type": "code",
      "execution_count": null,
      "metadata": {
        "colab": {
          "base_uri": "https://localhost:8080/"
        },
        "id": "sJbmVTzuukEh",
        "outputId": "bcf02909-1baf-4cc6-f2f6-e89185a000e9"
      },
      "outputs": [
        {
          "data": {
            "text/plain": [
              "tensor([16.2500, 47.2000,  6.1500, 41.8000, 31.5500, 47.4000],\n",
              "       dtype=torch.float64)"
            ]
          },
          "execution_count": 9,
          "metadata": {},
          "output_type": "execute_result"
        }
      ],
      "source": [
        "## The 0-th column of the matrix-matrix product XW\n",
        "torch.matmul(X, W[:, 0])"
      ]
    },
    {
      "cell_type": "markdown",
      "metadata": {
        "id": "jrQE8b2xukgE"
      },
      "source": [
        "---\n",
        "\n",
        "**Version-3** view of the matrix-matrix product $\\mathbf{Z} = \\mathbf{XW}$:\n",
        "\n",
        "*What all neurons understand about a particular patient.*\n",
        "\n",
        "![matrix-matrix product version-3](https://1drv.ms/i/c/37720f927b6ddc34/IQRfO-qEJQ9mQYLH_f-lyjeQAaWV4FrDjTjaEHJpPB1PmCg?width=660)\n",
        "\n",
        "$$\\begin{align*}{\\mathbf{z}^{(i)}}^\\mathrm{T}&={\\mathbf{x}^{(i)}}^\\mathrm{T}\\mathbf{W}\\\\&= \\text{what is learned about the }i\\text{th patient by all the neurons}\\\\&=i\\text{th HR }\\times{\\mathbf{w}^{(0)}}^\\mathrm{T}+i\\text{th BP }\\times{\\mathbf{w}^{(1)}}^\\mathrm{T}+i\\text{th Temp }\\times{\\mathbf{w}^{(2)}}^\\mathrm{T}+i\\text{th Sugar }\\times{\\mathbf{w}^{(3)}}^\\mathrm{T}+i\\text{th Vitamin D }\\times{\\mathbf{w}^{(4)}}^\\mathrm{T}\\\\&=x^{(i)}_0\\times{\\mathbf{w}^{(0)}}^\\mathrm{T}+x^{(i)}_1\\times{\\mathbf{w}^{(1)}}^\\mathrm{T}+x^{(i)}_2\\times{\\mathbf{w}^{(2)}}^\\mathrm{T}+x^{(i)}_3\\times{\\mathbf{w}^{(3)}}^\\mathrm{T}+x^{(i)}_4\\times{\\mathbf{w}^{(4)}}^\\mathrm{T}\\\\\\underbrace{\\Rightarrow{{\\mathbf{z}^{({\\color{yellow}0})}}^\\mathrm{T}}}_{{\\color{yellow}{0}}\\text{th patient understanding}}&=\\underbrace{{{\\mathbf{x}^{({\\color{yellow}0})}}^\\mathrm{T}}}_{{\\color{yellow}{0}}\\text{th patient}}\\ \\underbrace{\\mathbf{W}}_{{\\color{cyan}{\\text{all neurons}}}}\\\\ &= {\\color{yellow}{72}}\\times\\begin{bmatrix}{\\color{cyan}{-0.1}} & {\\color{cyan}{0.5}} & {\\color{cyan}{0.3}}\\end{bmatrix} \\\\&+ {\\color{yellow}{120}}\\times\\begin{bmatrix}{\\color{cyan}{0.9}} & {\\color{cyan}{0.3}} & {\\color{cyan}{0.5}}\\end{bmatrix}\\\\&+{\\color{yellow}{37.3}}\\times\\begin{bmatrix}{\\color{cyan}{-1.5}} & {\\color{cyan}{0.4}} & {\\color{cyan}{0.1}}\\end{bmatrix}\\\\&+{\\color{yellow}{104}}\\times\\begin{bmatrix}{\\color{cyan}{0.1}} & {\\color{cyan}{0.1}} & {\\color{cyan}{-1.0}}\\end{bmatrix}\\\\&+{\\color{yellow}{32.5}}\\times\\begin{bmatrix}{\\color{cyan}{-1.2}} & {\\color{cyan}{0.5}} & {\\color{cyan}{-0.8}}\\end{bmatrix}\\\\&=\\begin{bmatrix}16.25 & 113.57 & 7.33\\end{bmatrix}.\\end{align*}$$\n",
        "\n",
        "\n",
        "---"
      ]
    },
    {
      "cell_type": "code",
      "execution_count": null,
      "metadata": {
        "colab": {
          "base_uri": "https://localhost:8080/"
        },
        "id": "Y0KMgb1KA7eE",
        "outputId": "f4fbf8eb-c12b-40f0-cf84-af6344508928"
      },
      "outputs": [
        {
          "data": {
            "text/plain": [
              "tensor([[ 16.2500, 113.5700, -44.6700],\n",
              "        [ 47.2000, 114.3000, -27.0000],\n",
              "        [  6.1500, 111.9000, -72.9500],\n",
              "        [ 41.8000, 128.2000, -50.0000],\n",
              "        [ 31.5500, 126.5200, -74.9700],\n",
              "        [ 47.4000, 108.4800, -20.4800]], dtype=torch.float64)"
            ]
          },
          "execution_count": 10,
          "metadata": {},
          "output_type": "execute_result"
        }
      ],
      "source": [
        "Z"
      ]
    },
    {
      "cell_type": "code",
      "execution_count": null,
      "metadata": {
        "colab": {
          "base_uri": "https://localhost:8080/"
        },
        "id": "o-Nv7NOLun5e",
        "outputId": "8d190e4c-0f56-46d9-a67c-2f49feb2af1e"
      },
      "outputs": [
        {
          "data": {
            "text/plain": [
              "tensor([ 16.2500, 113.5700, -44.6700], dtype=torch.float64)"
            ]
          },
          "execution_count": 11,
          "metadata": {},
          "output_type": "execute_result"
        }
      ],
      "source": [
        "## The 0-th row of the matrix-matrix product XW\n",
        "torch.matmul(X[0, :], W)"
      ]
    },
    {
      "cell_type": "markdown",
      "metadata": {
        "id": "mVoJRc6kUtI2"
      },
      "source": [
        "---\n",
        "\n",
        "The similarity between each pair of words represented in the word embeddings matrix $\\mathbf{X}_\\mathrm{word}$ is the matrix-matrix product $\\mathbf{X}_\\mathrm{word}\\mathbf{X}_\\mathrm{word}^\\mathrm{T}.$\n",
        "\n",
        "---"
      ]
    },
    {
      "cell_type": "code",
      "execution_count": null,
      "metadata": {
        "id": "ms9Qg5AoVJy_"
      },
      "outputs": [],
      "source": []
    },
    {
      "cell_type": "markdown",
      "metadata": {
        "id": "NLWq_5p3usNO"
      },
      "source": [
        "---\n",
        "\n",
        "The softmax function: takes a $k$-vector $\\mathbf{z}$ as input and returns a vector $\\mathbf{a}$ of the same shape as the output which is referred to as the softmax-activated scores.\n",
        "\n",
        "$\\begin{align*}\\mathbf{a}&=\\text{softmax}(\\mathbf{z})=\\begin{bmatrix}\\dfrac{e^{z_1}}{e^{z_1}+e^{z_2}+\\cdots+e^{z_k}}\\\\\\dfrac{e^{z_2}}{e^{z_1}+e^{z_2}+\\cdots+e^{z_k}}\\\\\\vdots\\\\\\dfrac{e^{z_k}}{e^{z_1}+e^{z_2}+\\cdots+e^{z_k}}\\end{bmatrix}.\\end{align*}$\n",
        "\n",
        "In the following example, we consider a raw scores vector $\\mathbf{z}$ with 3 components which leads to the softmax-activated scores vectors $\\mathbf{a}$ which can be interpreted as the predicted probabilities that the sample belongs to each one of the output classes:\n",
        "\n",
        "![softmax](https://1drv.ms/i/s!AjTcbXuSD3I3hscmdol7J2G4GDo5WQ?embed=1&width=660)\n",
        "\n",
        "\n",
        "---"
      ]
    },
    {
      "cell_type": "code",
      "execution_count": null,
      "metadata": {
        "colab": {
          "base_uri": "https://localhost:8080/"
        },
        "id": "hgbn1YaJc5i-",
        "outputId": "3eb99816-842e-4398-9553-cb5f865de9c9"
      },
      "outputs": [
        {
          "name": "stdout",
          "output_type": "stream",
          "text": [
            "tensor([1., 2., 3.], dtype=torch.float64)\n",
            "tensor([0.0900, 0.2447, 0.6652], dtype=torch.float64)\n",
            "tensor(1.0000, dtype=torch.float64)\n"
          ]
        }
      ],
      "source": [
        "z = torch.tensor([1.0, 2.0, 3.0], dtype = torch.float64)\n",
        "print(z)\n",
        "softmax = torch.nn.Softmax(dim = 0)\n",
        "a = softmax(z)\n",
        "print(a)\n",
        "print(torch.sum(a))"
      ]
    },
    {
      "cell_type": "code",
      "execution_count": null,
      "metadata": {
        "colab": {
          "base_uri": "https://localhost:8080/"
        },
        "id": "ILhIBVoKr3fb",
        "outputId": "ed9827a6-28ad-4e94-d616-9f302a33a38b"
      },
      "outputs": [
        {
          "name": "stdout",
          "output_type": "stream",
          "text": [
            "Raw zcores matrix:\n",
            " tensor([[ 16.2500, 113.5700, -44.6700],\n",
            "        [ 47.2000, 114.3000, -27.0000],\n",
            "        [  6.1500, 111.9000, -72.9500],\n",
            "        [ 41.8000, 128.2000, -50.0000],\n",
            "        [ 31.5500, 126.5200, -74.9700],\n",
            "        [ 47.4000, 108.4800, -20.4800]], dtype=torch.float64)\n",
            "Softmax scores matrix:\n",
            " tensor([[5.4258e-43, 1.0000e+00, 1.8934e-69],\n",
            "        [7.2250e-30, 1.0000e+00, 4.3071e-62],\n",
            "        [1.1840e-46, 1.0000e+00, 5.2561e-81],\n",
            "        [2.9989e-38, 1.0000e+00, 4.0618e-78],\n",
            "        [5.6892e-42, 1.0000e+00, 3.1189e-88],\n",
            "        [2.9737e-27, 1.0000e+00, 9.8488e-57]], dtype=torch.float64)\n"
          ]
        }
      ],
      "source": [
        "# Raw scores matrix (matrix-matrix multiplication)\n",
        "Z = torch.matmul(X, W)\n",
        "print(f'Raw zcores matrix:\\n {Z}')\n",
        "\n",
        "# Calculate the softmax scores\n",
        "softmax = torch.nn.Softmax(dim = 1)\n",
        "A = softmax(Z)\n",
        "print(f'Softmax scores matrix:\\n {A}')"
      ]
    },
    {
      "cell_type": "markdown",
      "metadata": {
        "id": "VCo2ano8mH_x"
      },
      "source": [
        "---\n",
        "\n",
        "Standardization of data to get rid of the effects of units.\n",
        "\n",
        "The standard deviation of a vector is a measure of how much the components or elements of that vector typically deviate from their average value. For an $n$-vector $\\mathbf{x},$ the standard deviation is denoted and calculated as\n",
        "$$\\mathbf{x} = \\begin{bmatrix}x_1\\\\x_2\\\\\\vdots\\\\x_n\\end{bmatrix}\\Rightarrow\\text{std}(\\mathbf{x}) = \\sqrt{\\frac{\\left[x_1-\\text{avg}(\\mathbf{x})\\right]^2+\\cdots+\\left[x_n-\\text{avg}(\\mathbf{x})\\right]^2}{n}}.$$ The quantity inside the square root above is the average squared deviation which is also called the variance denoted as $$\\text{var}(\\mathbf{x}) = \\frac{\\left[x_1-\\text{avg}(\\mathbf{x})\\right]^2+\\cdots+\\left[x_n-\\text{avg}(\\mathbf{x})\\right]^2}{n}.$$\n",
        "\n",
        "This means $\\text{std}(\\mathbf{x}) = \\sqrt{\\text{var}(\\mathbf{x})}.$\n",
        "\n",
        "A large standard deviation indicates that the components of the vector typically deviate a lot from their average value or mean.\n",
        "\n",
        "The following component plot of a vector of heart rate values has the 1-standard deviation-above and below the mean represented as red-dotted lines:\n",
        "\n",
        "![standard deviation](https://1drv.ms/i/c/37720f927b6ddc34/IQQB_uF-TUO8SpoodLWz7sQPAc4POmYfY3hPjlX3vpYfKlY?width=540)\n",
        "\n",
        "---"
      ]
    },
    {
      "cell_type": "code",
      "execution_count": null,
      "metadata": {
        "colab": {
          "base_uri": "https://localhost:8080/"
        },
        "id": "IioKqqpymL2i",
        "outputId": "94f91900-8ea5-4db6-c952-367ede74c719"
      },
      "outputs": [
        {
          "name": "stdout",
          "output_type": "stream",
          "text": [
            "Heart rate vector:\n",
            " tensor([72., 85., 68., 90., 84., 78.], dtype=torch.float64)\n",
            "Average heart rate: 79.5\n",
            "Deviations in heart rate vector:\n",
            " tensor([ -7.5000,   5.5000, -11.5000,  10.5000,   4.5000,  -1.5000],\n",
            "       dtype=torch.float64)\n",
            "Squared-deviations in heart rate vector:\n",
            " tensor([ 56.2500,  30.2500, 132.2500, 110.2500,  20.2500,   2.2500],\n",
            "       dtype=torch.float64)\n",
            "Average squared deviation or variance in the heart rate: 58.583333333333336\n",
            "Standard deviation of the heart rate: 7.65397500213669\n",
            "Standardized heart rate vector:\n",
            "tensor([-0.9799,  0.7186, -1.5025,  1.3718,  0.5879, -0.1960],\n",
            "       dtype=torch.float64)\n"
          ]
        }
      ],
      "source": [
        "# Heart rate vector\n",
        "a = X[:, 0]\n",
        "print(f'Heart rate vector:\\n {a}')\n",
        "\n",
        "# BP vector\n",
        "b = X[:, 1]\n",
        "#print(f'Blood pressure vector:\\n {b}')\n",
        "\n",
        "# Average heart rate\n",
        "print(f'Average heart rate: {torch.mean(a)}')\n",
        "\n",
        "# Average BP\n",
        "#print(torch.mean(b))\n",
        "\n",
        "# Mean-centered heart rate vector or the de-meaned heart rate vector or the\n",
        "# deviations in heart rate vectors\n",
        "a_mc = a - torch.mean(a)\n",
        "print(f'Deviations in heart rate vector:\\n {a_mc}')\n",
        "\n",
        "# The average of the components of the mean-centered heart rate vector is zero\n",
        "#print(torch.mean(a_mc))\n",
        "\n",
        "# The squared deviations vector\n",
        "print(f'Squared-deviations in heart rate vector:\\n {a_mc**2}')\n",
        "\n",
        "# The average of the squared deviations vector a.k.a. the variance in\n",
        "# the heart rate\n",
        "v = torch.mean(a_mc**2)\n",
        "print(f'Average squared deviation or variance in the heart rate: {v}')\n",
        "\n",
        "# Square-root of the average of the squared deviations vector\n",
        "# which is the same as the square root of the variance a.k.a. the\n",
        "# standard deviation in the heart rate\n",
        "s = torch.sqrt(v)\n",
        "print(f'Standard deviation of the heart rate: {s}')\n",
        "\n",
        "# Standardized heart rate vector a.k.a. the z-scores of the heart rate is\n",
        "# obtained by subtracting the mean heart rate and dividing by the\n",
        "# deviation of the heart rates\n",
        "z = a_mc / s #same as (a-np.mean(a)) / np.std(a)\n",
        "print(f'Standardized heart rate vector:\\n{z}')"
      ]
    },
    {
      "cell_type": "markdown",
      "metadata": {
        "id": "qMaz_7oNMFYM"
      },
      "source": [
        "---\n",
        "\n",
        "Suppose heart rate is measured in beats per hour instead of beats per minute. How do the z-scores look like now?\n",
        "\n",
        "---"
      ]
    },
    {
      "cell_type": "code",
      "execution_count": null,
      "metadata": {
        "colab": {
          "base_uri": "https://localhost:8080/"
        },
        "id": "NuCt2XMjzwj9",
        "outputId": "98f02ec6-c294-4010-aa03-e7932ee847e9"
      },
      "outputs": [
        {
          "name": "stdout",
          "output_type": "stream",
          "text": [
            "Heart rate vector:\n",
            " tensor([4320., 5100., 4080., 5400., 5040., 4680.], dtype=torch.float64)\n",
            "Average heart rate: 4770.0\n",
            "Deviations in heart rate vector:\n",
            " tensor([-450.,  330., -690.,  630.,  270.,  -90.], dtype=torch.float64)\n",
            "Squared-deviations in heart rate vector:\n",
            " tensor([202500., 108900., 476100., 396900.,  72900.,   8100.],\n",
            "       dtype=torch.float64)\n",
            "Average squared deviation or variance in the heart rate: 210900.0\n",
            "Standard deviation of the heart rate: 459.23850012820134\n",
            "Standardized heart rate vector:\n",
            "tensor([-0.9799,  0.7186, -1.5025,  1.3718,  0.5879, -0.1960],\n",
            "       dtype=torch.float64)\n"
          ]
        }
      ],
      "source": [
        "# Suppose heart rate is measured in beats per hour instead of beats per minute\n",
        "a = X[:, 0]*60\n",
        "print(f'Heart rate vector:\\n {a}')\n",
        "\n",
        "# BP vector\n",
        "b = X[:, 1]\n",
        "#print(f'Blood pressure vector:\\n {b}')\n",
        "\n",
        "# Average heart rate\n",
        "print(f'Average heart rate: {torch.mean(a)}')\n",
        "\n",
        "# Average BP\n",
        "#print(torch.mean(b))\n",
        "\n",
        "# Mean-centered heart rate vector or the de-meaned heart rate vector or the\n",
        "# deviations in heart rate vectors\n",
        "a_mc = a - torch.mean(a)\n",
        "print(f'Deviations in heart rate vector:\\n {a_mc}')\n",
        "\n",
        "# The average of the components of the mean-centered heart rate vector is zero\n",
        "#print(torch.mean(a_mc))\n",
        "\n",
        "# The squared deviations vector\n",
        "print(f'Squared-deviations in heart rate vector:\\n {a_mc**2}')\n",
        "\n",
        "# The average of the squared deviations vector a.k.a. the variance in\n",
        "# the heart rate\n",
        "v = torch.mean(a_mc**2)\n",
        "print(f'Average squared deviation or variance in the heart rate: {v}')\n",
        "\n",
        "# Square-root of the average of the squared deviations vector\n",
        "# which is the same as the square root of the variance a.k.a. the\n",
        "# standard deviation in the heart rate\n",
        "s = torch.sqrt(v)\n",
        "print(f'Standard deviation of the heart rate: {s}')\n",
        "\n",
        "# Standardized heart rate vector a.k.a. the z-scores of the heart rate\n",
        "z = a_mc / s\n",
        "print(f'Standardized heart rate vector:\\n{z}')\n",
        "# The z-scores are the same as before when the heart rate was in beats per minute"
      ]
    },
    {
      "cell_type": "markdown",
      "metadata": {
        "id": "qA6qAaCW9RQ_"
      },
      "source": [
        "---\n",
        "\n",
        "One-hot encoding of the true output labels\n",
        "\n",
        "\n",
        "![patient dataset](https://1drv.ms/i/s!AjTcbXuSD3I3hspfrgklysOtJMOjaA?embed=1&width=800)\n",
        "\n",
        "---"
      ]
    },
    {
      "cell_type": "code",
      "execution_count": null,
      "metadata": {
        "colab": {
          "base_uri": "https://localhost:8080/"
        },
        "id": "7ABCvj-19baz",
        "outputId": "6e829693-cb46-44b4-9a63-fc1113e90e97"
      },
      "outputs": [
        {
          "name": "stdout",
          "output_type": "stream",
          "text": [
            "['non-diabetic' 'diabetic' 'non-diabetic' 'pre-diabetic' 'diabetic'\n",
            " 'pre-diabetic']\n",
            "<class 'numpy.ndarray'>\n",
            "(6,)\n",
            "------\n",
            "[['non-diabetic']\n",
            " ['diabetic']\n",
            " ['non-diabetic']\n",
            " ['pre-diabetic']\n",
            " ['diabetic']\n",
            " ['pre-diabetic']]\n",
            "<class 'numpy.ndarray'>\n",
            "(6, 1)\n",
            "-------\n",
            "tensor([[0., 1., 0.],\n",
            "        [1., 0., 0.],\n",
            "        [0., 1., 0.],\n",
            "        [0., 0., 1.],\n",
            "        [1., 0., 0.],\n",
            "        [0., 0., 1.]], dtype=torch.float64)\n"
          ]
        }
      ],
      "source": [
        "# The following does not work in PyTorch\n",
        "#y = torch.tensor(['non-diabetic', 'diabetic'])\n",
        "\n",
        "# Create a 1D-numpy array of output labels (equivalent to a rank-1 tensor in\n",
        "# PyTorch which itself is equivalent to a vector in pen & paper)\n",
        "y = np.array(['non-diabetic',\n",
        "              'diabetic',\n",
        "              'non-diabetic',\n",
        "              'pre-diabetic',\n",
        "              'diabetic',\n",
        "              'pre-diabetic'])\n",
        "print(y)\n",
        "print(type(y))\n",
        "print(y.shape)\n",
        "y = y.reshape(-1, 1)\n",
        "print('------')\n",
        "print(y)\n",
        "print(type(y))\n",
        "print(y.shape)\n",
        "print('-------')\n",
        "# Creating a one-hot encoder object\n",
        "ohe = OneHotEncoder(sparse_output = False)\n",
        "# Create the one-hot encoded true output labels matrix\n",
        "Y = torch.tensor(ohe.fit_transform(y), dtype = torch.float64)\n",
        "print(Y)"
      ]
    },
    {
      "cell_type": "markdown",
      "metadata": {
        "id": "tBg3HSbDFUQT"
      },
      "source": [
        "---\n",
        "\n",
        "The forward propagation\n",
        "\n",
        "---"
      ]
    },
    {
      "cell_type": "code",
      "execution_count": null,
      "metadata": {
        "colab": {
          "base_uri": "https://localhost:8080/"
        },
        "id": "aBIbqmivFXa0",
        "outputId": "0409cc4c-3388-46c2-eb7f-1d7b2ca19f19"
      },
      "outputs": [
        {
          "name": "stdout",
          "output_type": "stream",
          "text": [
            "The standardized data matrix:\n",
            "tensor([[-0.9799, -0.7019, -0.7238, -0.9871,  0.8920],\n",
            "        [ 0.7186,  0.3509, -1.2449, -0.6050, -1.2374],\n",
            "        [-1.5025, -1.7547,  1.3607,  0.3503,  1.0647],\n",
            "        [ 1.3718,  1.4037,  0.4922,  0.6687,  0.1439],\n",
            "        [ 0.5879,  0.5615,  1.0133,  1.6876,  0.6043],\n",
            "        [-0.1960,  0.1404, -0.8975, -1.1144, -1.4676]], dtype=torch.float64)\n",
            "One-hot encoded true output labels matrx:\n",
            "tensor([[0., 1., 0.],\n",
            "        [1., 0., 0.],\n",
            "        [0., 1., 0.],\n",
            "        [0., 0., 1.],\n",
            "        [1., 0., 0.],\n",
            "        [0., 0., 1.]], dtype=torch.float64)\n",
            "The weights matrix:\n",
            "tensor([[-0.1000,  0.5000,  0.3000],\n",
            "        [ 0.9000,  0.3000,  0.5000],\n",
            "        [-1.5000,  0.4000,  0.1000],\n",
            "        [ 0.1000,  0.1000, -1.0000],\n",
            "        [-1.2000,  0.5000, -0.8000]], dtype=torch.float64)\n",
            "The raw scores matrix:\n",
            "tensor([[-0.6171, -0.6427, -0.4438],\n",
            "        [ 3.5357, -0.7126,  1.8614],\n",
            "        [-4.7127, -0.1660, -2.3940],\n",
            "        [ 0.2821,  1.4427,  0.3789],\n",
            "        [-1.6298,  1.3386, -1.6126],\n",
            "        [ 3.1418, -1.2601,  2.2101]], dtype=torch.float64)\n",
            "The softmax-activated raw scores matrix:\n",
            "tensor([[0.3161, 0.3081, 0.3759],\n",
            "        [0.8321, 0.0119, 0.1560],\n",
            "        [0.0095, 0.8942, 0.0963],\n",
            "        [0.1889, 0.6030, 0.2081],\n",
            "        [0.0466, 0.9061, 0.0474],\n",
            "        [0.7112, 0.0087, 0.2801]], dtype=torch.float64)\n",
            "One-hot encoded true output labels matrix:tensor([[0., 1., 0.],\n",
            "        [1., 0., 0.],\n",
            "        [0., 1., 0.],\n",
            "        [0., 0., 1.],\n",
            "        [1., 0., 0.],\n",
            "        [0., 0., 1.]], dtype=torch.float64)\n",
            "Hadamard product of Y and A:tensor([[0.0000, 0.3081, 0.0000],\n",
            "        [0.8321, 0.0000, 0.0000],\n",
            "        [0.0000, 0.8942, 0.0000],\n",
            "        [0.0000, 0.0000, 0.2081],\n",
            "        [0.0466, 0.0000, 0.0000],\n",
            "        [0.0000, 0.0000, 0.2801]], dtype=torch.float64)\n",
            "tensor([0.3081, 0.8321, 0.8942, 0.2081, 0.0466, 0.2801], dtype=torch.float64)\n",
            "tensor([1.1774, 0.1838, 0.1118, 1.5697, 3.0671, 1.2726], dtype=torch.float64)\n",
            "tensor(1.2304, dtype=torch.float64)\n",
            "Average training loss = 1.2303940464309855\n"
          ]
        }
      ],
      "source": [
        "# Standardize the data\n",
        "sc = StandardScaler() # create a standard scaler object\n",
        "X_std = torch.tensor(sc.fit_transform(X), dtype = torch.float64)\n",
        "print(f'The standardized data matrix:\\n{X_std}')\n",
        "\n",
        "# The one-hot encoded true output labels matrix\n",
        "print(f'One-hot encoded true output labels matrx:\\n{Y}')\n",
        "\n",
        "# Calculate the raw scores using the standardized data matrix\n",
        "# and the weights matrix\n",
        "print(f'The weights matrix:\\n{W}')\n",
        "Z = torch.matmul(X_std, W)\n",
        "print(f'The raw scores matrix:\\n{Z}')\n",
        "\n",
        "# Calculate the softmax-activated scores matrix\n",
        "softmax = torch.nn.Softmax(dim = 1)\n",
        "A = softmax(Z)\n",
        "print(f'The softmax-activated raw scores matrix:\\n{A}')\n",
        "\n",
        "# Quantify the unhappiness w.r.t. the current set of weights\n",
        "print(f'One-hot encoded true output labels matrix:{Y}')\n",
        "print(f'Hadamard product of Y and A:{Y*A}')\n",
        "print(torch.sum(Y*A, dim=1))\n",
        "print(-torch.log(torch.sum(Y*A, dim=1)))\n",
        "print(torch.mean(-torch.log(torch.sum(Y*A, dim=1))))\n",
        "# Calculate the average training loss\n",
        "L = torch.mean(-torch.log(torch.sum(Y*A, dim=1)))\n",
        "print(f'Average training loss = {L}')"
      ]
    },
    {
      "cell_type": "markdown",
      "metadata": {
        "id": "xHosp-fHBRqA"
      },
      "source": [
        "---\n",
        "\n",
        "A detour to data structures in Python\n",
        "\n",
        "---"
      ]
    },
    {
      "cell_type": "code",
      "execution_count": null,
      "metadata": {
        "colab": {
          "base_uri": "https://localhost:8080/"
        },
        "id": "_RUy0ovx_DD6",
        "outputId": "00c3d289-49a8-413c-cf21-1bd916bead4a"
      },
      "outputs": [
        {
          "name": "stdout",
          "output_type": "stream",
          "text": [
            "tensor([1., 2., 3.])\n",
            "<class 'torch.Tensor'>\n",
            "torch.Size([3])\n",
            "-------\n",
            "[1. 2. 3.]\n",
            "<class 'numpy.ndarray'>\n",
            "(3,)\n",
            "------\n",
            "[1.0, 2.0, 3.0]\n",
            "<class 'list'>\n",
            "------\n",
            "(1.0, 2.0, 3.0)\n",
            "<class 'tuple'>\n"
          ]
        }
      ],
      "source": [
        "# PyTorch tensor\n",
        "a = torch.tensor([1.0, 2.0, 3.0])\n",
        "print(a)\n",
        "print(type(a))\n",
        "print(a.shape)\n",
        "print('-------')\n",
        "\n",
        "# Numpy array\n",
        "b = np.array([1.0, 2.0, 3.0])\n",
        "print(b)\n",
        "print(type(b))\n",
        "print(b.shape)\n",
        "print('------')\n",
        "\n",
        "# List\n",
        "c = [1.0, 2.0, 3.0]\n",
        "print(c)\n",
        "print(type(c))\n",
        "#print(c.shape) # does not work\n",
        "print('------')\n",
        "\n",
        "# Tuple\n",
        "d = (1.0, 2.0, 3.0)\n",
        "print(d)\n",
        "print(type(d))\n",
        "#print(d.shape) # does not work"
      ]
    },
    {
      "cell_type": "markdown",
      "metadata": {
        "id": "g6oLUxSbibvy"
      },
      "source": [
        "---\n",
        "\n",
        "Read hourly temperature data for multiple cities\n",
        "\n",
        "---"
      ]
    },
    {
      "cell_type": "code",
      "execution_count": 8,
      "metadata": {
        "colab": {
          "base_uri": "https://localhost:8080/",
          "height": 391
        },
        "id": "WxY-tjdyigHQ",
        "outputId": "8a4311a7-fff2-47b2-f671-a48151aad449"
      },
      "outputs": [
        {
          "data": {
            "text/html": [
              "<div>\n",
              "<style scoped>\n",
              "    .dataframe tbody tr th:only-of-type {\n",
              "        vertical-align: middle;\n",
              "    }\n",
              "\n",
              "    .dataframe tbody tr th {\n",
              "        vertical-align: top;\n",
              "    }\n",
              "\n",
              "    .dataframe thead th {\n",
              "        text-align: right;\n",
              "    }\n",
              "</style>\n",
              "<table border=\"1\" class=\"dataframe\">\n",
              "  <thead>\n",
              "    <tr style=\"text-align: right;\">\n",
              "      <th></th>\n",
              "      <th>Vancouver</th>\n",
              "      <th>Portland</th>\n",
              "      <th>San Francisco</th>\n",
              "      <th>Seattle</th>\n",
              "      <th>Los Angeles</th>\n",
              "      <th>San Diego</th>\n",
              "      <th>Las Vegas</th>\n",
              "      <th>Phoenix</th>\n",
              "      <th>Albuquerque</th>\n",
              "      <th>Denver</th>\n",
              "      <th>...</th>\n",
              "      <th>Philadelphia</th>\n",
              "      <th>New York</th>\n",
              "      <th>Montreal</th>\n",
              "      <th>Boston</th>\n",
              "      <th>Beersheba</th>\n",
              "      <th>Tel Aviv District</th>\n",
              "      <th>Eilat</th>\n",
              "      <th>Haifa</th>\n",
              "      <th>Nahariyya</th>\n",
              "      <th>Jerusalem</th>\n",
              "    </tr>\n",
              "    <tr>\n",
              "      <th>datetime</th>\n",
              "      <th></th>\n",
              "      <th></th>\n",
              "      <th></th>\n",
              "      <th></th>\n",
              "      <th></th>\n",
              "      <th></th>\n",
              "      <th></th>\n",
              "      <th></th>\n",
              "      <th></th>\n",
              "      <th></th>\n",
              "      <th></th>\n",
              "      <th></th>\n",
              "      <th></th>\n",
              "      <th></th>\n",
              "      <th></th>\n",
              "      <th></th>\n",
              "      <th></th>\n",
              "      <th></th>\n",
              "      <th></th>\n",
              "      <th></th>\n",
              "      <th></th>\n",
              "    </tr>\n",
              "  </thead>\n",
              "  <tbody>\n",
              "    <tr>\n",
              "      <th>2012-10-01 13:00:00</th>\n",
              "      <td>284.630000</td>\n",
              "      <td>282.080000</td>\n",
              "      <td>289.480000</td>\n",
              "      <td>281.800000</td>\n",
              "      <td>291.870000</td>\n",
              "      <td>291.530000</td>\n",
              "      <td>293.410000</td>\n",
              "      <td>296.600000</td>\n",
              "      <td>285.120000</td>\n",
              "      <td>284.610000</td>\n",
              "      <td>...</td>\n",
              "      <td>285.630000</td>\n",
              "      <td>288.220000</td>\n",
              "      <td>285.830000</td>\n",
              "      <td>287.170000</td>\n",
              "      <td>307.590000</td>\n",
              "      <td>305.470000</td>\n",
              "      <td>310.580000</td>\n",
              "      <td>304.4</td>\n",
              "      <td>304.4</td>\n",
              "      <td>303.5</td>\n",
              "    </tr>\n",
              "    <tr>\n",
              "      <th>2012-10-01 14:00:00</th>\n",
              "      <td>284.629041</td>\n",
              "      <td>282.083252</td>\n",
              "      <td>289.474993</td>\n",
              "      <td>281.797217</td>\n",
              "      <td>291.868186</td>\n",
              "      <td>291.533501</td>\n",
              "      <td>293.403141</td>\n",
              "      <td>296.608509</td>\n",
              "      <td>285.154558</td>\n",
              "      <td>284.607306</td>\n",
              "      <td>...</td>\n",
              "      <td>285.663208</td>\n",
              "      <td>288.247676</td>\n",
              "      <td>285.834650</td>\n",
              "      <td>287.186092</td>\n",
              "      <td>307.590000</td>\n",
              "      <td>304.310000</td>\n",
              "      <td>310.495769</td>\n",
              "      <td>304.4</td>\n",
              "      <td>304.4</td>\n",
              "      <td>303.5</td>\n",
              "    </tr>\n",
              "    <tr>\n",
              "      <th>2012-10-01 15:00:00</th>\n",
              "      <td>284.626998</td>\n",
              "      <td>282.091866</td>\n",
              "      <td>289.460618</td>\n",
              "      <td>281.789833</td>\n",
              "      <td>291.862844</td>\n",
              "      <td>291.543355</td>\n",
              "      <td>293.392177</td>\n",
              "      <td>296.631487</td>\n",
              "      <td>285.233952</td>\n",
              "      <td>284.599918</td>\n",
              "      <td>...</td>\n",
              "      <td>285.756824</td>\n",
              "      <td>288.326940</td>\n",
              "      <td>285.847790</td>\n",
              "      <td>287.231672</td>\n",
              "      <td>307.391513</td>\n",
              "      <td>304.281841</td>\n",
              "      <td>310.411538</td>\n",
              "      <td>304.4</td>\n",
              "      <td>304.4</td>\n",
              "      <td>303.5</td>\n",
              "    </tr>\n",
              "    <tr>\n",
              "      <th>2012-10-01 16:00:00</th>\n",
              "      <td>284.624955</td>\n",
              "      <td>282.100481</td>\n",
              "      <td>289.446243</td>\n",
              "      <td>281.782449</td>\n",
              "      <td>291.857503</td>\n",
              "      <td>291.553209</td>\n",
              "      <td>293.381213</td>\n",
              "      <td>296.654466</td>\n",
              "      <td>285.313345</td>\n",
              "      <td>284.592530</td>\n",
              "      <td>...</td>\n",
              "      <td>285.850440</td>\n",
              "      <td>288.406203</td>\n",
              "      <td>285.860929</td>\n",
              "      <td>287.277251</td>\n",
              "      <td>307.145200</td>\n",
              "      <td>304.238015</td>\n",
              "      <td>310.327308</td>\n",
              "      <td>304.4</td>\n",
              "      <td>304.4</td>\n",
              "      <td>303.5</td>\n",
              "    </tr>\n",
              "    <tr>\n",
              "      <th>2012-10-01 17:00:00</th>\n",
              "      <td>284.622911</td>\n",
              "      <td>282.109095</td>\n",
              "      <td>289.431869</td>\n",
              "      <td>281.775065</td>\n",
              "      <td>291.852162</td>\n",
              "      <td>291.563063</td>\n",
              "      <td>293.370249</td>\n",
              "      <td>296.677445</td>\n",
              "      <td>285.392738</td>\n",
              "      <td>284.585142</td>\n",
              "      <td>...</td>\n",
              "      <td>285.944057</td>\n",
              "      <td>288.485467</td>\n",
              "      <td>285.874069</td>\n",
              "      <td>287.322831</td>\n",
              "      <td>306.898887</td>\n",
              "      <td>304.194188</td>\n",
              "      <td>310.243077</td>\n",
              "      <td>304.4</td>\n",
              "      <td>304.4</td>\n",
              "      <td>303.5</td>\n",
              "    </tr>\n",
              "  </tbody>\n",
              "</table>\n",
              "<p>5 rows × 36 columns</p>\n",
              "</div>"
            ],
            "text/plain": [
              "                      Vancouver    Portland  San Francisco     Seattle  \\\n",
              "datetime                                                                 \n",
              "2012-10-01 13:00:00  284.630000  282.080000     289.480000  281.800000   \n",
              "2012-10-01 14:00:00  284.629041  282.083252     289.474993  281.797217   \n",
              "2012-10-01 15:00:00  284.626998  282.091866     289.460618  281.789833   \n",
              "2012-10-01 16:00:00  284.624955  282.100481     289.446243  281.782449   \n",
              "2012-10-01 17:00:00  284.622911  282.109095     289.431869  281.775065   \n",
              "\n",
              "                     Los Angeles   San Diego   Las Vegas     Phoenix  \\\n",
              "datetime                                                               \n",
              "2012-10-01 13:00:00   291.870000  291.530000  293.410000  296.600000   \n",
              "2012-10-01 14:00:00   291.868186  291.533501  293.403141  296.608509   \n",
              "2012-10-01 15:00:00   291.862844  291.543355  293.392177  296.631487   \n",
              "2012-10-01 16:00:00   291.857503  291.553209  293.381213  296.654466   \n",
              "2012-10-01 17:00:00   291.852162  291.563063  293.370249  296.677445   \n",
              "\n",
              "                     Albuquerque      Denver  ...  Philadelphia    New York  \\\n",
              "datetime                                      ...                             \n",
              "2012-10-01 13:00:00   285.120000  284.610000  ...    285.630000  288.220000   \n",
              "2012-10-01 14:00:00   285.154558  284.607306  ...    285.663208  288.247676   \n",
              "2012-10-01 15:00:00   285.233952  284.599918  ...    285.756824  288.326940   \n",
              "2012-10-01 16:00:00   285.313345  284.592530  ...    285.850440  288.406203   \n",
              "2012-10-01 17:00:00   285.392738  284.585142  ...    285.944057  288.485467   \n",
              "\n",
              "                       Montreal      Boston   Beersheba  Tel Aviv District  \\\n",
              "datetime                                                                     \n",
              "2012-10-01 13:00:00  285.830000  287.170000  307.590000         305.470000   \n",
              "2012-10-01 14:00:00  285.834650  287.186092  307.590000         304.310000   \n",
              "2012-10-01 15:00:00  285.847790  287.231672  307.391513         304.281841   \n",
              "2012-10-01 16:00:00  285.860929  287.277251  307.145200         304.238015   \n",
              "2012-10-01 17:00:00  285.874069  287.322831  306.898887         304.194188   \n",
              "\n",
              "                          Eilat  Haifa  Nahariyya  Jerusalem  \n",
              "datetime                                                      \n",
              "2012-10-01 13:00:00  310.580000  304.4      304.4      303.5  \n",
              "2012-10-01 14:00:00  310.495769  304.4      304.4      303.5  \n",
              "2012-10-01 15:00:00  310.411538  304.4      304.4      303.5  \n",
              "2012-10-01 16:00:00  310.327308  304.4      304.4      303.5  \n",
              "2012-10-01 17:00:00  310.243077  304.4      304.4      303.5  \n",
              "\n",
              "[5 rows x 36 columns]"
            ]
          },
          "execution_count": 8,
          "metadata": {},
          "output_type": "execute_result"
        }
      ],
      "source": [
        "## Read hourly temperature data for multiple cities\n",
        "FILE = DATA_DIR + 'temperature.csv'\n",
        "df_temp = pd.read_csv(FILE, sep = ',', header = 0, skiprows = [1])\n",
        "df_temp['datetime'] = pd.to_datetime(df_temp['datetime'], format='%Y-%m-%d %H:%M:%S')\n",
        "df_temp = df_temp.set_index('datetime')\n",
        "df_temp.head()"
      ]
    },
    {
      "cell_type": "markdown",
      "metadata": {
        "id": "OOfaJiJOjVfz"
      },
      "source": [
        "---\n",
        "\n",
        "Extract daily temperature vectors for San Francisco for October 2, 2012 and December 2, 2012 and make component plots of those vectors\n",
        "\n",
        "---"
      ]
    },
    {
      "cell_type": "code",
      "execution_count": null,
      "metadata": {
        "colab": {
          "base_uri": "https://localhost:8080/"
        },
        "id": "xVlAvFnpMlYe",
        "outputId": "2c5541d8-ad1d-451c-e4cb-3182ff0ecdee"
      },
      "outputs": [
        {
          "data": {
            "text/plain": [
              "slice(11, 35, None)"
            ]
          },
          "execution_count": 23,
          "metadata": {},
          "output_type": "execute_result"
        }
      ],
      "source": [
        "df_temp.index.get_loc('2012-10-02')"
      ]
    },
    {
      "cell_type": "code",
      "execution_count": null,
      "metadata": {
        "colab": {
          "base_uri": "https://localhost:8080/",
          "height": 868
        },
        "id": "M8fxVTaUL2mG",
        "outputId": "3aa681ef-6583-47f6-a354-262c2d029e3b"
      },
      "outputs": [
        {
          "data": {
            "text/html": [
              "<div>\n",
              "<style scoped>\n",
              "    .dataframe tbody tr th:only-of-type {\n",
              "        vertical-align: middle;\n",
              "    }\n",
              "\n",
              "    .dataframe tbody tr th {\n",
              "        vertical-align: top;\n",
              "    }\n",
              "\n",
              "    .dataframe thead th {\n",
              "        text-align: right;\n",
              "    }\n",
              "</style>\n",
              "<table border=\"1\" class=\"dataframe\">\n",
              "  <thead>\n",
              "    <tr style=\"text-align: right;\">\n",
              "      <th></th>\n",
              "      <th>San Francisco</th>\n",
              "    </tr>\n",
              "    <tr>\n",
              "      <th>datetime</th>\n",
              "      <th></th>\n",
              "    </tr>\n",
              "  </thead>\n",
              "  <tbody>\n",
              "    <tr>\n",
              "      <th>2012-10-02 00:00:00</th>\n",
              "      <td>289.331246</td>\n",
              "    </tr>\n",
              "    <tr>\n",
              "      <th>2012-10-02 01:00:00</th>\n",
              "      <td>289.316871</td>\n",
              "    </tr>\n",
              "    <tr>\n",
              "      <th>2012-10-02 02:00:00</th>\n",
              "      <td>289.302496</td>\n",
              "    </tr>\n",
              "    <tr>\n",
              "      <th>2012-10-02 03:00:00</th>\n",
              "      <td>289.288122</td>\n",
              "    </tr>\n",
              "    <tr>\n",
              "      <th>2012-10-02 04:00:00</th>\n",
              "      <td>289.273747</td>\n",
              "    </tr>\n",
              "    <tr>\n",
              "      <th>2012-10-02 05:00:00</th>\n",
              "      <td>289.259372</td>\n",
              "    </tr>\n",
              "    <tr>\n",
              "      <th>2012-10-02 06:00:00</th>\n",
              "      <td>289.244998</td>\n",
              "    </tr>\n",
              "    <tr>\n",
              "      <th>2012-10-02 07:00:00</th>\n",
              "      <td>289.230623</td>\n",
              "    </tr>\n",
              "    <tr>\n",
              "      <th>2012-10-02 08:00:00</th>\n",
              "      <td>289.216248</td>\n",
              "    </tr>\n",
              "    <tr>\n",
              "      <th>2012-10-02 09:00:00</th>\n",
              "      <td>289.201874</td>\n",
              "    </tr>\n",
              "    <tr>\n",
              "      <th>2012-10-02 10:00:00</th>\n",
              "      <td>289.187499</td>\n",
              "    </tr>\n",
              "    <tr>\n",
              "      <th>2012-10-02 11:00:00</th>\n",
              "      <td>289.173124</td>\n",
              "    </tr>\n",
              "    <tr>\n",
              "      <th>2012-10-02 12:00:00</th>\n",
              "      <td>289.158749</td>\n",
              "    </tr>\n",
              "    <tr>\n",
              "      <th>2012-10-02 13:00:00</th>\n",
              "      <td>289.144375</td>\n",
              "    </tr>\n",
              "    <tr>\n",
              "      <th>2012-10-02 14:00:00</th>\n",
              "      <td>289.130000</td>\n",
              "    </tr>\n",
              "    <tr>\n",
              "      <th>2012-10-02 15:00:00</th>\n",
              "      <td>290.730000</td>\n",
              "    </tr>\n",
              "    <tr>\n",
              "      <th>2012-10-02 16:00:00</th>\n",
              "      <td>293.020000</td>\n",
              "    </tr>\n",
              "    <tr>\n",
              "      <th>2012-10-02 17:00:00</th>\n",
              "      <td>296.180000</td>\n",
              "    </tr>\n",
              "    <tr>\n",
              "      <th>2012-10-02 18:00:00</th>\n",
              "      <td>299.660000</td>\n",
              "    </tr>\n",
              "    <tr>\n",
              "      <th>2012-10-02 19:00:00</th>\n",
              "      <td>300.030000</td>\n",
              "    </tr>\n",
              "    <tr>\n",
              "      <th>2012-10-02 20:00:00</th>\n",
              "      <td>301.070000</td>\n",
              "    </tr>\n",
              "    <tr>\n",
              "      <th>2012-10-02 21:00:00</th>\n",
              "      <td>302.290000</td>\n",
              "    </tr>\n",
              "    <tr>\n",
              "      <th>2012-10-02 22:00:00</th>\n",
              "      <td>304.700000</td>\n",
              "    </tr>\n",
              "    <tr>\n",
              "      <th>2012-10-02 23:00:00</th>\n",
              "      <td>304.860000</td>\n",
              "    </tr>\n",
              "  </tbody>\n",
              "</table>\n",
              "</div><br><label><b>dtype:</b> float64</label>"
            ],
            "text/plain": [
              "datetime\n",
              "2012-10-02 00:00:00    289.331246\n",
              "2012-10-02 01:00:00    289.316871\n",
              "2012-10-02 02:00:00    289.302496\n",
              "2012-10-02 03:00:00    289.288122\n",
              "2012-10-02 04:00:00    289.273747\n",
              "2012-10-02 05:00:00    289.259372\n",
              "2012-10-02 06:00:00    289.244998\n",
              "2012-10-02 07:00:00    289.230623\n",
              "2012-10-02 08:00:00    289.216248\n",
              "2012-10-02 09:00:00    289.201874\n",
              "2012-10-02 10:00:00    289.187499\n",
              "2012-10-02 11:00:00    289.173124\n",
              "2012-10-02 12:00:00    289.158749\n",
              "2012-10-02 13:00:00    289.144375\n",
              "2012-10-02 14:00:00    289.130000\n",
              "2012-10-02 15:00:00    290.730000\n",
              "2012-10-02 16:00:00    293.020000\n",
              "2012-10-02 17:00:00    296.180000\n",
              "2012-10-02 18:00:00    299.660000\n",
              "2012-10-02 19:00:00    300.030000\n",
              "2012-10-02 20:00:00    301.070000\n",
              "2012-10-02 21:00:00    302.290000\n",
              "2012-10-02 22:00:00    304.700000\n",
              "2012-10-02 23:00:00    304.860000\n",
              "Name: San Francisco, dtype: float64"
            ]
          },
          "execution_count": 24,
          "metadata": {},
          "output_type": "execute_result"
        }
      ],
      "source": [
        "df_temp.iloc[df_temp.index.get_loc('2012-10-02'), df_temp.columns.get_loc( 'San Francisco')]"
      ]
    },
    {
      "cell_type": "code",
      "execution_count": null,
      "metadata": {
        "colab": {
          "base_uri": "https://localhost:8080/"
        },
        "id": "7lmWY2m8GMUH",
        "outputId": "5fe2d7e1-fc62-4354-d4c3-dce8337f0e0c"
      },
      "outputs": [
        {
          "data": {
            "text/plain": [
              "array([16.18124581, 16.16687111, 16.15249641, 16.13812171, 16.12374701,\n",
              "       16.10937231, 16.0949976 , 16.0806229 , 16.0662482 , 16.0518735 ,\n",
              "       16.0374988 , 16.0231241 , 16.0087494 , 15.9943747 , 15.98      ,\n",
              "       17.58      , 19.87      , 23.03      , 26.51      , 26.88      ,\n",
              "       27.92      , 29.14      , 31.55      , 31.71      ])"
            ]
          },
          "execution_count": 25,
          "metadata": {},
          "output_type": "execute_result"
        }
      ],
      "source": [
        "df_temp['Vancouver']\n",
        "df_temp['Vancouver'].values# will give the column of only values under sanfransico which is a named array\n",
        "df_temp.iloc[1:4,0]#0th coloumn is vancouver, in iloc we strictly should put only numbers and no names of the columns, else it will give an error\n",
        "df_temp.index#gives names of all indices wuth its name like\n",
        "'''DatetimeIndex(['2012-10-01 13:00:00', '2012-10-01 14:00:00',\n",
        "               '2012-10-01 15:00:00', '2012-10-01 16:00:00',\n",
        "               '2012-10-01 17:00:00', '2012-10-01 18:00:00',\n",
        "               '2012-10-01 19:00:00', '2012-10-01 20:00:00',\n",
        "               '2012-10-01 21:00:00', '2012-10-01 22:00:00',\n",
        "               ...\n",
        "               '2017-11-29 15:00:00', '2017-11-29 16:00:00',\n",
        "               '2017-11-29 17:00:00', '2017-11-29 18:00:00',\n",
        "               '2017-11-29 19:00:00', '2017-11-29 20:00:00',\n",
        "               '2017-11-29 21:00:00', '2017-11-29 22:00:00',\n",
        "               '2017-11-29 23:00:00', '2017-11-30 00:00:00'],\n",
        "              dtype='datetime64[ns]', name='datetime', length=45252, freq=None)'''\n",
        "df_temp.columns\n",
        "'''Index(['Vancouver', 'Portland', 'San Francisco', 'Seattle', 'Los Angeles',\n",
        "       'San Diego', 'Las Vegas', 'Phoenix', 'Albuquerque', 'Denver',\n",
        "       'San Antonio', 'Dallas', 'Houston', 'Kansas City', 'Minneapolis',\n",
        "       'Saint Louis', 'Chicago', 'Nashville', 'Indianapolis', 'Atlanta',\n",
        "       'Detroit', 'Jacksonville', 'Charlotte', 'Miami', 'Pittsburgh',\n",
        "       'Toronto', 'Philadelphia', 'New York', 'Montreal', 'Boston',\n",
        "       'Beersheba', 'Tel Aviv District', 'Eilat', 'Haifa', 'Nahariyya',\n",
        "       'Jerusalem'],\n",
        "      dtype='object')'''\n",
        "\n",
        "df_temp.index.get_loc('2012-10-02')#gives the index of that timestamp, that is it is from the row 11 to 35\n",
        "df_temp.columns.get_loc('San Francisco')# gives the column number of san francisco in the table\n",
        "df_temp.iloc[df_temp.index.get_loc('2012-10-02'),df_temp.columns.get_loc('San Francisco')].values - 273.15\n",
        "#gives all the values of temperature in san francisco on 02-10-2012"
      ]
    },
    {
      "cell_type": "code",
      "execution_count": null,
      "metadata": {
        "colab": {
          "base_uri": "https://localhost:8080/",
          "height": 890
        },
        "id": "pCX3O2DkjXVU",
        "outputId": "aced55f0-ebfe-4037-e24d-0d3a36ccebc4"
      },
      "outputs": [
        {
          "data": {
            "text/plain": [
              "Text(0.5, 1.0, 'Temperature vector for San Francisco for December 2, 2012')"
            ]
          },
          "execution_count": 26,
          "metadata": {},
          "output_type": "execute_result"
        },
        {
          "data": {
            "image/png": "[encoded data removed]",
            "text/plain": [
              "<Figure size 600x1000 with 2 Axes>"
            ]
          },
          "metadata": {},
          "output_type": "display_data"
        }
      ],
      "source": [
        "# Temperature vector for San Francisco for 2012-10-02\n",
        "t1 = df_temp['San Francisco']\n",
        "t1 = t1['2012-10-02'].values\n",
        "t1 = t1-273.15#convert from kelvin to celcius\n",
        "#print(t1)\n",
        "#df_temp['San Francisco].values will give the column of only values under sanfransico which is a named array\n",
        "#a named array in python is called series(a named vector/ named array)\n",
        "# Temperature vector for San Francisco for 2012-12-02\n",
        "t2 = df_temp.iloc[df_temp.index.get_loc('2012-12-02'),df_temp.columns.get_loc('San Francisco')].values - 273.15\n",
        "#print(t2)\n",
        "\n",
        "\n",
        "# Plot temperature vectors for both days\n",
        "fig1, (ax1,ax2) = plt.subplots(2,1,figsize=(6,10))\n",
        "component_index=range(0,len(t1))\n",
        "ax1.plot(component_index,t1,marker='.')\n",
        "ax1.plot(component_index,[np.mean(t1)]*(len(t1)),color='blue',\n",
        "         linestyle='dashed')\n",
        "ax1.plot(component_index,[np.mean(t1)-np.std(t1)]*(len(t1)),color='red',\n",
        "         linestyle='dashed', linewidth=1)\n",
        "ax1.plot(component_index,[np.mean(t1)+np.std(t1)]*(len(t1)),color='red',\n",
        "         linestyle='dashed', linewidth=1)\n",
        "ax1.set_xlabel('Hour(hr)')\n",
        "ax1.set_ylabel('Temperature(Celcius)')\n",
        "ax1.set_title('Temperature vector for San Francisco on October 2, 2012')\n",
        "\n",
        "ax2.plot(component_index,t2,marker='.')\n",
        "ax2.plot(component_index,[np.mean(t2)]*(len(t2)),color='blue',\n",
        "         linestyle='dashed')\n",
        "ax2.plot(component_index,[np.mean(t2)-np.std(t2)]*(len(t2)),color='red',\n",
        "         linestyle='dashed',linewidth=1)\n",
        "ax2.plot(component_index,[np.mean(t2)+np.std(t2)]*(len(t2)),color='red',\n",
        "         linestyle='dashed',linewidth=1)\n",
        "ax2.set_xlabel('Hour(hr)')\n",
        "ax2.set_ylabel('Temperature(Celcius)')\n",
        "ax2.set_title('Temperature vector for San Francisco for December 2, 2012')\n"
      ]
    },
    {
      "cell_type": "markdown",
      "metadata": {
        "id": "0XHj06rFot3v"
      },
      "source": [
        "---\n",
        "\n",
        "Mean-center the daily temperature vectors for San Francisco for October 2, 2012 and December 2, 2012 and make component plots of those vectors\n",
        "\n",
        "---"
      ]
    },
    {
      "cell_type": "code",
      "execution_count": null,
      "metadata": {
        "colab": {
          "base_uri": "https://localhost:8080/",
          "height": 961
        },
        "id": "J7pJlYVqpDBJ",
        "outputId": "5b84aaeb-6dfd-4259-b2c2-e47fd6e55675"
      },
      "outputs": [
        {
          "name": "stdout",
          "output_type": "stream",
          "text": [
            "[-3.62706017 -3.64143487 -3.65580958 -3.67018428 -3.68455898 -3.69893368\n",
            " -3.71330838 -3.72768308 -3.74205778 -3.75643248 -3.77080718 -3.78518188\n",
            " -3.79955658 -3.81393128 -3.82830598 -2.22830598  0.06169402  3.22169402\n",
            "  6.70169402  7.07169402  8.11169402  9.33169402 11.74169402 11.90169402]\n"
          ]
        },
        {
          "data": {
            "text/plain": [
              "Text(0.5, 1.0, 'Mean-Centered Temperature vector for San Francisco for December 2, 2012')"
            ]
          },
          "execution_count": 27,
          "metadata": {},
          "output_type": "execute_result"
        },
        {
          "data": {
            "image/png": "[encoded data removed]",
            "text/plain": [
              "<Figure size 600x1000 with 2 Axes>"
            ]
          },
          "metadata": {},
          "output_type": "display_data"
        }
      ],
      "source": [
        "# Mean-centered temperature vector for San Francisco for 2012-10-02\n",
        "t1 = df_temp.iloc[df_temp.index.get_loc('2012-10-02'),df_temp.columns.get_loc('San Francisco')].values - 273.15\n",
        "t1_mc = t1-np.mean(t1)\n",
        "print(t1_mc)\n",
        "\n",
        "# Mean-centered temperature vector for San Francisco for 2012-12-02\n",
        "t2 = df_temp.iloc[df_temp.index.get_loc('2012-12-02'),df_temp.columns.get_loc('San Francisco')].values - 273.15\n",
        "t2_mc = t2-np.mean(t2)\n",
        "#print(t2_mc)\n",
        "\n",
        "# Plot mean-centered temperature vectors for both days\n",
        "fig2, (ax1,ax2) = plt.subplots(2,1,figsize=(6,10))\n",
        "component_index=range(0,len(t1_mc))\n",
        "ax1.plot(component_index,t1_mc,marker='.')\n",
        "ax1.plot(component_index,[np.mean(t1_mc)]*(len(t1_mc)),color='blue',\n",
        "         linestyle='dashed')\n",
        "ax1.plot(component_index,[np.mean(t1_mc)-np.std(t1_mc)]*(len(t1_mc)),color='red',\n",
        "         linestyle='dashed', linewidth=1)\n",
        "ax1.plot(component_index,[np.mean(t1_mc)+np.std(t1_mc)]*(len(t1_mc)),color='red',\n",
        "         linestyle='dashed', linewidth=1)\n",
        "ax1.set_xlabel('Hour(hr)')\n",
        "ax1.set_ylabel('Temperature(Celcius)')\n",
        "ax1.set_title('Mean-Centered Temperature vector for San Francisco on October 2, 2012')\n",
        "\n",
        "ax2.plot(component_index,t2_mc,marker='.')\n",
        "ax2.plot(component_index,[np.mean(t2_mc)]*(len(t2_mc)),color='blue',\n",
        "         linestyle='dashed')\n",
        "ax2.plot(component_index,[np.mean(t2_mc)-np.std(t2_mc)]*(len(t2_mc)),color='red',\n",
        "         linestyle='dashed',linewidth=1)\n",
        "ax2.plot(component_index,[np.mean(t2_mc)+np.std(t2_mc)]*(len(t2_mc)),color='red',\n",
        "         linestyle='dashed',linewidth=1)\n",
        "ax2.set_xlabel('Hour(hr)')\n",
        "ax2.set_ylabel('Temperature(Celcius)')\n",
        "ax2.set_title('Mean-Centered Temperature vector for San Francisco for December 2, 2012')\n"
      ]
    },
    {
      "cell_type": "markdown",
      "metadata": {
        "id": "xA2Vzv-kphSq"
      },
      "source": [
        "---\n",
        "\n",
        "Standardize daily temperature vectors for San Francisco for October 2, 2012 and December 2, 2012 and make component plots of those vectors\n",
        "\n",
        "---"
      ]
    },
    {
      "cell_type": "code",
      "execution_count": null,
      "metadata": {
        "colab": {
          "base_uri": "https://localhost:8080/",
          "height": 890
        },
        "id": "zasEwqTKptuz",
        "outputId": "925ff3e3-3e18-4fc1-921c-b5151faad02b"
      },
      "outputs": [
        {
          "data": {
            "text/plain": [
              "Text(0.5, 1.0, 'Mean-Centered Temperature vector for San Francisco for December 2, 2012')"
            ]
          },
          "execution_count": 31,
          "metadata": {},
          "output_type": "execute_result"
        },
        {
          "data": {
            "image/png": "[encoded data removed]",
            "text/plain": [
              "<Figure size 600x1000 with 2 Axes>"
            ]
          },
          "metadata": {},
          "output_type": "display_data"
        }
      ],
      "source": [
        "# Standardized temperature vector for San Francisco for 2012-10-02\n",
        "z1 = (t1-np.mean(t1))/np.std(t1)\n",
        "#print(z1)\n",
        "\n",
        "# Mean-centered temperature vector for San Francisco for 2012-12-02\n",
        "z2 = (t2-np.mean(t2))/np.std(t2)\n",
        "# print(z2)\n",
        "\n",
        "# Plot standardized temperature vectors for both days\n",
        "fig3, (ax1,ax2) = plt.subplots(2,1,figsize=(6,10))\n",
        "component_index=range(0,len(z1))\n",
        "ax1.plot(component_index,z1,marker='.')\n",
        "ax1.plot(component_index,[np.mean(z1)]*(len(z1)),color='blue',\n",
        "         linestyle='dashed')\n",
        "ax1.plot(component_index,[np.mean(z1)-np.std(z1)]*(len(z1)),color='red',\n",
        "         linestyle='dashed', linewidth=1)\n",
        "ax1.plot(component_index,[np.mean(z1)+np.std(z1)]*(len(z1)),color='red',\n",
        "         linestyle='dashed', linewidth=1)\n",
        "ax1.set_xlabel('Hour(hr)')\n",
        "ax1.set_ylabel('Temperature(Celcius)')\n",
        "ax1.set_title('Mean-Centered Temperature vector for San Francisco on October 2, 2012')\n",
        "\n",
        "ax2.plot(component_index,z2,marker='.')\n",
        "ax2.plot(component_index,[np.mean(z2)]*(len(z2)),color='blue',\n",
        "         linestyle='dashed')\n",
        "ax2.plot(component_index,[np.mean(z2)-np.std(z2)]*(len(z2)),color='red',\n",
        "         linestyle='dashed',linewidth=1)\n",
        "ax2.plot(component_index,[np.mean(z2)+np.std(z2)]*(len(z2)),color='red',\n",
        "         linestyle='dashed',linewidth=1)\n",
        "ax2.set_xlabel('Hour(hr)')\n",
        "ax2.set_ylabel('Temperature(Celcius)')\n",
        "ax2.set_title('Mean-Centered Temperature vector for San Francisco for December 2, 2012')\n"
      ]
    },
    {
      "cell_type": "markdown",
      "metadata": {
        "id": "p4JI3Vxvp95B"
      },
      "source": [
        "---\n",
        "\n",
        "Identify outliers in the daily temperature vectors for San Francisco for October 2, 2012 and December 2, 2012\n",
        "\n",
        "---"
      ]
    },
    {
      "cell_type": "code",
      "execution_count": null,
      "metadata": {
        "colab": {
          "base_uri": "https://localhost:8080/"
        },
        "id": "BPYVjb2KbWeh",
        "outputId": "def1d9c3-d534-474f-8326-6778a01e6f06"
      },
      "outputs": [
        {
          "name": "stdout",
          "output_type": "stream",
          "text": [
            "[-0.64832707 -0.65089651 -0.65346595 -0.65603539 -0.65860483 -0.66117427\n",
            " -0.6637437  -0.66631314 -0.66888258 -0.67145202 -0.67402146 -0.6765909\n",
            " -0.67916033 -0.68172977 -0.68429921 -0.39830359  0.01102764  0.57586898\n",
            "  1.19790945  1.26404594  1.44994309  1.66801475  2.09879565  2.12739521]\n",
            "[False False False False False False False False False False False False\n",
            " False False False False False False False False False False  True  True]\n",
            "(array([22, 23]),)\n"
          ]
        }
      ],
      "source": [
        "threshold=2.0\n",
        "print(z1)\n",
        "print(np.abs(z1)>= threshold)\n",
        "print(np.where(np.abs(z1)>=threshold))"
      ]
    },
    {
      "cell_type": "code",
      "execution_count": null,
      "metadata": {
        "colab": {
          "base_uri": "https://localhost:8080/"
        },
        "id": "pngfJpRLqHpz",
        "outputId": "0d6b4374-2264-4e3a-9466-7c8ae5f26217"
      },
      "outputs": [
        {
          "name": "stdout",
          "output_type": "stream",
          "text": [
            "On 2012-10-02, outliers hours were: (array([22, 23]),)\n",
            "On 2012-12-02, outliers hours were: (array([21]),)\n"
          ]
        }
      ],
      "source": [
        "# Z-score threshold\n",
        "threshold = 2.0#number of standard deviations beyond which samples are outliers\n",
        "print(f'On 2012-10-02, outliers hours were: {np.where(np.abs(z1)>=threshold)}')\n",
        "print(f'On 2012-12-02, outliers hours were: {np.where(np.abs(z2)>=threshold)}')"
      ]
    },
    {
      "cell_type": "markdown",
      "metadata": {
        "id": "XRhsABfMv6bX"
      },
      "source": [
        "---\n",
        "\n",
        "Download popular stock prices data from Yahoo Finance for the range August 1, 2024 to August 1, 2025\n",
        "\n",
        "---"
      ]
    },
    {
      "cell_type": "code",
      "execution_count": 3,
      "metadata": {
        "colab": {
          "base_uri": "https://localhost:8080/"
        },
        "id": "S-Naw9eAtpMP",
        "outputId": "ce4ca479-5f4d-4f4c-99e8-089cd95fe912"
      },
      "outputs": [
        {
          "name": "stderr",
          "output_type": "stream",
          "text": [
            "/tmp/ipython-input-2746603529.py:2: FutureWarning: YF.download() has changed argument auto_adjust default to True\n",
            "  dfstock = yf.download(stocks, start = \"2024-08-01\", end = \"2025-08-01\")\n",
            "[*********************100%***********************]  10 of 10 completed\n"
          ]
        },
        {
          "data": {
            "text/plain": [
              "MultiIndex([( 'Close', 'AAPL'),\n",
              "            ( 'Close', 'AMZN'),\n",
              "            ( 'Close', 'GOOG'),\n",
              "            ( 'Close',  'JNJ'),\n",
              "            ( 'Close',  'JPM'),\n",
              "            ( 'Close', 'META'),\n",
              "            ( 'Close', 'MSFT'),\n",
              "            ( 'Close', 'NVDA'),\n",
              "            ( 'Close', 'TSLA'),\n",
              "            ( 'Close',  'XOM'),\n",
              "            (  'High', 'AAPL'),\n",
              "            (  'High', 'AMZN'),\n",
              "            (  'High', 'GOOG'),\n",
              "            (  'High',  'JNJ'),\n",
              "            (  'High',  'JPM'),\n",
              "            (  'High', 'META'),\n",
              "            (  'High', 'MSFT'),\n",
              "            (  'High', 'NVDA'),\n",
              "            (  'High', 'TSLA'),\n",
              "            (  'High',  'XOM'),\n",
              "            (   'Low', 'AAPL'),\n",
              "            (   'Low', 'AMZN'),\n",
              "            (   'Low', 'GOOG'),\n",
              "            (   'Low',  'JNJ'),\n",
              "            (   'Low',  'JPM'),\n",
              "            (   'Low', 'META'),\n",
              "            (   'Low', 'MSFT'),\n",
              "            (   'Low', 'NVDA'),\n",
              "            (   'Low', 'TSLA'),\n",
              "            (   'Low',  'XOM'),\n",
              "            (  'Open', 'AAPL'),\n",
              "            (  'Open', 'AMZN'),\n",
              "            (  'Open', 'GOOG'),\n",
              "            (  'Open',  'JNJ'),\n",
              "            (  'Open',  'JPM'),\n",
              "            (  'Open', 'META'),\n",
              "            (  'Open', 'MSFT'),\n",
              "            (  'Open', 'NVDA'),\n",
              "            (  'Open', 'TSLA'),\n",
              "            (  'Open',  'XOM'),\n",
              "            ('Volume', 'AAPL'),\n",
              "            ('Volume', 'AMZN'),\n",
              "            ('Volume', 'GOOG'),\n",
              "            ('Volume',  'JNJ'),\n",
              "            ('Volume',  'JPM'),\n",
              "            ('Volume', 'META'),\n",
              "            ('Volume', 'MSFT'),\n",
              "            ('Volume', 'NVDA'),\n",
              "            ('Volume', 'TSLA'),\n",
              "            ('Volume',  'XOM')],\n",
              "           names=['Price', 'Ticker'])"
            ]
          },
          "execution_count": 3,
          "metadata": {},
          "output_type": "execute_result"
        }
      ],
      "source": [
        "stocks = ['AAPL', 'MSFT', 'GOOG', 'TSLA', 'JNJ', 'JPM', 'NVDA', 'AMZN', 'META', 'XOM']\n",
        "dfstock = yf.download(stocks, start = \"2024-08-01\", end = \"2025-08-01\")\n",
        "dfstock.columns#this dataframe is multi indexed/attributed column"
      ]
    },
    {
      "cell_type": "code",
      "execution_count": 4,
      "metadata": {
        "colab": {
          "base_uri": "https://localhost:8080/",
          "height": 455
        },
        "id": "Gw9CjUDUu0dq",
        "outputId": "c27889de-1c60-430c-b074-5f7e767927aa"
      },
      "outputs": [
        {
          "data": {
            "application/vnd.google.colaboratory.intrinsic+json": {
              "summary": "{\n  \"name\": \"dfstock\",\n  \"rows\": 250,\n  \"fields\": [\n    {\n      \"column\": \"Date\",\n      \"properties\": {\n        \"dtype\": \"date\",\n        \"min\": \"2024-08-01 00:00:00\",\n        \"max\": \"2025-07-31 00:00:00\",\n        \"num_unique_values\": 250,\n        \"samples\": [\n          \"2025-02-26 00:00:00\",\n          \"2024-08-09 00:00:00\",\n          \"2024-12-18 00:00:00\"\n        ],\n        \"semantic_type\": \"\",\n        \"description\": \"\"\n      }\n    },\n    {\n      \"column\": \"AAPL\",\n      \"properties\": {\n        \"dtype\": \"number\",\n        \"std\": 15.858714089087275,\n        \"min\": 171.99899291992188,\n        \"max\": 258.1037292480469,\n        \"num_unique_values\": 247,\n        \"samples\": [\n          227.80975341796875,\n          214.98944091796875,\n          208.76898193359375\n        ],\n        \"semantic_type\": \"\",\n        \"description\": \"\"\n      }\n    },\n    {\n      \"column\": \"AMZN\",\n      \"properties\": {\n        \"dtype\": \"number\",\n        \"std\": 19.98341066431429,\n        \"min\": 161.02000427246094,\n        \"max\": 242.05999755859375,\n        \"num_unique_values\": 246,\n        \"samples\": [\n          186.42999267578125,\n          166.94000244140625,\n          186.5399932861328\n        ],\n        \"semantic_type\": \"\",\n        \"description\": \"\"\n      }\n    },\n    {\n      \"column\": \"GOOG\",\n      \"properties\": {\n        \"dtype\": \"number\",\n        \"std\": 13.410397842334929,\n        \"min\": 146.40402221679688,\n        \"max\": 207.22454833984375,\n        \"num_unique_values\": 246,\n        \"samples\": [\n          162.67391967773438,\n          164.59979248046875,\n          162.22500610351562\n        ],\n        \"semantic_type\": \"\",\n        \"description\": \"\"\n      }\n    },\n    {\n      \"column\": \"JNJ\",\n      \"properties\": {\n        \"dtype\": \"number\",\n        \"std\": 6.439200025124065,\n        \"min\": 138.7157745361328,\n        \"max\": 168.32447814941406,\n        \"num_unique_values\": 242,\n        \"samples\": [\n          159.82359313964844,\n          154.41835021972656,\n          160.72230529785156\n        ],\n        \"semantic_type\": \"\",\n        \"description\": \"\"\n      }\n    },\n    {\n      \"column\": \"JPM\",\n      \"properties\": {\n        \"dtype\": \"number\",\n        \"std\": 26.753684956420948,\n        \"min\": 190.61947631835938,\n        \"max\": 299.6300048828125,\n        \"num_unique_values\": 249,\n        \"samples\": [\n          276.2098083496094,\n          201.2801055908203,\n          226.69117736816406\n        ],\n        \"semantic_type\": \"\",\n        \"description\": \"\"\n      }\n    },\n    {\n      \"column\": \"META\",\n      \"properties\": {\n        \"dtype\": \"number\",\n        \"std\": 68.26861592700203,\n        \"min\": 474.10662841796875,\n        \"max\": 773.4400024414062,\n        \"num_unique_values\": 247,\n        \"samples\": [\n          557.7236328125,\n          516.0032348632812,\n          549.3173217773438\n        ],\n        \"semantic_type\": \"\",\n        \"description\": \"\"\n      }\n    },\n    {\n      \"column\": \"MSFT\",\n      \"properties\": {\n        \"dtype\": \"number\",\n        \"std\": 36.228559815126495,\n        \"min\": 353.3294372558594,\n        \"max\": 532.6243896484375,\n        \"num_unique_values\": 250,\n        \"samples\": [\n          398.3426513671875,\n          402.2694396972656,\n          434.999755859375\n        ],\n        \"semantic_type\": \"\",\n        \"description\": \"\"\n      }\n    },\n    {\n      \"column\": \"NVDA\",\n      \"properties\": {\n        \"dtype\": \"number\",\n        \"std\": 17.897589394871034,\n        \"min\": 94.30345153808594,\n        \"max\": 179.27000427246094,\n        \"num_unique_values\": 248,\n        \"samples\": [\n          113.3438949584961,\n          104.71692657470703,\n          108.72245025634766\n        ],\n        \"semantic_type\": \"\",\n        \"description\": \"\"\n      }\n    },\n    {\n      \"column\": \"TSLA\",\n      \"properties\": {\n        \"dtype\": \"number\",\n        \"std\": 67.45590671936226,\n        \"min\": 191.75999450683594,\n        \"max\": 479.8599853515625,\n        \"num_unique_values\": 249,\n        \"samples\": [\n          360.55999755859375,\n          200.0,\n          440.1300048828125\n        ],\n        \"semantic_type\": \"\",\n        \"description\": \"\"\n      }\n    },\n    {\n      \"column\": \"XOM\",\n      \"properties\": {\n        \"dtype\": \"number\",\n        \"std\": 4.876721862760629,\n        \"min\": 98.1051254272461,\n        \"max\": 120.99516296386719,\n        \"num_unique_values\": 243,\n        \"samples\": [\n          109.22087860107422,\n          113.7865982055664,\n          111.68256378173828\n        ],\n        \"semantic_type\": \"\",\n        \"description\": \"\"\n      }\n    }\n  ]\n}",
              "type": "dataframe"
            },
            "text/html": [
              "\n",
              "  <div id=\"df-ea7310ef-3b8e-48fd-9bce-048803dda9bb\" class=\"colab-df-container\">\n",
              "    <div>\n",
              "<style scoped>\n",
              "    .dataframe tbody tr th:only-of-type {\n",
              "        vertical-align: middle;\n",
              "    }\n",
              "\n",
              "    .dataframe tbody tr th {\n",
              "        vertical-align: top;\n",
              "    }\n",
              "\n",
              "    .dataframe thead th {\n",
              "        text-align: right;\n",
              "    }\n",
              "</style>\n",
              "<table border=\"1\" class=\"dataframe\">\n",
              "  <thead>\n",
              "    <tr style=\"text-align: right;\">\n",
              "      <th>Ticker</th>\n",
              "      <th>AAPL</th>\n",
              "      <th>AMZN</th>\n",
              "      <th>GOOG</th>\n",
              "      <th>JNJ</th>\n",
              "      <th>JPM</th>\n",
              "      <th>META</th>\n",
              "      <th>MSFT</th>\n",
              "      <th>NVDA</th>\n",
              "      <th>TSLA</th>\n",
              "      <th>XOM</th>\n",
              "    </tr>\n",
              "    <tr>\n",
              "      <th>Date</th>\n",
              "      <th></th>\n",
              "      <th></th>\n",
              "      <th></th>\n",
              "      <th></th>\n",
              "      <th></th>\n",
              "      <th></th>\n",
              "      <th></th>\n",
              "      <th></th>\n",
              "      <th></th>\n",
              "      <th></th>\n",
              "    </tr>\n",
              "  </thead>\n",
              "  <tbody>\n",
              "    <tr>\n",
              "      <th>2024-08-01</th>\n",
              "      <td>217.097168</td>\n",
              "      <td>184.070007</td>\n",
              "      <td>171.626068</td>\n",
              "      <td>154.552963</td>\n",
              "      <td>203.392670</td>\n",
              "      <td>496.041473</td>\n",
              "      <td>413.256958</td>\n",
              "      <td>109.175514</td>\n",
              "      <td>216.860001</td>\n",
              "      <td>111.967537</td>\n",
              "    </tr>\n",
              "    <tr>\n",
              "      <th>2024-08-02</th>\n",
              "      <td>218.588501</td>\n",
              "      <td>167.899994</td>\n",
              "      <td>167.595398</td>\n",
              "      <td>157.802444</td>\n",
              "      <td>194.766373</td>\n",
              "      <td>486.474274</td>\n",
              "      <td>404.716644</td>\n",
              "      <td>107.236115</td>\n",
              "      <td>207.669998</td>\n",
              "      <td>111.900528</td>\n",
              "    </tr>\n",
              "    <tr>\n",
              "      <th>2024-08-05</th>\n",
              "      <td>208.059738</td>\n",
              "      <td>161.020004</td>\n",
              "      <td>159.872482</td>\n",
              "      <td>155.024048</td>\n",
              "      <td>190.619476</td>\n",
              "      <td>474.106628</td>\n",
              "      <td>391.499878</td>\n",
              "      <td>100.418274</td>\n",
              "      <td>198.880005</td>\n",
              "      <td>109.880409</td>\n",
              "    </tr>\n",
              "    <tr>\n",
              "      <th>2024-08-06</th>\n",
              "      <td>206.031525</td>\n",
              "      <td>161.929993</td>\n",
              "      <td>159.772980</td>\n",
              "      <td>152.832092</td>\n",
              "      <td>195.940018</td>\n",
              "      <td>492.403931</td>\n",
              "      <td>395.918671</td>\n",
              "      <td>104.217079</td>\n",
              "      <td>200.639999</td>\n",
              "      <td>109.296417</td>\n",
              "    </tr>\n",
              "    <tr>\n",
              "      <th>2024-08-07</th>\n",
              "      <td>208.606552</td>\n",
              "      <td>162.770004</td>\n",
              "      <td>159.981964</td>\n",
              "      <td>152.764771</td>\n",
              "      <td>195.998688</td>\n",
              "      <td>487.251617</td>\n",
              "      <td>394.749573</td>\n",
              "      <td>98.878769</td>\n",
              "      <td>191.759995</td>\n",
              "      <td>110.751648</td>\n",
              "    </tr>\n",
              "    <tr>\n",
              "      <th>...</th>\n",
              "      <td>...</td>\n",
              "      <td>...</td>\n",
              "      <td>...</td>\n",
              "      <td>...</td>\n",
              "      <td>...</td>\n",
              "      <td>...</td>\n",
              "      <td>...</td>\n",
              "      <td>...</td>\n",
              "      <td>...</td>\n",
              "      <td>...</td>\n",
              "    </tr>\n",
              "    <tr>\n",
              "      <th>2025-07-25</th>\n",
              "      <td>213.637543</td>\n",
              "      <td>231.440002</td>\n",
              "      <td>194.080002</td>\n",
              "      <td>167.073669</td>\n",
              "      <td>298.619995</td>\n",
              "      <td>712.679993</td>\n",
              "      <td>512.866943</td>\n",
              "      <td>173.500000</td>\n",
              "      <td>316.059998</td>\n",
              "      <td>109.382156</td>\n",
              "    </tr>\n",
              "    <tr>\n",
              "      <th>2025-07-28</th>\n",
              "      <td>213.807358</td>\n",
              "      <td>232.789993</td>\n",
              "      <td>193.419998</td>\n",
              "      <td>165.008820</td>\n",
              "      <td>298.279999</td>\n",
              "      <td>717.630005</td>\n",
              "      <td>511.658875</td>\n",
              "      <td>176.750000</td>\n",
              "      <td>325.589996</td>\n",
              "      <td>110.412575</td>\n",
              "    </tr>\n",
              "    <tr>\n",
              "      <th>2025-07-29</th>\n",
              "      <td>211.030502</td>\n",
              "      <td>231.009995</td>\n",
              "      <td>196.429993</td>\n",
              "      <td>166.885056</td>\n",
              "      <td>297.040009</td>\n",
              "      <td>700.000000</td>\n",
              "      <td>511.728760</td>\n",
              "      <td>175.509995</td>\n",
              "      <td>321.200012</td>\n",
              "      <td>111.839287</td>\n",
              "    </tr>\n",
              "    <tr>\n",
              "      <th>2025-07-30</th>\n",
              "      <td>208.813019</td>\n",
              "      <td>230.190002</td>\n",
              "      <td>197.440002</td>\n",
              "      <td>166.041229</td>\n",
              "      <td>299.630005</td>\n",
              "      <td>695.210022</td>\n",
              "      <td>512.397644</td>\n",
              "      <td>179.270004</td>\n",
              "      <td>319.040009</td>\n",
              "      <td>110.868332</td>\n",
              "    </tr>\n",
              "    <tr>\n",
              "      <th>2025-07-31</th>\n",
              "      <td>207.334702</td>\n",
              "      <td>234.110001</td>\n",
              "      <td>192.860001</td>\n",
              "      <td>163.539612</td>\n",
              "      <td>296.239990</td>\n",
              "      <td>773.440002</td>\n",
              "      <td>532.624390</td>\n",
              "      <td>177.869995</td>\n",
              "      <td>308.269989</td>\n",
              "      <td>110.610725</td>\n",
              "    </tr>\n",
              "  </tbody>\n",
              "</table>\n",
              "<p>250 rows × 10 columns</p>\n",
              "</div>\n",
              "    <div class=\"colab-df-buttons\">\n",
              "\n",
              "  <div class=\"colab-df-container\">\n",
              "    <button class=\"colab-df-convert\" onclick=\"convertToInteractive('df-ea7310ef-3b8e-48fd-9bce-048803dda9bb')\"\n",
              "            title=\"Convert this dataframe to an interactive table.\"\n",
              "            style=\"display:none;\">\n",
              "\n",
              "  <svg xmlns=\"http://www.w3.org/2000/svg\" height=\"24px\" viewBox=\"0 -960 960 960\">\n",
              "    <path d=\"M120-120v-720h720v720H120Zm60-500h600v-160H180v160Zm220 220h160v-160H400v160Zm0 220h160v-160H400v160ZM180-400h160v-160H180v160Zm440 0h160v-160H620v160ZM180-180h160v-160H180v160Zm440 0h160v-160H620v160Z\"/>\n",
              "  </svg>\n",
              "    </button>\n",
              "\n",
              "  <style>\n",
              "    .colab-df-container {\n",
              "      display:flex;\n",
              "      gap: 12px;\n",
              "    }\n",
              "\n",
              "    .colab-df-convert {\n",
              "      background-color: #E8F0FE;\n",
              "      border: none;\n",
              "      border-radius: 50%;\n",
              "      cursor: pointer;\n",
              "      display: none;\n",
              "      fill: #1967D2;\n",
              "      height: 32px;\n",
              "      padding: 0 0 0 0;\n",
              "      width: 32px;\n",
              "    }\n",
              "\n",
              "    .colab-df-convert:hover {\n",
              "      background-color: #E2EBFA;\n",
              "      box-shadow: 0px 1px 2px rgba(60, 64, 67, 0.3), 0px 1px 3px 1px rgba(60, 64, 67, 0.15);\n",
              "      fill: #174EA6;\n",
              "    }\n",
              "\n",
              "    .colab-df-buttons div {\n",
              "      margin-bottom: 4px;\n",
              "    }\n",
              "\n",
              "    [theme=dark] .colab-df-convert {\n",
              "      background-color: #3B4455;\n",
              "      fill: #D2E3FC;\n",
              "    }\n",
              "\n",
              "    [theme=dark] .colab-df-convert:hover {\n",
              "      background-color: #434B5C;\n",
              "      box-shadow: 0px 1px 3px 1px rgba(0, 0, 0, 0.15);\n",
              "      filter: drop-shadow(0px 1px 2px rgba(0, 0, 0, 0.3));\n",
              "      fill: #FFFFFF;\n",
              "    }\n",
              "  </style>\n",
              "\n",
              "    <script>\n",
              "      const buttonEl =\n",
              "        document.querySelector('#df-ea7310ef-3b8e-48fd-9bce-048803dda9bb button.colab-df-convert');\n",
              "      buttonEl.style.display =\n",
              "        google.colab.kernel.accessAllowed ? 'block' : 'none';\n",
              "\n",
              "      async function convertToInteractive(key) {\n",
              "        const element = document.querySelector('#df-ea7310ef-3b8e-48fd-9bce-048803dda9bb');\n",
              "        const dataTable =\n",
              "          await google.colab.kernel.invokeFunction('convertToInteractive',\n",
              "                                                    [key], {});\n",
              "        if (!dataTable) return;\n",
              "\n",
              "        const docLinkHtml = 'Like what you see? Visit the ' +\n",
              "          '<a target=\"_blank\" href=https://colab.research.google.com/notebooks/data_table.ipynb>data table notebook</a>'\n",
              "          + ' to learn more about interactive tables.';\n",
              "        element.innerHTML = '';\n",
              "        dataTable['output_type'] = 'display_data';\n",
              "        await google.colab.output.renderOutput(dataTable, element);\n",
              "        const docLink = document.createElement('div');\n",
              "        docLink.innerHTML = docLinkHtml;\n",
              "        element.appendChild(docLink);\n",
              "      }\n",
              "    </script>\n",
              "  </div>\n",
              "\n",
              "\n",
              "    <div id=\"df-cb01cedc-ab97-40e9-acce-8a6f4ad76c8e\">\n",
              "      <button class=\"colab-df-quickchart\" onclick=\"quickchart('df-cb01cedc-ab97-40e9-acce-8a6f4ad76c8e')\"\n",
              "                title=\"Suggest charts\"\n",
              "                style=\"display:none;\">\n",
              "\n",
              "<svg xmlns=\"http://www.w3.org/2000/svg\" height=\"24px\"viewBox=\"0 0 24 24\"\n",
              "     width=\"24px\">\n",
              "    <g>\n",
              "        <path d=\"M19 3H5c-1.1 0-2 .9-2 2v14c0 1.1.9 2 2 2h14c1.1 0 2-.9 2-2V5c0-1.1-.9-2-2-2zM9 17H7v-7h2v7zm4 0h-2V7h2v10zm4 0h-2v-4h2v4z\"/>\n",
              "    </g>\n",
              "</svg>\n",
              "      </button>\n",
              "\n",
              "<style>\n",
              "  .colab-df-quickchart {\n",
              "      --bg-color: #E8F0FE;\n",
              "      --fill-color: #1967D2;\n",
              "      --hover-bg-color: #E2EBFA;\n",
              "      --hover-fill-color: #174EA6;\n",
              "      --disabled-fill-color: #AAA;\n",
              "      --disabled-bg-color: #DDD;\n",
              "  }\n",
              "\n",
              "  [theme=dark] .colab-df-quickchart {\n",
              "      --bg-color: #3B4455;\n",
              "      --fill-color: #D2E3FC;\n",
              "      --hover-bg-color: #434B5C;\n",
              "      --hover-fill-color: #FFFFFF;\n",
              "      --disabled-bg-color: #3B4455;\n",
              "      --disabled-fill-color: #666;\n",
              "  }\n",
              "\n",
              "  .colab-df-quickchart {\n",
              "    background-color: var(--bg-color);\n",
              "    border: none;\n",
              "    border-radius: 50%;\n",
              "    cursor: pointer;\n",
              "    display: none;\n",
              "    fill: var(--fill-color);\n",
              "    height: 32px;\n",
              "    padding: 0;\n",
              "    width: 32px;\n",
              "  }\n",
              "\n",
              "  .colab-df-quickchart:hover {\n",
              "    background-color: var(--hover-bg-color);\n",
              "    box-shadow: 0 1px 2px rgba(60, 64, 67, 0.3), 0 1px 3px 1px rgba(60, 64, 67, 0.15);\n",
              "    fill: var(--button-hover-fill-color);\n",
              "  }\n",
              "\n",
              "  .colab-df-quickchart-complete:disabled,\n",
              "  .colab-df-quickchart-complete:disabled:hover {\n",
              "    background-color: var(--disabled-bg-color);\n",
              "    fill: var(--disabled-fill-color);\n",
              "    box-shadow: none;\n",
              "  }\n",
              "\n",
              "  .colab-df-spinner {\n",
              "    border: 2px solid var(--fill-color);\n",
              "    border-color: transparent;\n",
              "    border-bottom-color: var(--fill-color);\n",
              "    animation:\n",
              "      spin 1s steps(1) infinite;\n",
              "  }\n",
              "\n",
              "  @keyframes spin {\n",
              "    0% {\n",
              "      border-color: transparent;\n",
              "      border-bottom-color: var(--fill-color);\n",
              "      border-left-color: var(--fill-color);\n",
              "    }\n",
              "    20% {\n",
              "      border-color: transparent;\n",
              "      border-left-color: var(--fill-color);\n",
              "      border-top-color: var(--fill-color);\n",
              "    }\n",
              "    30% {\n",
              "      border-color: transparent;\n",
              "      border-left-color: var(--fill-color);\n",
              "      border-top-color: var(--fill-color);\n",
              "      border-right-color: var(--fill-color);\n",
              "    }\n",
              "    40% {\n",
              "      border-color: transparent;\n",
              "      border-right-color: var(--fill-color);\n",
              "      border-top-color: var(--fill-color);\n",
              "    }\n",
              "    60% {\n",
              "      border-color: transparent;\n",
              "      border-right-color: var(--fill-color);\n",
              "    }\n",
              "    80% {\n",
              "      border-color: transparent;\n",
              "      border-right-color: var(--fill-color);\n",
              "      border-bottom-color: var(--fill-color);\n",
              "    }\n",
              "    90% {\n",
              "      border-color: transparent;\n",
              "      border-bottom-color: var(--fill-color);\n",
              "    }\n",
              "  }\n",
              "</style>\n",
              "\n",
              "      <script>\n",
              "        async function quickchart(key) {\n",
              "          const quickchartButtonEl =\n",
              "            document.querySelector('#' + key + ' button');\n",
              "          quickchartButtonEl.disabled = true;  // To prevent multiple clicks.\n",
              "          quickchartButtonEl.classList.add('colab-df-spinner');\n",
              "          try {\n",
              "            const charts = await google.colab.kernel.invokeFunction(\n",
              "                'suggestCharts', [key], {});\n",
              "          } catch (error) {\n",
              "            console.error('Error during call to suggestCharts:', error);\n",
              "          }\n",
              "          quickchartButtonEl.classList.remove('colab-df-spinner');\n",
              "          quickchartButtonEl.classList.add('colab-df-quickchart-complete');\n",
              "        }\n",
              "        (() => {\n",
              "          let quickchartButtonEl =\n",
              "            document.querySelector('#df-cb01cedc-ab97-40e9-acce-8a6f4ad76c8e button');\n",
              "          quickchartButtonEl.style.display =\n",
              "            google.colab.kernel.accessAllowed ? 'block' : 'none';\n",
              "        })();\n",
              "      </script>\n",
              "    </div>\n",
              "\n",
              "    </div>\n",
              "  </div>\n"
            ],
            "text/plain": [
              "Ticker            AAPL        AMZN        GOOG         JNJ         JPM  \\\n",
              "Date                                                                     \n",
              "2024-08-01  217.097168  184.070007  171.626068  154.552963  203.392670   \n",
              "2024-08-02  218.588501  167.899994  167.595398  157.802444  194.766373   \n",
              "2024-08-05  208.059738  161.020004  159.872482  155.024048  190.619476   \n",
              "2024-08-06  206.031525  161.929993  159.772980  152.832092  195.940018   \n",
              "2024-08-07  208.606552  162.770004  159.981964  152.764771  195.998688   \n",
              "...                ...         ...         ...         ...         ...   \n",
              "2025-07-25  213.637543  231.440002  194.080002  167.073669  298.619995   \n",
              "2025-07-28  213.807358  232.789993  193.419998  165.008820  298.279999   \n",
              "2025-07-29  211.030502  231.009995  196.429993  166.885056  297.040009   \n",
              "2025-07-30  208.813019  230.190002  197.440002  166.041229  299.630005   \n",
              "2025-07-31  207.334702  234.110001  192.860001  163.539612  296.239990   \n",
              "\n",
              "Ticker            META        MSFT        NVDA        TSLA         XOM  \n",
              "Date                                                                    \n",
              "2024-08-01  496.041473  413.256958  109.175514  216.860001  111.967537  \n",
              "2024-08-02  486.474274  404.716644  107.236115  207.669998  111.900528  \n",
              "2024-08-05  474.106628  391.499878  100.418274  198.880005  109.880409  \n",
              "2024-08-06  492.403931  395.918671  104.217079  200.639999  109.296417  \n",
              "2024-08-07  487.251617  394.749573   98.878769  191.759995  110.751648  \n",
              "...                ...         ...         ...         ...         ...  \n",
              "2025-07-25  712.679993  512.866943  173.500000  316.059998  109.382156  \n",
              "2025-07-28  717.630005  511.658875  176.750000  325.589996  110.412575  \n",
              "2025-07-29  700.000000  511.728760  175.509995  321.200012  111.839287  \n",
              "2025-07-30  695.210022  512.397644  179.270004  319.040009  110.868332  \n",
              "2025-07-31  773.440002  532.624390  177.869995  308.269989  110.610725  \n",
              "\n",
              "[250 rows x 10 columns]"
            ]
          },
          "execution_count": 4,
          "metadata": {},
          "output_type": "execute_result"
        }
      ],
      "source": [
        "dfstock.xs('Close', axis = 1, level = 0)"
      ]
    },
    {
      "cell_type": "code",
      "execution_count": 5,
      "metadata": {
        "colab": {
          "base_uri": "https://localhost:8080/",
          "height": 292
        },
        "id": "uFLvp6n6wNnz",
        "outputId": "a3f3f78f-75a4-485f-be3f-42ac0ccd5cda"
      },
      "outputs": [
        {
          "name": "stderr",
          "output_type": "stream",
          "text": [
            "/tmp/ipython-input-2952924309.py:3: FutureWarning: YF.download() has changed argument auto_adjust default to True\n",
            "  dfstock = yf.download(stocks, start = \"2024-08-01\", end = \"2025-08-01\")\n",
            "[*********************100%***********************]  10 of 10 completed\n"
          ]
        },
        {
          "data": {
            "application/vnd.google.colaboratory.intrinsic+json": {
              "summary": "{\n  \"name\": \"dfstock\",\n  \"rows\": 250,\n  \"fields\": [\n    {\n      \"column\": \"Date\",\n      \"properties\": {\n        \"dtype\": \"date\",\n        \"min\": \"2024-08-01 00:00:00\",\n        \"max\": \"2025-07-31 00:00:00\",\n        \"num_unique_values\": 250,\n        \"samples\": [\n          \"2025-02-26 00:00:00\",\n          \"2024-08-09 00:00:00\",\n          \"2024-12-18 00:00:00\"\n        ],\n        \"semantic_type\": \"\",\n        \"description\": \"\"\n      }\n    },\n    {\n      \"column\": \"AAPL\",\n      \"properties\": {\n        \"dtype\": \"number\",\n        \"std\": 15.858714089087275,\n        \"min\": 171.99899291992188,\n        \"max\": 258.1037292480469,\n        \"num_unique_values\": 247,\n        \"samples\": [\n          227.80975341796875,\n          214.98944091796875,\n          208.76898193359375\n        ],\n        \"semantic_type\": \"\",\n        \"description\": \"\"\n      }\n    },\n    {\n      \"column\": \"AMZN\",\n      \"properties\": {\n        \"dtype\": \"number\",\n        \"std\": 19.98341066431429,\n        \"min\": 161.02000427246094,\n        \"max\": 242.05999755859375,\n        \"num_unique_values\": 246,\n        \"samples\": [\n          186.42999267578125,\n          166.94000244140625,\n          186.5399932861328\n        ],\n        \"semantic_type\": \"\",\n        \"description\": \"\"\n      }\n    },\n    {\n      \"column\": \"GOOG\",\n      \"properties\": {\n        \"dtype\": \"number\",\n        \"std\": 13.410397842334929,\n        \"min\": 146.40402221679688,\n        \"max\": 207.22454833984375,\n        \"num_unique_values\": 246,\n        \"samples\": [\n          162.67391967773438,\n          164.59979248046875,\n          162.22500610351562\n        ],\n        \"semantic_type\": \"\",\n        \"description\": \"\"\n      }\n    },\n    {\n      \"column\": \"JNJ\",\n      \"properties\": {\n        \"dtype\": \"number\",\n        \"std\": 6.439200025124065,\n        \"min\": 138.7157745361328,\n        \"max\": 168.32447814941406,\n        \"num_unique_values\": 242,\n        \"samples\": [\n          159.82359313964844,\n          154.41835021972656,\n          160.72230529785156\n        ],\n        \"semantic_type\": \"\",\n        \"description\": \"\"\n      }\n    },\n    {\n      \"column\": \"JPM\",\n      \"properties\": {\n        \"dtype\": \"number\",\n        \"std\": 26.753684956420948,\n        \"min\": 190.61947631835938,\n        \"max\": 299.6300048828125,\n        \"num_unique_values\": 249,\n        \"samples\": [\n          276.2098083496094,\n          201.2801055908203,\n          226.69117736816406\n        ],\n        \"semantic_type\": \"\",\n        \"description\": \"\"\n      }\n    },\n    {\n      \"column\": \"META\",\n      \"properties\": {\n        \"dtype\": \"number\",\n        \"std\": 68.26861592700203,\n        \"min\": 474.10662841796875,\n        \"max\": 773.4400024414062,\n        \"num_unique_values\": 247,\n        \"samples\": [\n          557.7236328125,\n          516.0032348632812,\n          549.3173217773438\n        ],\n        \"semantic_type\": \"\",\n        \"description\": \"\"\n      }\n    },\n    {\n      \"column\": \"MSFT\",\n      \"properties\": {\n        \"dtype\": \"number\",\n        \"std\": 36.228559815126495,\n        \"min\": 353.3294372558594,\n        \"max\": 532.6243896484375,\n        \"num_unique_values\": 250,\n        \"samples\": [\n          398.3426513671875,\n          402.2694396972656,\n          434.999755859375\n        ],\n        \"semantic_type\": \"\",\n        \"description\": \"\"\n      }\n    },\n    {\n      \"column\": \"NVDA\",\n      \"properties\": {\n        \"dtype\": \"number\",\n        \"std\": 17.897589394871034,\n        \"min\": 94.30345153808594,\n        \"max\": 179.27000427246094,\n        \"num_unique_values\": 248,\n        \"samples\": [\n          113.3438949584961,\n          104.71692657470703,\n          108.72245025634766\n        ],\n        \"semantic_type\": \"\",\n        \"description\": \"\"\n      }\n    },\n    {\n      \"column\": \"TSLA\",\n      \"properties\": {\n        \"dtype\": \"number\",\n        \"std\": 67.45590671936226,\n        \"min\": 191.75999450683594,\n        \"max\": 479.8599853515625,\n        \"num_unique_values\": 249,\n        \"samples\": [\n          360.55999755859375,\n          200.0,\n          440.1300048828125\n        ],\n        \"semantic_type\": \"\",\n        \"description\": \"\"\n      }\n    },\n    {\n      \"column\": \"XOM\",\n      \"properties\": {\n        \"dtype\": \"number\",\n        \"std\": 4.876721862760629,\n        \"min\": 98.1051254272461,\n        \"max\": 120.99516296386719,\n        \"num_unique_values\": 243,\n        \"samples\": [\n          109.22087860107422,\n          113.7865982055664,\n          111.68256378173828\n        ],\n        \"semantic_type\": \"\",\n        \"description\": \"\"\n      }\n    }\n  ]\n}",
              "type": "dataframe",
              "variable_name": "dfstock"
            },
            "text/html": [
              "\n",
              "  <div id=\"df-a7a9e384-99d5-46be-a7b0-169df64a57ef\" class=\"colab-df-container\">\n",
              "    <div>\n",
              "<style scoped>\n",
              "    .dataframe tbody tr th:only-of-type {\n",
              "        vertical-align: middle;\n",
              "    }\n",
              "\n",
              "    .dataframe tbody tr th {\n",
              "        vertical-align: top;\n",
              "    }\n",
              "\n",
              "    .dataframe thead th {\n",
              "        text-align: right;\n",
              "    }\n",
              "</style>\n",
              "<table border=\"1\" class=\"dataframe\">\n",
              "  <thead>\n",
              "    <tr style=\"text-align: right;\">\n",
              "      <th>Ticker</th>\n",
              "      <th>AAPL</th>\n",
              "      <th>AMZN</th>\n",
              "      <th>GOOG</th>\n",
              "      <th>JNJ</th>\n",
              "      <th>JPM</th>\n",
              "      <th>META</th>\n",
              "      <th>MSFT</th>\n",
              "      <th>NVDA</th>\n",
              "      <th>TSLA</th>\n",
              "      <th>XOM</th>\n",
              "    </tr>\n",
              "    <tr>\n",
              "      <th>Date</th>\n",
              "      <th></th>\n",
              "      <th></th>\n",
              "      <th></th>\n",
              "      <th></th>\n",
              "      <th></th>\n",
              "      <th></th>\n",
              "      <th></th>\n",
              "      <th></th>\n",
              "      <th></th>\n",
              "      <th></th>\n",
              "    </tr>\n",
              "  </thead>\n",
              "  <tbody>\n",
              "    <tr>\n",
              "      <th>2024-08-01</th>\n",
              "      <td>217.097168</td>\n",
              "      <td>184.070007</td>\n",
              "      <td>171.626068</td>\n",
              "      <td>154.552963</td>\n",
              "      <td>203.392670</td>\n",
              "      <td>496.041473</td>\n",
              "      <td>413.256958</td>\n",
              "      <td>109.175514</td>\n",
              "      <td>216.860001</td>\n",
              "      <td>111.967537</td>\n",
              "    </tr>\n",
              "    <tr>\n",
              "      <th>2024-08-02</th>\n",
              "      <td>218.588501</td>\n",
              "      <td>167.899994</td>\n",
              "      <td>167.595398</td>\n",
              "      <td>157.802444</td>\n",
              "      <td>194.766373</td>\n",
              "      <td>486.474274</td>\n",
              "      <td>404.716644</td>\n",
              "      <td>107.236115</td>\n",
              "      <td>207.669998</td>\n",
              "      <td>111.900528</td>\n",
              "    </tr>\n",
              "    <tr>\n",
              "      <th>2024-08-05</th>\n",
              "      <td>208.059738</td>\n",
              "      <td>161.020004</td>\n",
              "      <td>159.872482</td>\n",
              "      <td>155.024048</td>\n",
              "      <td>190.619476</td>\n",
              "      <td>474.106628</td>\n",
              "      <td>391.499878</td>\n",
              "      <td>100.418274</td>\n",
              "      <td>198.880005</td>\n",
              "      <td>109.880409</td>\n",
              "    </tr>\n",
              "    <tr>\n",
              "      <th>2024-08-06</th>\n",
              "      <td>206.031525</td>\n",
              "      <td>161.929993</td>\n",
              "      <td>159.772980</td>\n",
              "      <td>152.832092</td>\n",
              "      <td>195.940018</td>\n",
              "      <td>492.403931</td>\n",
              "      <td>395.918671</td>\n",
              "      <td>104.217079</td>\n",
              "      <td>200.639999</td>\n",
              "      <td>109.296417</td>\n",
              "    </tr>\n",
              "    <tr>\n",
              "      <th>2024-08-07</th>\n",
              "      <td>208.606552</td>\n",
              "      <td>162.770004</td>\n",
              "      <td>159.981964</td>\n",
              "      <td>152.764771</td>\n",
              "      <td>195.998688</td>\n",
              "      <td>487.251617</td>\n",
              "      <td>394.749573</td>\n",
              "      <td>98.878769</td>\n",
              "      <td>191.759995</td>\n",
              "      <td>110.751648</td>\n",
              "    </tr>\n",
              "  </tbody>\n",
              "</table>\n",
              "</div>\n",
              "    <div class=\"colab-df-buttons\">\n",
              "\n",
              "  <div class=\"colab-df-container\">\n",
              "    <button class=\"colab-df-convert\" onclick=\"convertToInteractive('df-a7a9e384-99d5-46be-a7b0-169df64a57ef')\"\n",
              "            title=\"Convert this dataframe to an interactive table.\"\n",
              "            style=\"display:none;\">\n",
              "\n",
              "  <svg xmlns=\"http://www.w3.org/2000/svg\" height=\"24px\" viewBox=\"0 -960 960 960\">\n",
              "    <path d=\"M120-120v-720h720v720H120Zm60-500h600v-160H180v160Zm220 220h160v-160H400v160Zm0 220h160v-160H400v160ZM180-400h160v-160H180v160Zm440 0h160v-160H620v160ZM180-180h160v-160H180v160Zm440 0h160v-160H620v160Z\"/>\n",
              "  </svg>\n",
              "    </button>\n",
              "\n",
              "  <style>\n",
              "    .colab-df-container {\n",
              "      display:flex;\n",
              "      gap: 12px;\n",
              "    }\n",
              "\n",
              "    .colab-df-convert {\n",
              "      background-color: #E8F0FE;\n",
              "      border: none;\n",
              "      border-radius: 50%;\n",
              "      cursor: pointer;\n",
              "      display: none;\n",
              "      fill: #1967D2;\n",
              "      height: 32px;\n",
              "      padding: 0 0 0 0;\n",
              "      width: 32px;\n",
              "    }\n",
              "\n",
              "    .colab-df-convert:hover {\n",
              "      background-color: #E2EBFA;\n",
              "      box-shadow: 0px 1px 2px rgba(60, 64, 67, 0.3), 0px 1px 3px 1px rgba(60, 64, 67, 0.15);\n",
              "      fill: #174EA6;\n",
              "    }\n",
              "\n",
              "    .colab-df-buttons div {\n",
              "      margin-bottom: 4px;\n",
              "    }\n",
              "\n",
              "    [theme=dark] .colab-df-convert {\n",
              "      background-color: #3B4455;\n",
              "      fill: #D2E3FC;\n",
              "    }\n",
              "\n",
              "    [theme=dark] .colab-df-convert:hover {\n",
              "      background-color: #434B5C;\n",
              "      box-shadow: 0px 1px 3px 1px rgba(0, 0, 0, 0.15);\n",
              "      filter: drop-shadow(0px 1px 2px rgba(0, 0, 0, 0.3));\n",
              "      fill: #FFFFFF;\n",
              "    }\n",
              "  </style>\n",
              "\n",
              "    <script>\n",
              "      const buttonEl =\n",
              "        document.querySelector('#df-a7a9e384-99d5-46be-a7b0-169df64a57ef button.colab-df-convert');\n",
              "      buttonEl.style.display =\n",
              "        google.colab.kernel.accessAllowed ? 'block' : 'none';\n",
              "\n",
              "      async function convertToInteractive(key) {\n",
              "        const element = document.querySelector('#df-a7a9e384-99d5-46be-a7b0-169df64a57ef');\n",
              "        const dataTable =\n",
              "          await google.colab.kernel.invokeFunction('convertToInteractive',\n",
              "                                                    [key], {});\n",
              "        if (!dataTable) return;\n",
              "\n",
              "        const docLinkHtml = 'Like what you see? Visit the ' +\n",
              "          '<a target=\"_blank\" href=https://colab.research.google.com/notebooks/data_table.ipynb>data table notebook</a>'\n",
              "          + ' to learn more about interactive tables.';\n",
              "        element.innerHTML = '';\n",
              "        dataTable['output_type'] = 'display_data';\n",
              "        await google.colab.output.renderOutput(dataTable, element);\n",
              "        const docLink = document.createElement('div');\n",
              "        docLink.innerHTML = docLinkHtml;\n",
              "        element.appendChild(docLink);\n",
              "      }\n",
              "    </script>\n",
              "  </div>\n",
              "\n",
              "\n",
              "    <div id=\"df-80f09dcc-d8c2-444c-828e-293135eb5c19\">\n",
              "      <button class=\"colab-df-quickchart\" onclick=\"quickchart('df-80f09dcc-d8c2-444c-828e-293135eb5c19')\"\n",
              "                title=\"Suggest charts\"\n",
              "                style=\"display:none;\">\n",
              "\n",
              "<svg xmlns=\"http://www.w3.org/2000/svg\" height=\"24px\"viewBox=\"0 0 24 24\"\n",
              "     width=\"24px\">\n",
              "    <g>\n",
              "        <path d=\"M19 3H5c-1.1 0-2 .9-2 2v14c0 1.1.9 2 2 2h14c1.1 0 2-.9 2-2V5c0-1.1-.9-2-2-2zM9 17H7v-7h2v7zm4 0h-2V7h2v10zm4 0h-2v-4h2v4z\"/>\n",
              "    </g>\n",
              "</svg>\n",
              "      </button>\n",
              "\n",
              "<style>\n",
              "  .colab-df-quickchart {\n",
              "      --bg-color: #E8F0FE;\n",
              "      --fill-color: #1967D2;\n",
              "      --hover-bg-color: #E2EBFA;\n",
              "      --hover-fill-color: #174EA6;\n",
              "      --disabled-fill-color: #AAA;\n",
              "      --disabled-bg-color: #DDD;\n",
              "  }\n",
              "\n",
              "  [theme=dark] .colab-df-quickchart {\n",
              "      --bg-color: #3B4455;\n",
              "      --fill-color: #D2E3FC;\n",
              "      --hover-bg-color: #434B5C;\n",
              "      --hover-fill-color: #FFFFFF;\n",
              "      --disabled-bg-color: #3B4455;\n",
              "      --disabled-fill-color: #666;\n",
              "  }\n",
              "\n",
              "  .colab-df-quickchart {\n",
              "    background-color: var(--bg-color);\n",
              "    border: none;\n",
              "    border-radius: 50%;\n",
              "    cursor: pointer;\n",
              "    display: none;\n",
              "    fill: var(--fill-color);\n",
              "    height: 32px;\n",
              "    padding: 0;\n",
              "    width: 32px;\n",
              "  }\n",
              "\n",
              "  .colab-df-quickchart:hover {\n",
              "    background-color: var(--hover-bg-color);\n",
              "    box-shadow: 0 1px 2px rgba(60, 64, 67, 0.3), 0 1px 3px 1px rgba(60, 64, 67, 0.15);\n",
              "    fill: var(--button-hover-fill-color);\n",
              "  }\n",
              "\n",
              "  .colab-df-quickchart-complete:disabled,\n",
              "  .colab-df-quickchart-complete:disabled:hover {\n",
              "    background-color: var(--disabled-bg-color);\n",
              "    fill: var(--disabled-fill-color);\n",
              "    box-shadow: none;\n",
              "  }\n",
              "\n",
              "  .colab-df-spinner {\n",
              "    border: 2px solid var(--fill-color);\n",
              "    border-color: transparent;\n",
              "    border-bottom-color: var(--fill-color);\n",
              "    animation:\n",
              "      spin 1s steps(1) infinite;\n",
              "  }\n",
              "\n",
              "  @keyframes spin {\n",
              "    0% {\n",
              "      border-color: transparent;\n",
              "      border-bottom-color: var(--fill-color);\n",
              "      border-left-color: var(--fill-color);\n",
              "    }\n",
              "    20% {\n",
              "      border-color: transparent;\n",
              "      border-left-color: var(--fill-color);\n",
              "      border-top-color: var(--fill-color);\n",
              "    }\n",
              "    30% {\n",
              "      border-color: transparent;\n",
              "      border-left-color: var(--fill-color);\n",
              "      border-top-color: var(--fill-color);\n",
              "      border-right-color: var(--fill-color);\n",
              "    }\n",
              "    40% {\n",
              "      border-color: transparent;\n",
              "      border-right-color: var(--fill-color);\n",
              "      border-top-color: var(--fill-color);\n",
              "    }\n",
              "    60% {\n",
              "      border-color: transparent;\n",
              "      border-right-color: var(--fill-color);\n",
              "    }\n",
              "    80% {\n",
              "      border-color: transparent;\n",
              "      border-right-color: var(--fill-color);\n",
              "      border-bottom-color: var(--fill-color);\n",
              "    }\n",
              "    90% {\n",
              "      border-color: transparent;\n",
              "      border-bottom-color: var(--fill-color);\n",
              "    }\n",
              "  }\n",
              "</style>\n",
              "\n",
              "      <script>\n",
              "        async function quickchart(key) {\n",
              "          const quickchartButtonEl =\n",
              "            document.querySelector('#' + key + ' button');\n",
              "          quickchartButtonEl.disabled = true;  // To prevent multiple clicks.\n",
              "          quickchartButtonEl.classList.add('colab-df-spinner');\n",
              "          try {\n",
              "            const charts = await google.colab.kernel.invokeFunction(\n",
              "                'suggestCharts', [key], {});\n",
              "          } catch (error) {\n",
              "            console.error('Error during call to suggestCharts:', error);\n",
              "          }\n",
              "          quickchartButtonEl.classList.remove('colab-df-spinner');\n",
              "          quickchartButtonEl.classList.add('colab-df-quickchart-complete');\n",
              "        }\n",
              "        (() => {\n",
              "          let quickchartButtonEl =\n",
              "            document.querySelector('#df-80f09dcc-d8c2-444c-828e-293135eb5c19 button');\n",
              "          quickchartButtonEl.style.display =\n",
              "            google.colab.kernel.accessAllowed ? 'block' : 'none';\n",
              "        })();\n",
              "      </script>\n",
              "    </div>\n",
              "\n",
              "    </div>\n",
              "  </div>\n"
            ],
            "text/plain": [
              "Ticker            AAPL        AMZN        GOOG         JNJ         JPM  \\\n",
              "Date                                                                     \n",
              "2024-08-01  217.097168  184.070007  171.626068  154.552963  203.392670   \n",
              "2024-08-02  218.588501  167.899994  167.595398  157.802444  194.766373   \n",
              "2024-08-05  208.059738  161.020004  159.872482  155.024048  190.619476   \n",
              "2024-08-06  206.031525  161.929993  159.772980  152.832092  195.940018   \n",
              "2024-08-07  208.606552  162.770004  159.981964  152.764771  195.998688   \n",
              "\n",
              "Ticker            META        MSFT        NVDA        TSLA         XOM  \n",
              "Date                                                                    \n",
              "2024-08-01  496.041473  413.256958  109.175514  216.860001  111.967537  \n",
              "2024-08-02  486.474274  404.716644  107.236115  207.669998  111.900528  \n",
              "2024-08-05  474.106628  391.499878  100.418274  198.880005  109.880409  \n",
              "2024-08-06  492.403931  395.918671  104.217079  200.639999  109.296417  \n",
              "2024-08-07  487.251617  394.749573   98.878769  191.759995  110.751648  "
            ]
          },
          "execution_count": 5,
          "metadata": {},
          "output_type": "execute_result"
        }
      ],
      "source": [
        "# Download stock price data of popular companies\n",
        "stocks = ['AAPL', 'MSFT', 'GOOG', 'TSLA', 'JNJ', 'JPM', 'NVDA', 'AMZN', 'META', 'XOM']\n",
        "dfstock = yf.download(stocks, start = \"2024-08-01\", end = \"2025-08-01\")\n",
        "dfstock = dfstock.xs('Close', axis = 1, level = 0)#we select only closing prices of the stocks\n",
        "dfstock.dropna(inplace = True)#drop all rows with nan values and update the dataframes and keep it in memory\n",
        "dfstock.head()"
      ]
    },
    {
      "cell_type": "markdown",
      "metadata": {
        "id": "b6fWdwuwzcBo"
      },
      "source": [
        "---\n",
        "\n",
        "Compute daily log returns as $\\log\\left(\\frac{P_t}{P_{t-1}}\\right)$ where $P_t$ is stock price today and $P_{t-1}$ is stock price yesterday. For each company, its log return values can be treated as a vector."
      ]
    },
    {
      "cell_type": "code",
      "execution_count": 6,
      "metadata": {
        "colab": {
          "base_uri": "https://localhost:8080/",
          "height": 455
        },
        "id": "TnEp3TH8vsvz",
        "outputId": "6a8371b8-1e70-4493-8891-f057252af8c4"
      },
      "outputs": [
        {
          "data": {
            "application/vnd.google.colaboratory.intrinsic+json": {
              "summary": "{\n  \"name\": \"dfstock\",\n  \"rows\": 250,\n  \"fields\": [\n    {\n      \"column\": \"Date\",\n      \"properties\": {\n        \"dtype\": \"date\",\n        \"min\": \"2024-08-01 00:00:00\",\n        \"max\": \"2025-07-31 00:00:00\",\n        \"num_unique_values\": 250,\n        \"samples\": [\n          \"2025-02-26 00:00:00\",\n          \"2024-08-09 00:00:00\",\n          \"2024-12-18 00:00:00\"\n        ],\n        \"semantic_type\": \"\",\n        \"description\": \"\"\n      }\n    },\n    {\n      \"column\": \"AAPL\",\n      \"properties\": {\n        \"dtype\": \"number\",\n        \"std\": 15.865703187287837,\n        \"min\": 171.99899291992188,\n        \"max\": 258.1037292480469,\n        \"num_unique_values\": 246,\n        \"samples\": [\n          227.80975341796875,\n          214.98944091796875,\n          208.76898193359375\n        ],\n        \"semantic_type\": \"\",\n        \"description\": \"\"\n      }\n    },\n    {\n      \"column\": \"AMZN\",\n      \"properties\": {\n        \"dtype\": \"number\",\n        \"std\": 19.928120642786016,\n        \"min\": 161.02000427246094,\n        \"max\": 242.05999755859375,\n        \"num_unique_values\": 245,\n        \"samples\": [\n          177.88999938964844,\n          166.94000244140625,\n          197.9499969482422\n        ],\n        \"semantic_type\": \"\",\n        \"description\": \"\"\n      }\n    },\n    {\n      \"column\": \"GOOG\",\n      \"properties\": {\n        \"dtype\": \"number\",\n        \"std\": 13.380150771872568,\n        \"min\": 146.40402221679688,\n        \"max\": 207.22454833984375,\n        \"num_unique_values\": 245,\n        \"samples\": [\n          151.4031524658203,\n          164.59979248046875,\n          166.37002563476562\n        ],\n        \"semantic_type\": \"\",\n        \"description\": \"\"\n      }\n    },\n    {\n      \"column\": \"JNJ\",\n      \"properties\": {\n        \"dtype\": \"number\",\n        \"std\": 6.420882727564582,\n        \"min\": 138.7157745361328,\n        \"max\": 168.32447814941406,\n        \"num_unique_values\": 241,\n        \"samples\": [\n          159.82359313964844,\n          154.41835021972656,\n          154.8732147216797\n        ],\n        \"semantic_type\": \"\",\n        \"description\": \"\"\n      }\n    },\n    {\n      \"column\": \"JPM\",\n      \"properties\": {\n        \"dtype\": \"number\",\n        \"std\": 26.5886290983424,\n        \"min\": 190.61947631835938,\n        \"max\": 299.6300048828125,\n        \"num_unique_values\": 248,\n        \"samples\": [\n          202.9720916748047,\n          201.2801055908203,\n          243.46705627441406\n        ],\n        \"semantic_type\": \"\",\n        \"description\": \"\"\n      }\n    },\n    {\n      \"column\": \"META\",\n      \"properties\": {\n        \"dtype\": \"number\",\n        \"std\": 67.59936867378889,\n        \"min\": 474.10662841796875,\n        \"max\": 738.0900268554688,\n        \"num_unique_values\": 246,\n        \"samples\": [\n          557.7236328125,\n          516.0032348632812,\n          549.3173217773438\n        ],\n        \"semantic_type\": \"\",\n        \"description\": \"\"\n      }\n    },\n    {\n      \"column\": \"MSFT\",\n      \"properties\": {\n        \"dtype\": \"number\",\n        \"std\": 35.67791721243723,\n        \"min\": 353.3294372558594,\n        \"max\": 512.866943359375,\n        \"num_unique_values\": 249,\n        \"samples\": [\n          412.5033264160156,\n          402.2694396972656,\n          434.999755859375\n        ],\n        \"semantic_type\": \"\",\n        \"description\": \"\"\n      }\n    },\n    {\n      \"column\": \"NVDA\",\n      \"properties\": {\n        \"dtype\": \"number\",\n        \"std\": 17.68602735801851,\n        \"min\": 94.30345153808594,\n        \"max\": 179.27000427246094,\n        \"num_unique_values\": 247,\n        \"samples\": [\n          113.3438949584961,\n          104.71692657470703,\n          111.0022964477539\n        ],\n        \"semantic_type\": \"\",\n        \"description\": \"\"\n      }\n    },\n    {\n      \"column\": \"TSLA\",\n      \"properties\": {\n        \"dtype\": \"number\",\n        \"std\": 67.59058879079495,\n        \"min\": 191.75999450683594,\n        \"max\": 479.8599853515625,\n        \"num_unique_values\": 248,\n        \"samples\": [\n          227.1999969482422,\n          200.0,\n          259.510009765625\n        ],\n        \"semantic_type\": \"\",\n        \"description\": \"\"\n      }\n    },\n    {\n      \"column\": \"XOM\",\n      \"properties\": {\n        \"dtype\": \"number\",\n        \"std\": 4.886087012915465,\n        \"min\": 98.1051254272461,\n        \"max\": 120.99516296386719,\n        \"num_unique_values\": 242,\n        \"samples\": [\n          109.22087860107422,\n          113.7865982055664,\n          111.68256378173828\n        ],\n        \"semantic_type\": \"\",\n        \"description\": \"\"\n      }\n    }\n  ]\n}",
              "type": "dataframe"
            },
            "text/html": [
              "\n",
              "  <div id=\"df-79eeecc3-f8c7-4323-b787-3456967435cc\" class=\"colab-df-container\">\n",
              "    <div>\n",
              "<style scoped>\n",
              "    .dataframe tbody tr th:only-of-type {\n",
              "        vertical-align: middle;\n",
              "    }\n",
              "\n",
              "    .dataframe tbody tr th {\n",
              "        vertical-align: top;\n",
              "    }\n",
              "\n",
              "    .dataframe thead th {\n",
              "        text-align: right;\n",
              "    }\n",
              "</style>\n",
              "<table border=\"1\" class=\"dataframe\">\n",
              "  <thead>\n",
              "    <tr style=\"text-align: right;\">\n",
              "      <th>Ticker</th>\n",
              "      <th>AAPL</th>\n",
              "      <th>AMZN</th>\n",
              "      <th>GOOG</th>\n",
              "      <th>JNJ</th>\n",
              "      <th>JPM</th>\n",
              "      <th>META</th>\n",
              "      <th>MSFT</th>\n",
              "      <th>NVDA</th>\n",
              "      <th>TSLA</th>\n",
              "      <th>XOM</th>\n",
              "    </tr>\n",
              "    <tr>\n",
              "      <th>Date</th>\n",
              "      <th></th>\n",
              "      <th></th>\n",
              "      <th></th>\n",
              "      <th></th>\n",
              "      <th></th>\n",
              "      <th></th>\n",
              "      <th></th>\n",
              "      <th></th>\n",
              "      <th></th>\n",
              "      <th></th>\n",
              "    </tr>\n",
              "  </thead>\n",
              "  <tbody>\n",
              "    <tr>\n",
              "      <th>2024-08-01</th>\n",
              "      <td>NaN</td>\n",
              "      <td>NaN</td>\n",
              "      <td>NaN</td>\n",
              "      <td>NaN</td>\n",
              "      <td>NaN</td>\n",
              "      <td>NaN</td>\n",
              "      <td>NaN</td>\n",
              "      <td>NaN</td>\n",
              "      <td>NaN</td>\n",
              "      <td>NaN</td>\n",
              "    </tr>\n",
              "    <tr>\n",
              "      <th>2024-08-02</th>\n",
              "      <td>217.097168</td>\n",
              "      <td>184.070007</td>\n",
              "      <td>171.626068</td>\n",
              "      <td>154.552963</td>\n",
              "      <td>203.392670</td>\n",
              "      <td>496.041473</td>\n",
              "      <td>413.256958</td>\n",
              "      <td>109.175514</td>\n",
              "      <td>216.860001</td>\n",
              "      <td>111.967537</td>\n",
              "    </tr>\n",
              "    <tr>\n",
              "      <th>2024-08-05</th>\n",
              "      <td>218.588501</td>\n",
              "      <td>167.899994</td>\n",
              "      <td>167.595398</td>\n",
              "      <td>157.802444</td>\n",
              "      <td>194.766373</td>\n",
              "      <td>486.474274</td>\n",
              "      <td>404.716644</td>\n",
              "      <td>107.236115</td>\n",
              "      <td>207.669998</td>\n",
              "      <td>111.900528</td>\n",
              "    </tr>\n",
              "    <tr>\n",
              "      <th>2024-08-06</th>\n",
              "      <td>208.059738</td>\n",
              "      <td>161.020004</td>\n",
              "      <td>159.872482</td>\n",
              "      <td>155.024048</td>\n",
              "      <td>190.619476</td>\n",
              "      <td>474.106628</td>\n",
              "      <td>391.499878</td>\n",
              "      <td>100.418274</td>\n",
              "      <td>198.880005</td>\n",
              "      <td>109.880409</td>\n",
              "    </tr>\n",
              "    <tr>\n",
              "      <th>2024-08-07</th>\n",
              "      <td>206.031525</td>\n",
              "      <td>161.929993</td>\n",
              "      <td>159.772980</td>\n",
              "      <td>152.832092</td>\n",
              "      <td>195.940018</td>\n",
              "      <td>492.403931</td>\n",
              "      <td>395.918671</td>\n",
              "      <td>104.217079</td>\n",
              "      <td>200.639999</td>\n",
              "      <td>109.296417</td>\n",
              "    </tr>\n",
              "    <tr>\n",
              "      <th>...</th>\n",
              "      <td>...</td>\n",
              "      <td>...</td>\n",
              "      <td>...</td>\n",
              "      <td>...</td>\n",
              "      <td>...</td>\n",
              "      <td>...</td>\n",
              "      <td>...</td>\n",
              "      <td>...</td>\n",
              "      <td>...</td>\n",
              "      <td>...</td>\n",
              "    </tr>\n",
              "    <tr>\n",
              "      <th>2025-07-25</th>\n",
              "      <td>213.517670</td>\n",
              "      <td>232.229996</td>\n",
              "      <td>193.199997</td>\n",
              "      <td>168.324478</td>\n",
              "      <td>296.549988</td>\n",
              "      <td>714.799988</td>\n",
              "      <td>510.041534</td>\n",
              "      <td>173.740005</td>\n",
              "      <td>305.299988</td>\n",
              "      <td>109.768562</td>\n",
              "    </tr>\n",
              "    <tr>\n",
              "      <th>2025-07-28</th>\n",
              "      <td>213.637543</td>\n",
              "      <td>231.440002</td>\n",
              "      <td>194.080002</td>\n",
              "      <td>167.073669</td>\n",
              "      <td>298.619995</td>\n",
              "      <td>712.679993</td>\n",
              "      <td>512.866943</td>\n",
              "      <td>173.500000</td>\n",
              "      <td>316.059998</td>\n",
              "      <td>109.382156</td>\n",
              "    </tr>\n",
              "    <tr>\n",
              "      <th>2025-07-29</th>\n",
              "      <td>213.807358</td>\n",
              "      <td>232.789993</td>\n",
              "      <td>193.419998</td>\n",
              "      <td>165.008820</td>\n",
              "      <td>298.279999</td>\n",
              "      <td>717.630005</td>\n",
              "      <td>511.658875</td>\n",
              "      <td>176.750000</td>\n",
              "      <td>325.589996</td>\n",
              "      <td>110.412575</td>\n",
              "    </tr>\n",
              "    <tr>\n",
              "      <th>2025-07-30</th>\n",
              "      <td>211.030502</td>\n",
              "      <td>231.009995</td>\n",
              "      <td>196.429993</td>\n",
              "      <td>166.885056</td>\n",
              "      <td>297.040009</td>\n",
              "      <td>700.000000</td>\n",
              "      <td>511.728760</td>\n",
              "      <td>175.509995</td>\n",
              "      <td>321.200012</td>\n",
              "      <td>111.839287</td>\n",
              "    </tr>\n",
              "    <tr>\n",
              "      <th>2025-07-31</th>\n",
              "      <td>208.813019</td>\n",
              "      <td>230.190002</td>\n",
              "      <td>197.440002</td>\n",
              "      <td>166.041229</td>\n",
              "      <td>299.630005</td>\n",
              "      <td>695.210022</td>\n",
              "      <td>512.397644</td>\n",
              "      <td>179.270004</td>\n",
              "      <td>319.040009</td>\n",
              "      <td>110.868332</td>\n",
              "    </tr>\n",
              "  </tbody>\n",
              "</table>\n",
              "<p>250 rows × 10 columns</p>\n",
              "</div>\n",
              "    <div class=\"colab-df-buttons\">\n",
              "\n",
              "  <div class=\"colab-df-container\">\n",
              "    <button class=\"colab-df-convert\" onclick=\"convertToInteractive('df-79eeecc3-f8c7-4323-b787-3456967435cc')\"\n",
              "            title=\"Convert this dataframe to an interactive table.\"\n",
              "            style=\"display:none;\">\n",
              "\n",
              "  <svg xmlns=\"http://www.w3.org/2000/svg\" height=\"24px\" viewBox=\"0 -960 960 960\">\n",
              "    <path d=\"M120-120v-720h720v720H120Zm60-500h600v-160H180v160Zm220 220h160v-160H400v160Zm0 220h160v-160H400v160ZM180-400h160v-160H180v160Zm440 0h160v-160H620v160ZM180-180h160v-160H180v160Zm440 0h160v-160H620v160Z\"/>\n",
              "  </svg>\n",
              "    </button>\n",
              "\n",
              "  <style>\n",
              "    .colab-df-container {\n",
              "      display:flex;\n",
              "      gap: 12px;\n",
              "    }\n",
              "\n",
              "    .colab-df-convert {\n",
              "      background-color: #E8F0FE;\n",
              "      border: none;\n",
              "      border-radius: 50%;\n",
              "      cursor: pointer;\n",
              "      display: none;\n",
              "      fill: #1967D2;\n",
              "      height: 32px;\n",
              "      padding: 0 0 0 0;\n",
              "      width: 32px;\n",
              "    }\n",
              "\n",
              "    .colab-df-convert:hover {\n",
              "      background-color: #E2EBFA;\n",
              "      box-shadow: 0px 1px 2px rgba(60, 64, 67, 0.3), 0px 1px 3px 1px rgba(60, 64, 67, 0.15);\n",
              "      fill: #174EA6;\n",
              "    }\n",
              "\n",
              "    .colab-df-buttons div {\n",
              "      margin-bottom: 4px;\n",
              "    }\n",
              "\n",
              "    [theme=dark] .colab-df-convert {\n",
              "      background-color: #3B4455;\n",
              "      fill: #D2E3FC;\n",
              "    }\n",
              "\n",
              "    [theme=dark] .colab-df-convert:hover {\n",
              "      background-color: #434B5C;\n",
              "      box-shadow: 0px 1px 3px 1px rgba(0, 0, 0, 0.15);\n",
              "      filter: drop-shadow(0px 1px 2px rgba(0, 0, 0, 0.3));\n",
              "      fill: #FFFFFF;\n",
              "    }\n",
              "  </style>\n",
              "\n",
              "    <script>\n",
              "      const buttonEl =\n",
              "        document.querySelector('#df-79eeecc3-f8c7-4323-b787-3456967435cc button.colab-df-convert');\n",
              "      buttonEl.style.display =\n",
              "        google.colab.kernel.accessAllowed ? 'block' : 'none';\n",
              "\n",
              "      async function convertToInteractive(key) {\n",
              "        const element = document.querySelector('#df-79eeecc3-f8c7-4323-b787-3456967435cc');\n",
              "        const dataTable =\n",
              "          await google.colab.kernel.invokeFunction('convertToInteractive',\n",
              "                                                    [key], {});\n",
              "        if (!dataTable) return;\n",
              "\n",
              "        const docLinkHtml = 'Like what you see? Visit the ' +\n",
              "          '<a target=\"_blank\" href=https://colab.research.google.com/notebooks/data_table.ipynb>data table notebook</a>'\n",
              "          + ' to learn more about interactive tables.';\n",
              "        element.innerHTML = '';\n",
              "        dataTable['output_type'] = 'display_data';\n",
              "        await google.colab.output.renderOutput(dataTable, element);\n",
              "        const docLink = document.createElement('div');\n",
              "        docLink.innerHTML = docLinkHtml;\n",
              "        element.appendChild(docLink);\n",
              "      }\n",
              "    </script>\n",
              "  </div>\n",
              "\n",
              "\n",
              "    <div id=\"df-1c217437-ce1f-4a51-b0c1-46cbc61b2781\">\n",
              "      <button class=\"colab-df-quickchart\" onclick=\"quickchart('df-1c217437-ce1f-4a51-b0c1-46cbc61b2781')\"\n",
              "                title=\"Suggest charts\"\n",
              "                style=\"display:none;\">\n",
              "\n",
              "<svg xmlns=\"http://www.w3.org/2000/svg\" height=\"24px\"viewBox=\"0 0 24 24\"\n",
              "     width=\"24px\">\n",
              "    <g>\n",
              "        <path d=\"M19 3H5c-1.1 0-2 .9-2 2v14c0 1.1.9 2 2 2h14c1.1 0 2-.9 2-2V5c0-1.1-.9-2-2-2zM9 17H7v-7h2v7zm4 0h-2V7h2v10zm4 0h-2v-4h2v4z\"/>\n",
              "    </g>\n",
              "</svg>\n",
              "      </button>\n",
              "\n",
              "<style>\n",
              "  .colab-df-quickchart {\n",
              "      --bg-color: #E8F0FE;\n",
              "      --fill-color: #1967D2;\n",
              "      --hover-bg-color: #E2EBFA;\n",
              "      --hover-fill-color: #174EA6;\n",
              "      --disabled-fill-color: #AAA;\n",
              "      --disabled-bg-color: #DDD;\n",
              "  }\n",
              "\n",
              "  [theme=dark] .colab-df-quickchart {\n",
              "      --bg-color: #3B4455;\n",
              "      --fill-color: #D2E3FC;\n",
              "      --hover-bg-color: #434B5C;\n",
              "      --hover-fill-color: #FFFFFF;\n",
              "      --disabled-bg-color: #3B4455;\n",
              "      --disabled-fill-color: #666;\n",
              "  }\n",
              "\n",
              "  .colab-df-quickchart {\n",
              "    background-color: var(--bg-color);\n",
              "    border: none;\n",
              "    border-radius: 50%;\n",
              "    cursor: pointer;\n",
              "    display: none;\n",
              "    fill: var(--fill-color);\n",
              "    height: 32px;\n",
              "    padding: 0;\n",
              "    width: 32px;\n",
              "  }\n",
              "\n",
              "  .colab-df-quickchart:hover {\n",
              "    background-color: var(--hover-bg-color);\n",
              "    box-shadow: 0 1px 2px rgba(60, 64, 67, 0.3), 0 1px 3px 1px rgba(60, 64, 67, 0.15);\n",
              "    fill: var(--button-hover-fill-color);\n",
              "  }\n",
              "\n",
              "  .colab-df-quickchart-complete:disabled,\n",
              "  .colab-df-quickchart-complete:disabled:hover {\n",
              "    background-color: var(--disabled-bg-color);\n",
              "    fill: var(--disabled-fill-color);\n",
              "    box-shadow: none;\n",
              "  }\n",
              "\n",
              "  .colab-df-spinner {\n",
              "    border: 2px solid var(--fill-color);\n",
              "    border-color: transparent;\n",
              "    border-bottom-color: var(--fill-color);\n",
              "    animation:\n",
              "      spin 1s steps(1) infinite;\n",
              "  }\n",
              "\n",
              "  @keyframes spin {\n",
              "    0% {\n",
              "      border-color: transparent;\n",
              "      border-bottom-color: var(--fill-color);\n",
              "      border-left-color: var(--fill-color);\n",
              "    }\n",
              "    20% {\n",
              "      border-color: transparent;\n",
              "      border-left-color: var(--fill-color);\n",
              "      border-top-color: var(--fill-color);\n",
              "    }\n",
              "    30% {\n",
              "      border-color: transparent;\n",
              "      border-left-color: var(--fill-color);\n",
              "      border-top-color: var(--fill-color);\n",
              "      border-right-color: var(--fill-color);\n",
              "    }\n",
              "    40% {\n",
              "      border-color: transparent;\n",
              "      border-right-color: var(--fill-color);\n",
              "      border-top-color: var(--fill-color);\n",
              "    }\n",
              "    60% {\n",
              "      border-color: transparent;\n",
              "      border-right-color: var(--fill-color);\n",
              "    }\n",
              "    80% {\n",
              "      border-color: transparent;\n",
              "      border-right-color: var(--fill-color);\n",
              "      border-bottom-color: var(--fill-color);\n",
              "    }\n",
              "    90% {\n",
              "      border-color: transparent;\n",
              "      border-bottom-color: var(--fill-color);\n",
              "    }\n",
              "  }\n",
              "</style>\n",
              "\n",
              "      <script>\n",
              "        async function quickchart(key) {\n",
              "          const quickchartButtonEl =\n",
              "            document.querySelector('#' + key + ' button');\n",
              "          quickchartButtonEl.disabled = true;  // To prevent multiple clicks.\n",
              "          quickchartButtonEl.classList.add('colab-df-spinner');\n",
              "          try {\n",
              "            const charts = await google.colab.kernel.invokeFunction(\n",
              "                'suggestCharts', [key], {});\n",
              "          } catch (error) {\n",
              "            console.error('Error during call to suggestCharts:', error);\n",
              "          }\n",
              "          quickchartButtonEl.classList.remove('colab-df-spinner');\n",
              "          quickchartButtonEl.classList.add('colab-df-quickchart-complete');\n",
              "        }\n",
              "        (() => {\n",
              "          let quickchartButtonEl =\n",
              "            document.querySelector('#df-1c217437-ce1f-4a51-b0c1-46cbc61b2781 button');\n",
              "          quickchartButtonEl.style.display =\n",
              "            google.colab.kernel.accessAllowed ? 'block' : 'none';\n",
              "        })();\n",
              "      </script>\n",
              "    </div>\n",
              "\n",
              "    </div>\n",
              "  </div>\n"
            ],
            "text/plain": [
              "Ticker            AAPL        AMZN        GOOG         JNJ         JPM  \\\n",
              "Date                                                                     \n",
              "2024-08-01         NaN         NaN         NaN         NaN         NaN   \n",
              "2024-08-02  217.097168  184.070007  171.626068  154.552963  203.392670   \n",
              "2024-08-05  218.588501  167.899994  167.595398  157.802444  194.766373   \n",
              "2024-08-06  208.059738  161.020004  159.872482  155.024048  190.619476   \n",
              "2024-08-07  206.031525  161.929993  159.772980  152.832092  195.940018   \n",
              "...                ...         ...         ...         ...         ...   \n",
              "2025-07-25  213.517670  232.229996  193.199997  168.324478  296.549988   \n",
              "2025-07-28  213.637543  231.440002  194.080002  167.073669  298.619995   \n",
              "2025-07-29  213.807358  232.789993  193.419998  165.008820  298.279999   \n",
              "2025-07-30  211.030502  231.009995  196.429993  166.885056  297.040009   \n",
              "2025-07-31  208.813019  230.190002  197.440002  166.041229  299.630005   \n",
              "\n",
              "Ticker            META        MSFT        NVDA        TSLA         XOM  \n",
              "Date                                                                    \n",
              "2024-08-01         NaN         NaN         NaN         NaN         NaN  \n",
              "2024-08-02  496.041473  413.256958  109.175514  216.860001  111.967537  \n",
              "2024-08-05  486.474274  404.716644  107.236115  207.669998  111.900528  \n",
              "2024-08-06  474.106628  391.499878  100.418274  198.880005  109.880409  \n",
              "2024-08-07  492.403931  395.918671  104.217079  200.639999  109.296417  \n",
              "...                ...         ...         ...         ...         ...  \n",
              "2025-07-25  714.799988  510.041534  173.740005  305.299988  109.768562  \n",
              "2025-07-28  712.679993  512.866943  173.500000  316.059998  109.382156  \n",
              "2025-07-29  717.630005  511.658875  176.750000  325.589996  110.412575  \n",
              "2025-07-30  700.000000  511.728760  175.509995  321.200012  111.839287  \n",
              "2025-07-31  695.210022  512.397644  179.270004  319.040009  110.868332  \n",
              "\n",
              "[250 rows x 10 columns]"
            ]
          },
          "execution_count": 6,
          "metadata": {},
          "output_type": "execute_result"
        }
      ],
      "source": [
        "dfstock.shift(1)#moves row 1 ka values 1 step down and make row 1 ka elements as nan"
      ]
    },
    {
      "cell_type": "code",
      "execution_count": 7,
      "metadata": {
        "colab": {
          "base_uri": "https://localhost:8080/"
        },
        "id": "42ZIaoZCw7JI",
        "outputId": "78d770f9-549c-4bdc-ccaa-6693a681fe78"
      },
      "outputs": [
        {
          "name": "stdout",
          "output_type": "stream",
          "text": [
            "Ticker          AAPL      AMZN      GOOG       JNJ       JPM      META  \\\n",
            "Date                                                                     \n",
            "2024-08-02  0.006846 -0.091948 -0.023765  0.020807 -0.043338 -0.019476   \n",
            "2024-08-05 -0.049366 -0.041840 -0.047176 -0.017764 -0.021522 -0.025752   \n",
            "2024-08-06 -0.009796  0.005635 -0.000623 -0.014240  0.027529  0.037867   \n",
            "2024-08-07  0.012421  0.005174  0.001307 -0.000441  0.000299 -0.010519   \n",
            "2024-08-08  0.016496  0.018444  0.019040  0.008273  0.018099  0.041486   \n",
            "...              ...       ...       ...       ...       ...       ...   \n",
            "2025-07-25  0.000561 -0.003408  0.004545 -0.007459  0.006956 -0.002970   \n",
            "2025-07-28  0.000795  0.005816 -0.003406 -0.012436 -0.001139  0.006922   \n",
            "2025-07-29 -0.013073 -0.007676  0.015442  0.011306 -0.004166 -0.024874   \n",
            "2025-07-30 -0.010563 -0.003556  0.005129 -0.005069  0.008682 -0.006866   \n",
            "2025-07-31 -0.007105  0.016886 -0.023470 -0.015181 -0.011378  0.106634   \n",
            "\n",
            "Ticker          MSFT      NVDA      TSLA       XOM  \n",
            "Date                                                \n",
            "2024-08-02 -0.020882 -0.017924 -0.043302 -0.000599  \n",
            "2024-08-05 -0.033202 -0.065689 -0.043249 -0.018218  \n",
            "2024-08-06  0.011224  0.037132  0.008811 -0.005329  \n",
            "2024-08-07 -0.002957 -0.052581 -0.045268  0.013227  \n",
            "2024-08-08  0.010635  0.059464  0.036256  0.018924  \n",
            "...              ...       ...       ...       ...  \n",
            "2025-07-25  0.005524 -0.001382  0.034637 -0.003526  \n",
            "2025-07-28 -0.002358  0.018559  0.029707  0.009376  \n",
            "2025-07-29  0.000137 -0.007040 -0.013575  0.012839  \n",
            "2025-07-30  0.001306  0.021197 -0.006748 -0.008720  \n",
            "2025-07-31  0.038715 -0.007840 -0.034341 -0.002326  \n",
            "\n",
            "[249 rows x 10 columns]\n"
          ]
        }
      ],
      "source": [
        "total_stock_log_returns=np.log(dfstock/dfstock.shift(1)).dropna()#computing the log returns, we use log returns coz its time additive\n",
        "print(total_stock_log_returns)"
      ]
    },
    {
      "cell_type": "code",
      "execution_count": 8,
      "metadata": {
        "id": "L-sZLOoQdtaB"
      },
      "outputs": [],
      "source": [
        "# end_stock_prices=dfstock.iloc[-1,0:]#last row deets of all columns\n",
        "# start_stock_prices=dfstock.iloc[0,0:]#first row deets of all columns"
      ]
    },
    {
      "cell_type": "markdown",
      "metadata": {
        "id": "lwZNy-Nxz9aP"
      },
      "source": [
        "---\n",
        "\n",
        "The risk or volatility associated with a stock can be quantified by the standard deviation of the log returns of that stock.\n",
        "\n",
        "First, compute the volatility in the log returns of TSLA. Then, compute the volatility in the log returns of the all the stocks and plot them in a bar plot in descending order.\n",
        "\n",
        "---"
      ]
    },
    {
      "cell_type": "code",
      "execution_count": 9,
      "metadata": {
        "colab": {
          "base_uri": "https://localhost:8080/"
        },
        "id": "MxNetBQWxrET",
        "outputId": "b00b155b-1788-4cba-8933-e2e760228064"
      },
      "outputs": [
        {
          "data": {
            "text/plain": [
              "Index(['AAPL', 'AMZN', 'GOOG', 'JNJ', 'JPM', 'META', 'MSFT', 'NVDA', 'TSLA',\n",
              "       'XOM'],\n",
              "      dtype='object', name='Ticker')"
            ]
          },
          "execution_count": 9,
          "metadata": {},
          "output_type": "execute_result"
        }
      ],
      "source": [
        "total_stock_log_returns.columns"
      ]
    },
    {
      "cell_type": "code",
      "execution_count": 10,
      "metadata": {
        "colab": {
          "base_uri": "https://localhost:8080/"
        },
        "id": "UG1Qh6UCQykz",
        "outputId": "d74b4c9e-45bb-4beb-f1d9-4e67f450a001"
      },
      "outputs": [
        {
          "name": "stdout",
          "output_type": "stream",
          "text": [
            "0.044917920810382664\n",
            "0.04491792081038267\n"
          ]
        }
      ],
      "source": [
        "a=total_stock_log_returns['TSLA'].values\n",
        "print(np.sqrt(np.dot(a-np.mean(a),a-np.mean(a))/len(a)))\n",
        "print(np.std(a))"
      ]
    },
    {
      "cell_type": "code",
      "execution_count": 11,
      "metadata": {
        "colab": {
          "base_uri": "https://localhost:8080/"
        },
        "id": "yu-54DzNRgL7",
        "outputId": "fb05b28d-3e89-4fbe-d027-2c2d264ae334"
      },
      "outputs": [
        {
          "name": "stdout",
          "output_type": "stream",
          "text": [
            "Ticker\n",
            "AAPL    0.019815\n",
            "AMZN    0.021501\n",
            "GOOG    0.019647\n",
            "JNJ     0.012190\n",
            "JPM     0.017553\n",
            "META    0.022929\n",
            "MSFT    0.015702\n",
            "NVDA    0.034123\n",
            "TSLA    0.045008\n",
            "XOM     0.015349\n",
            "dtype: float64\n"
          ]
        }
      ],
      "source": [
        "log_returns = np.log(dfstock / dfstock.shift(1)).dropna()#takes the original stock prices and divides by the shifted values, element by element divisions is done\n",
        "volatilities = log_returns.std()#the std method does standard deviation element by element in a vector,\n",
        "print(volatilities )"
      ]
    },
    {
      "cell_type": "code",
      "execution_count": 12,
      "metadata": {
        "colab": {
          "base_uri": "https://localhost:8080/",
          "height": 665
        },
        "id": "Z-XM7M-_0Bm1",
        "outputId": "6cb6d159-8a49-4569-8446-de0343c58978"
      },
      "outputs": [
        {
          "name": "stdout",
          "output_type": "stream",
          "text": [
            "Volatility in the log returns of TSLA = 0.04491792081038267\n",
            "Volatility in the log returns of all stocks =\n",
            " Ticker\n",
            "TSLA    0.045008\n",
            "NVDA    0.034123\n",
            "META    0.022929\n",
            "AMZN    0.021501\n",
            "AAPL    0.019815\n",
            "GOOG    0.019647\n",
            "JPM     0.017553\n",
            "MSFT    0.015702\n",
            "XOM     0.015349\n",
            "JNJ     0.012190\n",
            "dtype: float64\n"
          ]
        },
        {
          "data": {
            "image/png": "[encoded data removed]",
            "text/plain": [
              "<Figure size 600x400 with 1 Axes>"
            ]
          },
          "metadata": {},
          "output_type": "display_data"
        }
      ],
      "source": [
        "# Compute standard deviation a.k.a. volatility a.k.a. risk of TSLA\n",
        "a=total_stock_log_returns['TSLA'].values\n",
        "# a = dfstock.iloc[0:,dfstock.columns.get_loc('TSLA')].values\n",
        "volatility_TSLA =np.std(a)\n",
        "print(f'Volatility in the log returns of TSLA = {volatility_TSLA}')\n",
        "\n",
        "# # #All stocks volatilities\n",
        "log_returns = np.log(dfstock / dfstock.shift(1)).dropna()#takes the original stock prices and divides by the shifted values, element by element divisions is done\n",
        "volatilities = log_returns.std()#the std function does standard deviation element by element in a vector,which is a column in a dataframe\n",
        "volatilities=volatilities.sort_values(ascending=False)\n",
        "print(f'Volatility in the log returns of all stocks =\\n {volatilities}')\n",
        "\n",
        "# # # # # Plot volatilities\n",
        "fig, ax = plt.subplots(1,1,figsize=(6,4))\n",
        "ax.bar(volatilities.index,volatilities.values)\n",
        "ax.set_xlabel('Company')\n",
        "ax.set_ylabel('Volatility')\n",
        "ax.set_title('Volatility (Std Dev) of Stocks')\n",
        "plt.show()\n"
      ]
    },
    {
      "cell_type": "code",
      "execution_count": 13,
      "metadata": {
        "colab": {
          "base_uri": "https://localhost:8080/",
          "height": 462
        },
        "id": "-H9WkORvY2SB",
        "outputId": "b087a286-80f7-46b0-a170-95221cefb541"
      },
      "outputs": [
        {
          "name": "stdout",
          "output_type": "stream",
          "text": [
            "[Text(0, 0, 'TSLA'), Text(1, 0, 'NVDA'), Text(2, 0, 'META'), Text(3, 0, 'AMZN'), Text(4, 0, 'AAPL'), Text(5, 0, 'GOOG'), Text(6, 0, 'JPM'), Text(7, 0, 'MSFT'), Text(8, 0, 'XOM'), Text(9, 0, 'JNJ')]\n"
          ]
        },
        {
          "name": "stderr",
          "output_type": "stream",
          "text": [
            "/tmp/ipython-input-1348717829.py:11: UserWarning: set_ticklabels() should only be used with a fixed number of ticks, i.e. after set_ticks() or using a FixedLocator.\n",
            "  ax.set_xticklabels(labels, rotation=45, ha='right') # 'ha' stands for horizontal alignment\n"
          ]
        },
        {
          "data": {
            "image/png": "[encoded data removed]",
            "text/plain": [
              "<Figure size 600x400 with 1 Axes>"
            ]
          },
          "metadata": {},
          "output_type": "display_data"
        }
      ],
      "source": [
        "fig, ax = plt.subplots(1,1,figsize=(6,4))\n",
        "ax.bar(volatilities.index,volatilities.values)\n",
        "ax.set_xlabel('Company')\n",
        "ax.set_ylabel('Volatility')\n",
        "ax.set_title('Volatility (Std Dev) of Stocks')\n",
        "\n",
        "# Get the current x-axis tick labels\n",
        "labels = ax.get_xticklabels()\n",
        "print(labels)\n",
        "# Set the new x-axis tick labels with 45-degree rotation and right alignment\n",
        "ax.set_xticklabels(labels, rotation=45, ha='right') # 'ha' stands for horizontal alignment\n",
        "\n",
        "plt.tight_layout() # Adjust layout to prevent labels from overlapping\n",
        "plt.show()"
      ]
    },
    {
      "cell_type": "code",
      "execution_count": 14,
      "metadata": {
        "colab": {
          "base_uri": "https://localhost:8080/"
        },
        "id": "7EurRmB4cw0w",
        "outputId": "c719df57-b92e-4205-dd85-b40a8948fd22"
      },
      "outputs": [
        {
          "name": "stdout",
          "output_type": "stream",
          "text": [
            "[[0.00202576 0.00051373]\n",
            " [0.00051373 0.00046231]]\n"
          ]
        }
      ],
      "source": [
        "a=total_stock_log_returns['TSLA'].values\n",
        "b=total_stock_log_returns['AMZN'].values\n",
        "a_m=a-np.mean(a)\n",
        "b_m=b-np.mean(b)\n",
        "Covariance_val=np.cov(a_m,b_m)\n",
        "print(Covariance_val)"
      ]
    },
    {
      "cell_type": "markdown",
      "metadata": {
        "id": "siWXCKtjBiAV"
      },
      "source": [
        "---\n",
        "\n",
        "The covariance between two vectors is a measure of how the two vectors co-vary about their respective means. It is calculated as the average dot product of their mean-centered versions. If $\\mathbf{a}_{mc}$ and $\\mathbf{b}_{mc}$ represent the mean-centered versions of vectors $\\mathbf{a}$ and $\\mathbf{b},$ respectively, then the covariance between $\\mathbf{a}$ and $\\mathbf{b}$ is denoted and calculated as $$\\text{cov}(\\mathbf{a},\\mathbf{b}) = \\frac{1}{n}\\times\\left(\\mathbf{a}_{mc}\\cdot\\mathbf{b}_{mc}\\right).$$\n",
        "\n",
        "In the component plot below of mean-centered heart rate and blood pressure values, it can be seen that the heart rates and blood pressures of the patients are co-varying similarly; that is, as the heart rate increases or decreases w.r.t. the average heart rate from one patient to another, the blood pressure also typically does the same w.r.t the average blood pressure.\n",
        "\n",
        "![Covariance](https://1drv.ms/i/c/37720f927b6ddc34/IQTLFeKh-TzhSpSSm3swzRsaAarPH-HPV-j9tmHPV7eiDuY?width=375&height=580)\n",
        "\n",
        "Calculate the covariance between the log returns of AAPL and AMZN. Does it indicate that those stocks co-vary similarly?\n",
        "\n",
        "Make component plots of the log returns of AAPL and AMZN. Do you see the stocks co-varying similarly?\n",
        "\n",
        "Modify the component plots to show the mean-centered log returns. Now do you see the stocks co-varying similarly?\n",
        "\n",
        "\n",
        "\n",
        "---"
      ]
    },
    {
      "cell_type": "code",
      "execution_count": 15,
      "metadata": {
        "colab": {
          "base_uri": "https://localhost:8080/",
          "height": 945
        },
        "id": "Z0TCVUv9B2RS",
        "outputId": "3832d166-ddf4-44de-eba5-5c289f8399be"
      },
      "outputs": [
        {
          "name": "stdout",
          "output_type": "stream",
          "text": [
            "Covariance between AAPL and AMZN log returns = [[0.00039262 0.00024667]\n",
            " [0.00024667 0.00046231]]\n",
            "correlation is=[[1.         0.57899388]\n",
            " [0.57899388 1.        ]]\n"
          ]
        },
        {
          "data": {
            "image/png": "[encoded data removed]",
            "text/plain": [
              "<Figure size 800x1000 with 1 Axes>"
            ]
          },
          "metadata": {},
          "output_type": "display_data"
        }
      ],
      "source": [
        "# Covariance between log returns of APPL and AMZN\n",
        "a = total_stock_log_returns['AAPL'].values\n",
        "a_mc = a-np.mean(a)\n",
        "b = total_stock_log_returns['AMZN'].values\n",
        "b_mc = b-np.mean(b)\n",
        "cov = np.cov(a_mc,b_mc)\n",
        "print(f'Covariance between AAPL and AMZN log returns = {cov}');\n",
        "print(f\"correlation is={np.corrcoef(a,b)}\")\n",
        "# Component plot of the log returns of AAPL and AMZN\n",
        "fig, ax = plt.subplots(1, 1, figsize = (8, 10))\n",
        "component_index = range(0, len(log_returns))\n",
        "ax.plot(component_index, a, color = 'red', marker = '*')\n",
        "ax.plot(component_index, b, color = 'blue', marker = '*')\n",
        "ax.set_xlabel('Day')\n",
        "ax.set_ylabel('Log Returns')\n",
        "ax.set_title( 'Log Returns of AAPL and AMZN');"
      ]
    },
    {
      "cell_type": "markdown",
      "metadata": {
        "id": "WJ2_XcGAY2Lc"
      },
      "source": [
        "---\n",
        "\n",
        "Compute the covariance between all pairs of log returns. The resulting matrix, denoted as $\\pmb{\\Sigma}$ is called the covariance matrix.\n",
        "\n",
        "From that matrix, are you able to identify stocks that co-vary?\n",
        "\n",
        "---"
      ]
    },
    {
      "cell_type": "code",
      "execution_count": 16,
      "metadata": {
        "colab": {
          "base_uri": "https://localhost:8080/",
          "height": 853
        },
        "id": "w8oGMdzlZB0G",
        "outputId": "95518cfa-c881-455e-e55c-07a74d8a2e35"
      },
      "outputs": [
        {
          "name": "stderr",
          "output_type": "stream",
          "text": [
            "/usr/local/lib/python3.12/dist-packages/pandas/core/internals/blocks.py:393: RuntimeWarning: invalid value encountered in sqrt\n",
            "  result = func(self.values, **kwargs)\n"
          ]
        },
        {
          "name": "stdout",
          "output_type": "stream",
          "text": [
            "[[0.01981464 0.01570589 0.01389194 0.0045481  0.01279165 0.01581012\n",
            "  0.01324637 0.01729084 0.02068775 0.01106303]\n",
            " [0.01570589 0.02150131 0.0164972         nan 0.01450863 0.01907272\n",
            "  0.01554127 0.02064565 0.02266557 0.00877934]\n",
            " [0.01389194 0.0164972  0.01964696        nan 0.01182197 0.01555533\n",
            "  0.01291827 0.01843428 0.02155056 0.00760764]\n",
            " [0.0045481         nan        nan 0.01219015 0.00431023        nan\n",
            "         nan        nan        nan 0.0062745 ]\n",
            " [0.01279165 0.01450863 0.01182197 0.00431023 0.01755321 0.01371847\n",
            "  0.01111037 0.01577949 0.01907612 0.01030393]\n",
            " [0.01581012 0.01907272 0.01555533        nan 0.01371847 0.02292891\n",
            "  0.01563172 0.02095113 0.02230969 0.00892756]\n",
            " [0.01324637 0.01554127 0.01291827        nan 0.01111037 0.01563172\n",
            "  0.0157021  0.01829477 0.01811724 0.00591572]\n",
            " [0.01729084 0.02064565 0.01843428        nan 0.01577949 0.02095113\n",
            "  0.01829477 0.0341232  0.02653582 0.01017236]\n",
            " [0.02068775 0.02266557 0.02155056        nan 0.01907612 0.02230969\n",
            "  0.01811724 0.02653582 0.04500839 0.01122044]\n",
            " [0.01106303 0.00877934 0.00760764 0.0062745  0.01030393 0.00892756\n",
            "  0.00591572 0.01017236 0.01122044 0.01534887]]\n"
          ]
        },
        {
          "data": {
            "image/png": "[encoded data removed]",
            "text/plain": [
              "<Figure size 640x480 with 2 Axes>"
            ]
          },
          "metadata": {},
          "output_type": "display_data"
        }
      ],
      "source": [
        "# Covariance matrix matrix of log returns\n",
        "covmatrix = total_stock_log_returns.cov()#.cov() will give the covariance of each feature with every other feature\n",
        "hehe=np.array(np.sqrt(covmatrix))\n",
        "print(np.array(np.sqrt(covmatrix)))#The diagonal values of this matrix is the variance of every company as such\n",
        "sns.heatmap(hehe,cmap='coolwarm',annot=True);\n",
        "plt.title(\"Cov Between Stocks\")\n",
        "plt.show()#try and make it upper triangular or lower triangular matrix"
      ]
    },
    {
      "cell_type": "markdown",
      "metadata": {
        "id": "4TBk1_U24Cy1"
      },
      "source": [
        "---\n",
        "\n",
        "The correlation coefficient between two vectors $\\mathbf{a}$ and $\\mathbf{c}$ is a normalized measure (between -1 and 1) of their covariance which is denoted and calculated as $$\\text{cor}(\\mathbf{a},\\mathbf{b}) = \\frac{\\left(\\mathbf{a}_{mc}\\cdot\\mathbf{b}_{mc}\\right)}{\\lVert \\mathbf{a}_{mc}\\rVert_2\\lVert\\mathbf{b}_{mc}\\rVert_2}.$$ Note that the cauchy-Schwarz inequality guarantees that the above quantity is between -1 and 1.\n",
        "\n",
        "If the correlation coefficient is close to 1, then as one vector's components increase, the other vectors components also increase typically along a straight line. If the correlation coefficient is close to -1, then as one vector's components increase, the other vectors components decrease typically along a straight line.\n",
        "\n",
        "Compute the correlation coefficient between the log returns of AAPL and AMZN. Does it indicate that those stocks co-vary similarly?\n",
        "\n",
        "Make a scatter plot of the log returns of AAPL and AMZN. Does the plot indicate that the two stocks co-vary similarly?\n",
        "\n",
        "---"
      ]
    },
    {
      "cell_type": "code",
      "execution_count": 17,
      "metadata": {
        "colab": {
          "base_uri": "https://localhost:8080/"
        },
        "id": "wDpcn57UubyB",
        "outputId": "7912539e-1a29-478c-fdb0-88facba2e270"
      },
      "outputs": [
        {
          "name": "stdout",
          "output_type": "stream",
          "text": [
            "Covariance between AAPL and AMZN log returns = [[0.00039262 0.00024667]\n",
            " [0.00024667 0.00046231]]\n",
            "Correlation coefficient between AAPL and AMZN log returns = [[1.         0.57899388]\n",
            " [0.57899388 1.        ]]\n"
          ]
        }
      ],
      "source": [
        "corr=np.corrcoef(a,b)\n",
        "print(f'Covariance between AAPL and AMZN log returns = {np.cov(a,b)}')\n",
        "print(f'Correlation coefficient between AAPL and AMZN log returns = {corr}')"
      ]
    },
    {
      "cell_type": "code",
      "execution_count": 18,
      "metadata": {
        "colab": {
          "base_uri": "https://localhost:8080/",
          "height": 446
        },
        "id": "LAY02c5Q7vgQ",
        "outputId": "8b16feb7-f8fe-4151-9ab7-f78620c0394b"
      },
      "outputs": [
        {
          "name": "stdout",
          "output_type": "stream",
          "text": [
            "Correlation coefficient between AAPL and AMZN log returns = [[1.         0.57899388]\n",
            " [0.57899388 1.        ]]\n"
          ]
        },
        {
          "data": {
            "image/png": "[encoded data removed]",
            "text/plain": [
              "<Figure size 600x400 with 1 Axes>"
            ]
          },
          "metadata": {},
          "output_type": "display_data"
        }
      ],
      "source": [
        "# Correlation between APPL and AMZN)\n",
        "corr = np.corrcoef(a,b)\n",
        "print(f'Correlation coefficient between AAPL and AMZN log returns = {corr}')\n",
        "\n",
        "# Scatter plot of the log returns of AAPL and AMZN\n",
        "fig, ax = plt.subplots(1, 1, figsize = (6, 4))#EACH POINT IS A DAY IN THIS PLOT\n",
        "ax.scatter( total_stock_log_returns['AMZN'],  total_stock_log_returns['AAPL'], 10)\n",
        "ax.set_xlabel('AMZN')\n",
        "ax.set_ylabel('AAPL')\n",
        "ax.set_title('Log Returns of Stock Prices');"
      ]
    },
    {
      "cell_type": "markdown",
      "metadata": {
        "id": "l1Mr7Em1Urnf"
      },
      "source": [
        "---\n",
        "\n",
        "Compute the correlation coefficient between all pairs of log returns and visualize the resulting correlation matrix. From that, identify stocks that co-vary typically.\n",
        "\n",
        "---"
      ]
    },
    {
      "cell_type": "code",
      "execution_count": 19,
      "metadata": {
        "colab": {
          "base_uri": "https://localhost:8080/",
          "height": 501
        },
        "id": "7WInIgqNUsH7",
        "outputId": "c24d45af-1e87-4d60-c39f-201c2c1cfbb8"
      },
      "outputs": [
        {
          "data": {
            "image/png": "[encoded data removed]",
            "text/plain": [
              "<Figure size 640x480 with 2 Axes>"
            ]
          },
          "metadata": {},
          "output_type": "display_data"
        }
      ],
      "source": [
        "# Correlation matrix of log returns\n",
        "corrmatrix = total_stock_log_returns.corr()\n",
        "#print(corrmatrix)\n",
        "sns.heatmap(corrmatrix,cmap='coolwarm',annot=True);\n",
        "plt.title(\"Correlation Between Stocks\")\n",
        "plt.show()#try and make it upper triangular or lower triangular matrix"
      ]
    },
    {
      "cell_type": "markdown",
      "metadata": {
        "id": "PEsZixQiWfeJ"
      },
      "source": [
        "---\n",
        "\n",
        "The average log return (or simply return) associated with a stock (AAPL) is simply the average or mean of the log returns of the that stock. For example, if we denote the log returns of AAPL as an $n$-vector $\\mathbf{a},$ then its average log return in pen & paper can be written as $$\\frac{1}{n}\\times\\left(a_1+a_2+\\cdots+a_n\\right) = \\frac{1}{n}\\times\\left(\\pmb{1}\\cdot\\mathbf{a}\\right),$$ where $\\pmb{1}$ is an $n$-vector whose elements are all equal to ones.\n",
        "\n",
        "For a blended investment on the 10 stocks (called a portfolio) with weights that add up to 1 and represented as the vector $$\\mathbf{w}=\\begin{bmatrix}w_1\\\\w_2\\\\w_3\\\\\\vdots\\\\w_{10}\\end{bmatrix},$$\n",
        "- the averate return can be shown to be $\\mathbf{w}\\cdot\\mathbf{r},$ where $\\mathbf{r}$ is the vector of average returns of all the 10 stocks;\n",
        "- the overall risk (or simply risk) in the portfolio is $\\mathbf{w}\\cdot\\left(\\pmb{\\Sigma}\\mathbf{w}\\right),$ which takes into account the individual volatility of each stock and their co-movement w.r.t. the other stocks.\n",
        "\n",
        "Try to come up with a portfolio (that is, values for the components of the weights vector $\\mathbf{w})$ that results in the best return-to-risk ratio. The best return-to-risk ratio is also referred to as the sharpe ratio.\n",
        "\n",
        "---"
      ]
    },
    {
      "cell_type": "code",
      "execution_count": 20,
      "metadata": {
        "colab": {
          "base_uri": "https://localhost:8080/"
        },
        "id": "oX-tMCqIc7ms",
        "outputId": "d807acb2-0034-4ee8-893d-d53dceee4e9b"
      },
      "outputs": [
        {
          "data": {
            "text/plain": [
              "np.float64(0.0008386630283837521)"
            ]
          },
          "execution_count": 20,
          "metadata": {},
          "output_type": "execute_result"
        }
      ],
      "source": [
        "# Optimizing portfolio\n",
        "#w=[0,0,0,0.55,0.15,0,0.15,0.15,0,0.0]\n",
        "#w=[0,0,0,0.55,0.1,0.05,0.15,0.15,0,0]#8.40\n",
        "#w=[0,0,0,0.55,0.1,0.1,0.1,0.15,0,0]#8.5\n",
        "#w=[0,0,0,0.55,0.1,0.15,0.08,0.13,0,0]\n",
        "w=[0,0,0,0.55,0.14,0.17,0.08,0.06,0,0] #9.03\n",
        "r=total_stock_log_returns.mean().values\n",
        "np.dot(w,r)"
      ]
    },
    {
      "cell_type": "code",
      "execution_count": 21,
      "metadata": {
        "colab": {
          "base_uri": "https://localhost:8080/"
        },
        "id": "ekGL7tAHKJPW",
        "outputId": "f6e6ab3a-103d-45fa-dfb8-0f5cabd9b75b"
      },
      "outputs": [
        {
          "data": {
            "text/plain": [
              "np.float64(0.0008386630283837521)"
            ]
          },
          "execution_count": 21,
          "metadata": {},
          "output_type": "execute_result"
        }
      ],
      "source": [
        "w=[0,0,0,0.55,0.14,0.17,0.08,0.06,0,0] #9.19\n",
        "r=total_stock_log_returns.mean().values\n",
        "np.dot(w,r)"
      ]
    },
    {
      "cell_type": "code",
      "execution_count": 22,
      "metadata": {
        "colab": {
          "base_uri": "https://localhost:8080/"
        },
        "id": "n1RqY4QAJtyG",
        "outputId": "e2af0bc7-1bbc-4526-ac99-fdd309addc73"
      },
      "outputs": [
        {
          "data": {
            "text/plain": [
              "1.0"
            ]
          },
          "execution_count": 22,
          "metadata": {},
          "output_type": "execute_result"
        }
      ],
      "source": [
        "\n",
        "sum(w)"
      ]
    },
    {
      "cell_type": "code",
      "execution_count": 23,
      "metadata": {
        "id": "bvisTnEE_Jsc"
      },
      "outputs": [],
      "source": [
        "a=np.dot(np.array(total_stock_log_returns.cov()),w)"
      ]
    },
    {
      "cell_type": "code",
      "execution_count": 24,
      "metadata": {
        "colab": {
          "base_uri": "https://localhost:8080/"
        },
        "id": "5J4QGJJA_Z9L",
        "outputId": "5894783a-fc15-4b30-84fd-954aaaedec4f"
      },
      "outputs": [
        {
          "data": {
            "text/plain": [
              "np.float64(9.122767184010879e-05)"
            ]
          },
          "execution_count": 24,
          "metadata": {},
          "output_type": "execute_result"
        }
      ],
      "source": [
        "np.dot(w,a)"
      ]
    },
    {
      "cell_type": "code",
      "execution_count": 25,
      "metadata": {
        "colab": {
          "base_uri": "https://localhost:8080/"
        },
        "id": "njR92-pIFlz1",
        "outputId": "21970fbc-f818-4e2b-d0e9-343c091e5c27"
      },
      "outputs": [
        {
          "data": {
            "text/plain": [
              "np.float64(9.193077182257204)"
            ]
          },
          "execution_count": 25,
          "metadata": {},
          "output_type": "execute_result"
        }
      ],
      "source": [
        "np.dot(w,r)/np.dot(w,a)"
      ]
    },
    {
      "cell_type": "code",
      "execution_count": 26,
      "metadata": {
        "colab": {
          "base_uri": "https://localhost:8080/",
          "height": 429
        },
        "id": "TVy_oTnr_edr",
        "outputId": "fa02f5bb-57e0-49e4-9421-5d2b7db9b2ce"
      },
      "outputs": [
        {
          "data": {
            "text/html": [
              "<div>\n",
              "<style scoped>\n",
              "    .dataframe tbody tr th:only-of-type {\n",
              "        vertical-align: middle;\n",
              "    }\n",
              "\n",
              "    .dataframe tbody tr th {\n",
              "        vertical-align: top;\n",
              "    }\n",
              "\n",
              "    .dataframe thead th {\n",
              "        text-align: right;\n",
              "    }\n",
              "</style>\n",
              "<table border=\"1\" class=\"dataframe\">\n",
              "  <thead>\n",
              "    <tr style=\"text-align: right;\">\n",
              "      <th></th>\n",
              "      <th>0</th>\n",
              "    </tr>\n",
              "    <tr>\n",
              "      <th>Ticker</th>\n",
              "      <th></th>\n",
              "    </tr>\n",
              "  </thead>\n",
              "  <tbody>\n",
              "    <tr>\n",
              "      <th>AAPL</th>\n",
              "      <td>-0.000185</td>\n",
              "    </tr>\n",
              "    <tr>\n",
              "      <th>AMZN</th>\n",
              "      <td>0.000966</td>\n",
              "    </tr>\n",
              "    <tr>\n",
              "      <th>GOOG</th>\n",
              "      <td>0.000468</td>\n",
              "    </tr>\n",
              "    <tr>\n",
              "      <th>JNJ</th>\n",
              "      <td>0.000227</td>\n",
              "    </tr>\n",
              "    <tr>\n",
              "      <th>JPM</th>\n",
              "      <td>0.001510</td>\n",
              "    </tr>\n",
              "    <tr>\n",
              "      <th>META</th>\n",
              "      <td>0.001784</td>\n",
              "    </tr>\n",
              "    <tr>\n",
              "      <th>MSFT</th>\n",
              "      <td>0.001019</td>\n",
              "    </tr>\n",
              "    <tr>\n",
              "      <th>NVDA</th>\n",
              "      <td>0.001960</td>\n",
              "    </tr>\n",
              "    <tr>\n",
              "      <th>TSLA</th>\n",
              "      <td>0.001413</td>\n",
              "    </tr>\n",
              "    <tr>\n",
              "      <th>XOM</th>\n",
              "      <td>-0.000049</td>\n",
              "    </tr>\n",
              "  </tbody>\n",
              "</table>\n",
              "</div><br><label><b>dtype:</b> float64</label>"
            ],
            "text/plain": [
              "Ticker\n",
              "AAPL   -0.000185\n",
              "AMZN    0.000966\n",
              "GOOG    0.000468\n",
              "JNJ     0.000227\n",
              "JPM     0.001510\n",
              "META    0.001784\n",
              "MSFT    0.001019\n",
              "NVDA    0.001960\n",
              "TSLA    0.001413\n",
              "XOM    -0.000049\n",
              "dtype: float64"
            ]
          },
          "execution_count": 26,
          "metadata": {},
          "output_type": "execute_result"
        }
      ],
      "source": [
        "total_stock_log_returns.mean()"
      ]
    },
    {
      "cell_type": "code",
      "execution_count": 32,
      "metadata": {
        "colab": {
          "base_uri": "https://localhost:8080/"
        },
        "id": "XkinEmiB_N9T",
        "outputId": "02bd3b77-0163-4aa0-a154-bc9232615b5e"
      },
      "outputs": [
        {
          "name": "stdout",
          "output_type": "stream",
          "text": [
            "Optimized Weights: [0.         0.         0.         0.62080219 0.11709985 0.20164822\n",
            " 0.         0.06044974 0.         0.        ]\n",
            "Best Return: 0.0007959642058675148\n",
            "Best Risk: 9.310295729167303e-05\n",
            "Max Sharpe Ratio: 8.549290259104417\n"
          ]
        }
      ],
      "source": [
        "import numpy as np\n",
        "\n",
        "# Initial weights and data\n",
        "w = np.array([0,0,0,0.55,0.14,0.17,0.08,0.06,0,0], dtype=float)\n",
        "r = total_stock_log_returns.mean().values\n",
        "Sigma = np.array(total_stock_log_returns.cov())\n",
        "\n",
        "lr = 0.001   # smaller learning rate for stability\n",
        "max_iter = 10000\n",
        "tol = 1e-8\n",
        "\n",
        "for i in range(max_iter):\n",
        "    num = np.dot(w, r)\n",
        "    den = np.dot(w, np.dot(Sigma, w))\n",
        "\n",
        "    # Correct gradient formula\n",
        "    grad = (r / den) - ((num * (2 * np.dot(Sigma, w))) / (den**2))\n",
        "\n",
        "    # Update weights\n",
        "    w_new = w + lr * grad\n",
        "\n",
        "    # Project weights back to simplex (sum=1, non-negativity)\n",
        "    w_new = np.maximum(w_new, 0)\n",
        "    w_new = w_new / np.sum(w_new)\n",
        "\n",
        "    # Check convergence\n",
        "    if np.linalg.norm(w_new - w) < tol:\n",
        "        break\n",
        "    w = w_new\n",
        "\n",
        "best_return = np.dot(w, r)\n",
        "best_risk = np.dot(w, np.dot(Sigma, w))\n",
        "sharpe_ratio = best_return / best_risk\n",
        "\n",
        "print(\"Optimized Weights:\", w)\n",
        "print(\"Best Return:\", best_return)\n",
        "print(\"Best Risk:\", best_risk)\n",
        "print(\"Max Sharpe Ratio:\", sharpe_ratio)\n"
      ]
    },
    {
      "cell_type": "code",
      "execution_count": 33,
      "metadata": {
        "colab": {
          "base_uri": "https://localhost:8080/"
        },
        "id": "7hzUWYem_Jkc",
        "outputId": "4058869b-7fc3-40f9-8a88-e28325920a85"
      },
      "outputs": [
        {
          "name": "stdout",
          "output_type": "stream",
          "text": [
            "\n",
            "--- Portfolio Optimization ---\n",
            "Optimal Long-Only Weights: [0.     0.     0.     0.4526 0.206  0.1189 0.1995 0.023  0.     0.    ]\n",
            "Best Return: 0.0009\n",
            "Best Risk: 0.0001\n",
            "Max Sharpe Ratio: 9.5679\n"
          ]
        }
      ],
      "source": [
        "import numpy as np\n",
        "from scipy.optimize import minimize\n",
        "\n",
        "# ---------- Function Definitions ----------\n",
        "def neg_sharpe(w, r, Sigma):\n",
        "    ret = np.dot(w, r)\n",
        "    risk = np.dot(w, np.dot(Sigma, w))\n",
        "    return -(ret / risk)\n",
        "\n",
        "def optimize_portfolio(r, Sigma, long_only=True):\n",
        "    n = len(r)\n",
        "    ones = np.ones(n)\n",
        "\n",
        "    # Constraints\n",
        "    constraints = [{'type': 'eq', 'fun': lambda w: np.sum(w) - 1}]\n",
        "    bounds = tuple((0, 1) for _ in range(n)) if long_only else tuple((-1, 1) for _ in range(n))\n",
        "\n",
        "    # Initial guess: equal weights\n",
        "    w0 = np.ones(n) / n\n",
        "\n",
        "    result = minimize(\n",
        "        neg_sharpe, w0, args=(r, Sigma),\n",
        "        method='SLSQP',\n",
        "        bounds=bounds,\n",
        "        constraints=constraints,\n",
        "        options={'maxiter': 10000, 'ftol': 1e-12, 'disp': False}\n",
        "    )\n",
        "\n",
        "    if not result.success:\n",
        "        raise ValueError(\"Optimization did not converge: \", result.message)\n",
        "\n",
        "    # Extract optimal weights and Sharpe ratio\n",
        "    w_opt = result.x\n",
        "    best_return = np.dot(w_opt, r)\n",
        "    best_risk = np.dot(w_opt, np.dot(Sigma, w_opt))\n",
        "    sharpe_ratio = best_return / best_risk\n",
        "\n",
        "    return w_opt, best_return, best_risk, sharpe_ratio\n",
        "\n",
        "# ---------- Run Optimization ----------\n",
        "w_opt, best_return, best_risk, sharpe_ratio = optimize_portfolio(r, Sigma, long_only=True)\n",
        "\n",
        "print(\"\\n--- Portfolio Optimization ---\")\n",
        "print(\"Optimal Long-Only Weights:\", np.round(w_opt, 4))\n",
        "print(\"Best Return:\", round(best_return, 4))\n",
        "print(\"Best Risk:\", round(best_risk, 4))\n",
        "print(\"Max Sharpe Ratio:\", round(sharpe_ratio, 4))\n"
      ]
    },
    {
      "cell_type": "code",
      "execution_count": 34,
      "metadata": {
        "colab": {
          "base_uri": "https://localhost:8080/"
        },
        "id": "UJfsEC2oAnJr",
        "outputId": "09d03e29-7088-41e4-b2d8-b4e3db7b4e5d"
      },
      "outputs": [
        {
          "name": "stdout",
          "output_type": "stream",
          "text": [
            "Optimal Long-Only Weights: [1.09259252e-13 6.22035210e-15 0.00000000e+00 4.52592090e-01\n",
            " 2.05996939e-01 1.18883577e-01 1.99542844e-01 2.29845492e-02\n",
            " 2.21471288e-14 0.00000000e+00]\n",
            "Best Return: 0.00087429669960386\n",
            "Best Risk: 9.137856927801118e-05\n",
            "Max Sharpe Ratio: 9.567852796467953\n"
          ]
        }
      ],
      "source": [
        "from scipy.optimize import minimize\n",
        "\n",
        "n = len(r)\n",
        "ones = np.ones(n)\n",
        "\n",
        "def neg_sharpe(w, r, Sigma):\n",
        "    ret = np.dot(w, r)\n",
        "    risk = np.dot(w, np.dot(Sigma, w))\n",
        "    return -(ret / risk)  # Negative for maximization\n",
        "\n",
        "constraints = (\n",
        "    {'type': 'eq', 'fun': lambda w: np.sum(w) - 1},  # sum of weights = 1\n",
        ")\n",
        "bounds = tuple((0, 1) for _ in range(n))  # long-only\n",
        "\n",
        "w0 = np.ones(n) / n\n",
        "\n",
        "result = minimize(neg_sharpe, w0, args=(r, Sigma), method='SLSQP',\n",
        "                  bounds=bounds, constraints=constraints)\n",
        "\n",
        "w_opt = result.x\n",
        "best_return = np.dot(w_opt, r)\n",
        "best_risk = np.dot(w_opt, np.dot(Sigma, w_opt))\n",
        "sharpe_ratio = best_return / best_risk\n",
        "\n",
        "print(\"Optimal Long-Only Weights:\", w_opt)\n",
        "print(\"Best Return:\", best_return)\n",
        "print(\"Best Risk:\", best_risk)\n",
        "print(\"Max Sharpe Ratio:\", sharpe_ratio)\n"
      ]
    },
    {
      "cell_type": "code",
      "execution_count": 35,
      "metadata": {
        "colab": {
          "base_uri": "https://localhost:8080/"
        },
        "id": "rhoN1iXHIWdf",
        "outputId": "ffbcdde5-6793-44ee-b787-745131b1ef57"
      },
      "outputs": [
        {
          "name": "stdout",
          "output_type": "stream",
          "text": [
            "\n",
            "--- Portfolio Optimization ---\n",
            "Optimal Long-Only Weights: [0.     0.     0.     0.4526 0.206  0.1189 0.1995 0.023  0.     0.    ]\n",
            "Best Return: 0.0009\n",
            "Best Risk: 0.0001\n",
            "Max Sharpe Ratio: 9.5679\n"
          ]
        }
      ],
      "source": [
        "import numpy as np\n",
        "from scipy.optimize import minimize\n",
        "\n",
        "# ---------- Function Definitions ----------\n",
        "def neg_sharpe(w, r, Sigma):\n",
        "    ret = np.dot(w, r)\n",
        "    risk = np.dot(w, np.dot(Sigma, w))\n",
        "    return -(ret / risk)\n",
        "\n",
        "def optimize_portfolio(r, Sigma, long_only=True):\n",
        "    n = len(r)\n",
        "    ones = np.ones(n)\n",
        "\n",
        "    # Constraints\n",
        "    constraints = [{'type': 'eq', 'fun': lambda w: np.sum(w) - 1}]\n",
        "    bounds = tuple((0, 1) for _ in range(n)) if long_only else tuple((-1, 1) for _ in range(n))\n",
        "\n",
        "    # Initial guess: equal weights\n",
        "    w0 = np.ones(n) / n\n",
        "\n",
        "    result = minimize(\n",
        "        neg_sharpe, w0, args=(r, Sigma),\n",
        "        method='SLSQP',\n",
        "        bounds=bounds,\n",
        "        constraints=constraints,\n",
        "        options={'maxiter': 10000, 'ftol': 1e-12, 'disp': False}\n",
        "    )\n",
        "\n",
        "    if not result.success:\n",
        "        raise ValueError(\"Optimization did not converge: \", result.message)\n",
        "\n",
        "    # Extract optimal weights and Sharpe ratio\n",
        "    w_opt = result.x\n",
        "    best_return = np.dot(w_opt, r)\n",
        "    best_risk = np.dot(w_opt, np.dot(Sigma, w_opt))\n",
        "    sharpe_ratio = best_return / best_risk\n",
        "\n",
        "    return w_opt, best_return, best_risk, sharpe_ratio\n",
        "\n",
        "# ---------- Run Optimization ----------\n",
        "w_opt, best_return, best_risk, sharpe_ratio = optimize_portfolio(r, Sigma, long_only=True)\n",
        "\n",
        "print(\"\\n--- Portfolio Optimization ---\")\n",
        "print(\"Optimal Long-Only Weights:\", np.round(w_opt, 4))\n",
        "print(\"Best Return:\", round(best_return, 4))\n",
        "print(\"Best Risk:\", round(best_risk, 4))\n",
        "print(\"Max Sharpe Ratio:\", round(sharpe_ratio, 4))\n"
      ]
    },
    {
      "cell_type": "code",
      "execution_count": 36,
      "metadata": {
        "colab": {
          "base_uri": "https://localhost:8080/"
        },
        "id": "VBRjiLWBJMOv",
        "outputId": "d1980207-f2be-49e9-deab-f2a88b6f574a"
      },
      "outputs": [
        {
          "name": "stdout",
          "output_type": "stream",
          "text": [
            "Epoch 0: Sharpe = 3.778578\n",
            "Epoch 1000: Sharpe = 9.524349\n",
            "Epoch 2000: Sharpe = 9.554893\n",
            "Epoch 3000: Sharpe = 9.562097\n",
            "Epoch 4000: Sharpe = 9.564885\n",
            "Epoch 5000: Sharpe = 9.566210\n",
            "Epoch 6000: Sharpe = 9.566909\n",
            "Epoch 7000: Sharpe = 9.567296\n",
            "Epoch 8000: Sharpe = 9.567521\n",
            "Epoch 9000: Sharpe = 9.567655\n",
            "\n",
            "--- Optimization Complete ---\n",
            "Optimal Weights: [2.1113042e-06 2.1889675e-06 3.8693902e-06 4.5256680e-01 2.0600303e-01\n",
            " 1.1889460e-01 1.9954278e-01 2.2979511e-02 3.1482768e-06 1.9286113e-06]\n",
            "Max Sharpe Ratio: 9.567731857299805\n"
          ]
        }
      ],
      "source": [
        "import torch\n",
        "\n",
        "# Input data (replace these with your real values)\n",
        "r = torch.tensor(r, dtype=torch.float32)                  # returns vector\n",
        "Sigma = torch.tensor(Sigma, dtype=torch.float32)          # covariance matrix\n",
        "n = len(r)\n",
        "\n",
        "# Initialize weights (requires gradient for backprop)\n",
        "w = torch.nn.Parameter(torch.ones(n) / n)\n",
        "\n",
        "# Optimizer\n",
        "optimizer = torch.optim.Adam([w], lr=0.01)\n",
        "\n",
        "# Training loop\n",
        "for epoch in range(10000):\n",
        "    optimizer.zero_grad()\n",
        "\n",
        "    # Ensure weights are positive and sum to 1 (softmax)\n",
        "    w_normalized = torch.nn.functional.softmax(w, dim=0)\n",
        "\n",
        "    # Calculate return and risk\n",
        "    portfolio_return = torch.dot(w_normalized, r)\n",
        "    portfolio_risk = torch.dot(w_normalized, torch.mv(Sigma, w_normalized))\n",
        "\n",
        "    # Loss = negative Sharpe\n",
        "    loss = -(portfolio_return / portfolio_risk)\n",
        "\n",
        "    # Backpropagation\n",
        "    loss.backward()\n",
        "    optimizer.step()\n",
        "\n",
        "    # Logging every 1000 epochs\n",
        "    if epoch % 1000 == 0:\n",
        "        print(f\"Epoch {epoch}: Sharpe = {-loss.item():.6f}\")\n",
        "\n",
        "# Final optimal weights\n",
        "w_opt = torch.nn.functional.softmax(w, dim=0).detach().numpy()\n",
        "final_sharpe = (-loss).item()\n",
        "\n",
        "print(\"\\n--- Optimization Complete ---\")\n",
        "print(\"Optimal Weights:\", w_opt)\n",
        "print(\"Max Sharpe Ratio:\", final_sharpe)\n"
      ]
    },
    {
      "cell_type": "code",
      "execution_count": null,
      "metadata": {
        "id": "4zGy8qKM-6mO"
      },
      "outputs": [],
      "source": []
    }
  ],
  "metadata": {
    "colab": {
      "provenance": []
    },
    "kernelspec": {
      "display_name": "ALA",
      "language": "python",
      "name": "python3"
    },
    "language_info": {
      "codemirror_mode": {
        "name": "ipython",
        "version": 3
      },
      "file_extension": ".py",
      "mimetype": "text/x-python",
      "name": "python",
      "nbconvert_exporter": "python",
      "pygments_lexer": "ipython3",
      "version": "3.9.23"
    }
  },
  "nbformat": 4,
  "nbformat_minor": 0
}
